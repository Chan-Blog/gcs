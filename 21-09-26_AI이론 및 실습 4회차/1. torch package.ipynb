{
  "nbformat": 4,
  "nbformat_minor": 0,
  "metadata": {
    "accelerator": "GPU",
    "colab": {
      "name": "1. torch package.ipynb",
      "provenance": [],
      "collapsed_sections": [
        "tRLzDccDhcoX",
        "EmcZ5H5xhcoY"
      ]
    },
    "kernelspec": {
      "display_name": "Python 3",
      "language": "python",
      "name": "python3"
    },
    "language_info": {
      "codemirror_mode": {
        "name": "ipython",
        "version": 3
      },
      "file_extension": ".py",
      "mimetype": "text/x-python",
      "name": "python",
      "nbconvert_exporter": "python",
      "pygments_lexer": "ipython3",
      "version": "3.8.5"
    },
    "latex_envs": {
      "LaTeX_envs_menu_present": true,
      "autoclose": false,
      "autocomplete": true,
      "bibliofile": "biblio.bib",
      "cite_by": "apalike",
      "current_citInitial": 1,
      "eqLabelWithNumbers": true,
      "eqNumInitial": 1,
      "hotkeys": {
        "equation": "Ctrl-E",
        "itemize": "Ctrl-I"
      },
      "labels_anchors": false,
      "latex_user_defs": false,
      "report_style_numbering": false,
      "user_envs_cfg": false
    },
    "toc": {
      "base_numbering": 1,
      "nav_menu": {},
      "number_sections": false,
      "sideBar": true,
      "skip_h1_title": false,
      "title_cell": "Table of Contents",
      "title_sidebar": "Contents",
      "toc_cell": false,
      "toc_position": {},
      "toc_section_display": true,
      "toc_window_display": false
    },
    "varInspector": {
      "cols": {
        "lenName": 16,
        "lenType": 16,
        "lenVar": 40
      },
      "kernels_config": {
        "python": {
          "delete_cmd_postfix": "",
          "delete_cmd_prefix": "del ",
          "library": "var_list.py",
          "varRefreshCmd": "print(var_dic_list())"
        },
        "r": {
          "delete_cmd_postfix": ") ",
          "delete_cmd_prefix": "rm(",
          "library": "var_list.r",
          "varRefreshCmd": "cat(var_dic_list()) "
        }
      },
      "types_to_exclude": [
        "module",
        "function",
        "builtin_function_or_method",
        "instance",
        "_Feature"
      ],
      "window_display": false
    }
  },
  "cells": [
    {
      "cell_type": "markdown",
      "metadata": {
        "id": "b-K6INxahcoH"
      },
      "source": [
        "# Pytorch"
      ]
    },
    {
      "cell_type": "markdown",
      "metadata": {
        "id": "39yuqw-ShcoK"
      },
      "source": [
        "# Pytorch Packages\n",
        "\n",
        " - **torch**\n",
        " - torch.autograd\n",
        " - torch.nn\n",
        " - torch.optim\n",
        " - torch.multiprocessing\n",
        " - torch.utils"
      ]
    },
    {
      "cell_type": "markdown",
      "metadata": {
        "id": "xDEiWc3ehcoK"
      },
      "source": [
        "# Pytorch Tensor Basic Usage\n",
        "\n",
        "- Create Tensor\n",
        "- Indexing, Joining, Slicing\n",
        "- Initialization\n",
        "- Math Operations"
      ]
    },
    {
      "cell_type": "markdown",
      "metadata": {
        "id": "K88rdd8xhcoL"
      },
      "source": [
        "## 1. Create Tensor"
      ]
    },
    {
      "cell_type": "markdown",
      "metadata": {
        "id": "50F4CWBjhcoL"
      },
      "source": [
        "### 1) random numbers"
      ]
    },
    {
      "cell_type": "code",
      "metadata": {
        "ExecuteTime": {
          "end_time": "2018-10-28T08:41:16.573579Z",
          "start_time": "2018-10-28T08:41:16.262616Z"
        },
        "id": "hcdlLKZWhcoL"
      },
      "source": [
        "from __future__ import print_function\n",
        "import torch"
      ],
      "execution_count": 2,
      "outputs": []
    },
    {
      "cell_type": "code",
      "metadata": {
        "id": "fQKmycSFHuuO"
      },
      "source": [
        "import numpy as np"
      ],
      "execution_count": 3,
      "outputs": []
    },
    {
      "cell_type": "code",
      "metadata": {
        "ExecuteTime": {
          "end_time": "2018-10-18T13:49:52.638893Z",
          "start_time": "2018-10-18T13:49:52.631452Z"
        },
        "id": "5nWt8vY2hcoM",
        "outputId": "fe5ed051-d2c4-4b90-dad8-b9bca62468fd",
        "colab": {
          "base_uri": "https://localhost:8080/"
        }
      },
      "source": [
        "# torch.rand(size)\n",
        "# 0~1 사이의 연속균등분포에서 값을 뽑아 5x3 텐서를 생성합니다. ~U(0,1)\n",
        "x = torch.rand(2,3)\n",
        "x"
      ],
      "execution_count": 3,
      "outputs": [
        {
          "output_type": "execute_result",
          "data": {
            "text/plain": [
              "tensor([[0.0398, 0.8877, 0.3485],\n",
              "        [0.9069, 0.9101, 0.8245]])"
            ]
          },
          "metadata": {},
          "execution_count": 3
        }
      ]
    },
    {
      "cell_type": "code",
      "metadata": {
        "id": "wEhuSYgyHzkR",
        "outputId": "43a08ee8-bf47-4677-fc10-26e2e33bfaf9",
        "colab": {
          "base_uri": "https://localhost:8080/"
        }
      },
      "source": [
        "x = np.random.rand(2,3)\n",
        "x"
      ],
      "execution_count": 4,
      "outputs": [
        {
          "output_type": "execute_result",
          "data": {
            "text/plain": [
              "array([[0.09898822, 0.23048509, 0.77560868],\n",
              "       [0.86485078, 0.60619465, 0.41650412]])"
            ]
          },
          "metadata": {},
          "execution_count": 4
        }
      ]
    },
    {
      "cell_type": "code",
      "metadata": {
        "id": "FFzSn-ukIRGx",
        "outputId": "124dca38-9eb1-4bef-8a4d-d387052f8889",
        "colab": {
          "base_uri": "https://localhost:8080/"
        }
      },
      "source": [
        "# torch.randn(size)\n",
        "# randn의 경우 평균은 0, 표준편차는 1인 정규분포에서 값을 가져옵니다 ~z(0,1)\n",
        "x = torch.randn(2,3)\n",
        "x"
      ],
      "execution_count": 7,
      "outputs": [
        {
          "output_type": "execute_result",
          "data": {
            "text/plain": [
              "tensor([[ 0.1385,  1.2593, -0.5954],\n",
              "        [ 0.1113,  0.7883,  0.3480]])"
            ]
          },
          "metadata": {},
          "execution_count": 7
        }
      ]
    },
    {
      "cell_type": "code",
      "metadata": {
        "id": "OvuzqxDbH83N",
        "outputId": "f470d8fd-0214-405a-d757-b098b2f9e5d6",
        "colab": {
          "base_uri": "https://localhost:8080/"
        }
      },
      "source": [
        "x = np.random.randn(2,3)\n",
        "x"
      ],
      "execution_count": 8,
      "outputs": [
        {
          "output_type": "execute_result",
          "data": {
            "text/plain": [
              "array([[-0.16151086,  2.48393292, -0.74602962],\n",
              "       [ 0.5072721 ,  1.24006703,  1.51520934]])"
            ]
          },
          "metadata": {},
          "execution_count": 8
        }
      ]
    },
    {
      "cell_type": "code",
      "metadata": {
        "ExecuteTime": {
          "end_time": "2018-10-18T13:49:53.762464Z",
          "start_time": "2018-10-18T13:49:53.757526Z"
        },
        "id": "-guYdUoZhcoO",
        "outputId": "bba52a02-aed1-414d-a3ac-5dcff29ac8b1",
        "colab": {
          "base_uri": "https://localhost:8080/"
        }
      },
      "source": [
        "# torch.randperm(n)\n",
        "# 0부터 n-1까지 1씩 늘어나며 값을 랜덤으로 정렬합니다.\n",
        "x = torch.randperm(5)\n",
        "x"
      ],
      "execution_count": 5,
      "outputs": [
        {
          "output_type": "execute_result",
          "data": {
            "text/plain": [
              "tensor([0, 2, 1, 4, 3])"
            ]
          },
          "metadata": {},
          "execution_count": 5
        }
      ]
    },
    {
      "cell_type": "markdown",
      "metadata": {
        "id": "6AB7yoM_hcoP"
      },
      "source": [
        "### 2) empty, zeros, ones, arange, max"
      ]
    },
    {
      "cell_type": "code",
      "metadata": {
        "ExecuteTime": {
          "end_time": "2018-10-18T13:49:54.685975Z",
          "start_time": "2018-10-18T13:49:54.681021Z"
        },
        "id": "yfaQMLafhcoP",
        "outputId": "5e511180-350b-47ab-f0a3-02c56e661465",
        "colab": {
          "base_uri": "https://localhost:8080/"
        }
      },
      "source": [
        "# torch.empty(size)\n",
        "# 원하는 크기의 아주 작은 값을 가진 텐서를 생성합니다. dtype은 input에 따라 결정됩니다.\n",
        "x = torch.empty(2,3)\n",
        "x"
      ],
      "execution_count": 10,
      "outputs": [
        {
          "output_type": "execute_result",
          "data": {
            "text/plain": [
              "tensor([[-1.8965e+09,  3.0739e-41,  0.0000e+00],\n",
              "        [ 0.0000e+00,  0.0000e+00,  0.0000e+00]])"
            ]
          },
          "metadata": {},
          "execution_count": 10
        }
      ]
    },
    {
      "cell_type": "code",
      "metadata": {
        "id": "2JtCX1t-hcoQ",
        "outputId": "d5510312-f568-4253-ad4b-00da808a9877",
        "colab": {
          "base_uri": "https://localhost:8080/"
        }
      },
      "source": [
        "x.size()"
      ],
      "execution_count": 11,
      "outputs": [
        {
          "output_type": "execute_result",
          "data": {
            "text/plain": [
              "torch.Size([2, 3])"
            ]
          },
          "metadata": {},
          "execution_count": 11
        }
      ]
    },
    {
      "cell_type": "code",
      "metadata": {
        "ExecuteTime": {
          "end_time": "2018-10-18T13:49:55.172440Z",
          "start_time": "2018-10-18T13:49:55.168472Z"
        },
        "id": "d2nA0B2mhcoQ",
        "outputId": "4d1cbd21-57fb-4a08-a330-d93d40267a74",
        "colab": {
          "base_uri": "https://localhost:8080/"
        }
      },
      "source": [
        "# torch.zeros(size)\n",
        "# 원하는 크기의 0 값을 가진 텐서를 생성합니다.\n",
        "x = torch.zeros(2,3)\n",
        "x[0]"
      ],
      "execution_count": 12,
      "outputs": [
        {
          "output_type": "execute_result",
          "data": {
            "text/plain": [
              "tensor([0., 0., 0.])"
            ]
          },
          "metadata": {},
          "execution_count": 12
        }
      ]
    },
    {
      "cell_type": "code",
      "metadata": {
        "ExecuteTime": {
          "end_time": "2018-10-18T13:49:55.722504Z",
          "start_time": "2018-10-18T13:49:55.718536Z"
        },
        "id": "dnIuuBWKhcoQ",
        "outputId": "21754214-8554-4329-d4cf-0d1e52753423",
        "colab": {
          "base_uri": "https://localhost:8080/"
        }
      },
      "source": [
        "# torch.ones(size)\n",
        "# 원하는 크기의 1의 값을 가진 텐서를 생성합니다.\n",
        "x = torch.ones(2,3)\n",
        "x"
      ],
      "execution_count": 13,
      "outputs": [
        {
          "output_type": "execute_result",
          "data": {
            "text/plain": [
              "tensor([[1., 1., 1.],\n",
              "        [1., 1., 1.]])"
            ]
          },
          "metadata": {},
          "execution_count": 13
        }
      ]
    },
    {
      "cell_type": "code",
      "metadata": {
        "ExecuteTime": {
          "end_time": "2018-10-18T13:49:56.246613Z",
          "start_time": "2018-10-18T13:49:56.238677Z"
        },
        "id": "Llh7XGs-hcoR",
        "outputId": "5a69e420-12ce-4094-f832-a68c58b65bd6",
        "colab": {
          "base_uri": "https://localhost:8080/"
        }
      },
      "source": [
        "# torch.arange(start,end,step=1)\n",
        "# start값부터 end값 전까지 step만큼 더하며 텐서를 생성합니다.\n",
        "x = torch.arange(0,3,step=0.5)\n",
        "x"
      ],
      "execution_count": 14,
      "outputs": [
        {
          "output_type": "execute_result",
          "data": {
            "text/plain": [
              "tensor([0.0000, 0.5000, 1.0000, 1.5000, 2.0000, 2.5000])"
            ]
          },
          "metadata": {},
          "execution_count": 14
        }
      ]
    },
    {
      "cell_type": "code",
      "metadata": {
        "id": "59kT1NhwJZkc",
        "outputId": "8e19959b-4586-4646-f255-2daece7ef762",
        "colab": {
          "base_uri": "https://localhost:8080/"
        }
      },
      "source": [
        "y  = np.arange(0,3,step=0.5)\n",
        "y"
      ],
      "execution_count": 16,
      "outputs": [
        {
          "output_type": "execute_result",
          "data": {
            "text/plain": [
              "array([0. , 0.5, 1. , 1.5, 2. , 2.5])"
            ]
          },
          "metadata": {},
          "execution_count": 16
        }
      ]
    },
    {
      "cell_type": "code",
      "metadata": {
        "id": "of7Y4weuhcoR",
        "outputId": "c426bf90-771d-4129-ba77-b34ec3cd9c5b",
        "colab": {
          "base_uri": "https://localhost:8080/"
        }
      },
      "source": [
        "y.shape == x.size()"
      ],
      "execution_count": 17,
      "outputs": [
        {
          "output_type": "execute_result",
          "data": {
            "text/plain": [
              "True"
            ]
          },
          "metadata": {},
          "execution_count": 17
        }
      ]
    },
    {
      "cell_type": "code",
      "metadata": {
        "id": "i1jthgHvhcoR",
        "outputId": "d93e8ea5-bff6-4d21-8482-27d0c3477568",
        "colab": {
          "base_uri": "https://localhost:8080/"
        }
      },
      "source": [
        "# torch.max(input, dim, keepdim=False, out=None) -> (Tensor, LongTensor)\n",
        "# tensor의 최대값을 산출합니다.\n",
        "\n",
        "x = torch.rand(2,3)\n",
        "print(x)"
      ],
      "execution_count": 18,
      "outputs": [
        {
          "output_type": "stream",
          "name": "stdout",
          "text": [
            "tensor([[0.1332, 0.5962, 0.8934],\n",
            "        [0.6523, 0.2250, 0.0484]])\n"
          ]
        }
      ]
    },
    {
      "cell_type": "code",
      "metadata": {
        "id": "PZdBGct5hcoS",
        "outputId": "b39be069-61a9-4eed-8411-ec1ad90e9b04",
        "colab": {
          "base_uri": "https://localhost:8080/"
        }
      },
      "source": [
        "# 최대값을 출력합니다.\n",
        "print(torch.max(x))\n",
        "print(torch.max(x).shape)"
      ],
      "execution_count": 22,
      "outputs": [
        {
          "output_type": "stream",
          "name": "stdout",
          "text": [
            "tensor(0.8934)\n",
            "torch.Size([])\n"
          ]
        }
      ]
    },
    {
      "cell_type": "code",
      "metadata": {
        "id": "Hxt9_qgIhcoS",
        "outputId": "d9b8030c-b037-421c-da1d-25ea1d0bb985",
        "colab": {
          "base_uri": "https://localhost:8080/"
        }
      },
      "source": [
        "print(torch.max(x,0)[1])\n",
        "print(x.size(), torch.max(x,0)[1].size())"
      ],
      "execution_count": 26,
      "outputs": [
        {
          "output_type": "stream",
          "name": "stdout",
          "text": [
            "tensor([1, 0, 0])\n",
            "torch.Size([2, 3]) torch.Size([3])\n"
          ]
        }
      ]
    },
    {
      "cell_type": "code",
      "metadata": {
        "ExecuteTime": {
          "end_time": "2018-10-28T08:43:56.357472Z",
          "start_time": "2018-10-28T08:43:56.348021Z"
        },
        "id": "41VB0YX4hcoS",
        "scrolled": true,
        "outputId": "775fca2d-7663-4c2c-ec93-c66346dff8c0",
        "colab": {
          "base_uri": "https://localhost:8080/"
        }
      },
      "source": [
        "# 위치를 출력합니다.\n",
        "print(torch.max(x,1)[1])\n",
        "print(x.size(), torch.max(x,1)[1].size())"
      ],
      "execution_count": 27,
      "outputs": [
        {
          "output_type": "stream",
          "name": "stdout",
          "text": [
            "tensor([2, 0])\n",
            "torch.Size([2, 3]) torch.Size([2])\n"
          ]
        }
      ]
    },
    {
      "cell_type": "markdown",
      "metadata": {
        "id": "6Cc7ZNljhcoT"
      },
      "source": [
        "### 3) Tensor Data Type"
      ]
    },
    {
      "cell_type": "markdown",
      "metadata": {
        "id": "mZYP8evnhcoT"
      },
      "source": [
        "| Data type               | dtype                                         | Tensor types                 |\n",
        "|:-------------------------|:-----------------------------------------------|:------------------------------|\n",
        "| 32-bit floating point   | ``` torch.float32 ``` or ``` torch.float ```  | ``` torch.*.FloatTensor ```  |\n",
        "| 64-bit floating point   | ``` torch.float64 ``` or ``` torch.double ``` | ``` torch.*.DoubleTensor ``` |\n",
        "| 16-bit floating point   | ``` torch.float16 ``` or ``` torch.half ```   | ``` torch.*.HalfTensor ```   |\n",
        "| 16-bit integer (signed) | ``` torch.int16 ``` or ``` torch.short ```    | ``` torch.*.ShortTensor ```  |\n",
        "| 32-bit integer (signed) | ``` torch.int32 ``` or ``` torch.int ```      | ``` torch.*.IntTensor ```    |\n",
        "| 64-bit integer (signed) | ``` torch.int64 ``` or ``` torch.long ```     | ``` torch.*.LongTensor ```   |"
      ]
    },
    {
      "cell_type": "code",
      "metadata": {
        "ExecuteTime": {
          "end_time": "2018-10-18T13:50:14.106543Z",
          "start_time": "2018-10-18T13:50:14.100075Z"
        },
        "id": "W7844UPhhcoT",
        "scrolled": true,
        "outputId": "b9d1fd45-0cf9-4b71-94ee-5ad85f9e3693",
        "colab": {
          "base_uri": "https://localhost:8080/"
        }
      },
      "source": [
        "# torch.empty(size, dtype=)\n",
        "# torch.zeros(size, dtype=)\n",
        "# torch.arange(start,end,dtype=)\n",
        "\n",
        "# torch에서 지원하는 다양한 data type을 옵션으로 지정할 수 있습니다.\n",
        "\n",
        "x = torch.empty(2,3, dtype=torch.float) #32bit-float\n",
        "y = torch.zeros(2,3, dtype = torch.int16) # 64bit-integer\n",
        "z = torch.arange(0,3,step=0.5,dtype=torch.double)\n",
        "\n",
        "print(x)\n",
        "print(y)\n",
        "print(z)"
      ],
      "execution_count": 5,
      "outputs": [
        {
          "output_type": "stream",
          "name": "stdout",
          "text": [
            "tensor([[2.7829e-20, 3.0709e-41, 1.5975e-43],\n",
            "        [1.3873e-43, 1.4574e-43, 6.4460e-44]])\n",
            "tensor([[0, 0, 0],\n",
            "        [0, 0, 0]], dtype=torch.int16)\n",
            "tensor([0.0000, 0.5000, 1.0000, 1.5000, 2.0000, 2.5000], dtype=torch.float64)\n"
          ]
        }
      ]
    },
    {
      "cell_type": "code",
      "metadata": {
        "ExecuteTime": {
          "end_time": "2018-10-18T13:52:45.755168Z",
          "start_time": "2018-10-18T13:52:45.748223Z"
        },
        "id": "mvLUDHCqhcoU",
        "outputId": "040d35c4-1927-4990-ff83-cd3d883bd0a6",
        "colab": {
          "base_uri": "https://localhost:8080/"
        }
      },
      "source": [
        "# torch.tensor(size or list, dtype = torch.floattensor) \n",
        "# 원하는 텐서를 바로 생성합니다.\n",
        "x = torch.tensor([5.5,3])\n",
        "x"
      ],
      "execution_count": 6,
      "outputs": [
        {
          "output_type": "execute_result",
          "data": {
            "text/plain": [
              "tensor([5.5000, 3.0000])"
            ]
          },
          "metadata": {},
          "execution_count": 6
        }
      ]
    },
    {
      "cell_type": "code",
      "metadata": {
        "ExecuteTime": {
          "end_time": "2018-10-18T14:01:15.180723Z",
          "start_time": "2018-10-18T14:01:15.174242Z"
        },
        "id": "qoipRRkThcoU",
        "outputId": "a77f50ac-6557-4624-ac49-8ddea05bcdb1",
        "colab": {
          "base_uri": "https://localhost:8080/"
        }
      },
      "source": [
        "# torch.FloatTensor(size or list)\n",
        "x = torch.FloatTensor(2,3)\n",
        "print(x)\n",
        "x = torch.FloatTensor([2,3])\n",
        "print(x)"
      ],
      "execution_count": 7,
      "outputs": [
        {
          "output_type": "stream",
          "name": "stdout",
          "text": [
            "tensor([[2.7829e-20, 3.0709e-41, 3.7835e-44],\n",
            "        [0.0000e+00,        nan, 1.9375e+00]])\n",
            "tensor([2., 3.])\n"
          ]
        }
      ]
    },
    {
      "cell_type": "code",
      "metadata": {
        "ExecuteTime": {
          "end_time": "2018-10-18T14:01:45.322911Z",
          "start_time": "2018-10-18T14:01:45.306086Z"
        },
        "id": "Kgvof8FLhcoU",
        "outputId": "c478eb2b-2ed6-4d61-894a-f4bd8cbb31e0",
        "colab": {
          "base_uri": "https://localhost:8080/"
        }
      },
      "source": [
        "# tensor.type_as(tensor_type)\n",
        "# tensor 형 변환\n",
        "x = x.type_as(torch.IntTensor())\n",
        "x"
      ],
      "execution_count": 8,
      "outputs": [
        {
          "output_type": "execute_result",
          "data": {
            "text/plain": [
              "tensor([2, 3], dtype=torch.int32)"
            ]
          },
          "metadata": {},
          "execution_count": 8
        }
      ]
    },
    {
      "cell_type": "code",
      "metadata": {
        "id": "p4hhj1_k9xVW",
        "outputId": "12b30123-d5d2-42fa-9baf-352ab98ad71a",
        "colab": {
          "base_uri": "https://localhost:8080/"
        }
      },
      "source": [
        "\n",
        "x.to(dtype= torch.float)"
      ],
      "execution_count": 9,
      "outputs": [
        {
          "output_type": "execute_result",
          "data": {
            "text/plain": [
              "tensor([2., 3.])"
            ]
          },
          "metadata": {},
          "execution_count": 9
        }
      ]
    },
    {
      "cell_type": "markdown",
      "metadata": {
        "id": "GzPipFOuhcoU"
      },
      "source": [
        "### 4) Tensor Size"
      ]
    },
    {
      "cell_type": "code",
      "metadata": {
        "ExecuteTime": {
          "end_time": "2018-10-18T14:07:04.655354Z",
          "start_time": "2018-10-18T14:07:04.650890Z"
        },
        "id": "NnOpZWIbhcoU",
        "outputId": "05b39334-1644-450a-f3d1-748167576742",
        "colab": {
          "base_uri": "https://localhost:8080/"
        }
      },
      "source": [
        "# tensor.size()\n",
        "\n",
        "x = torch.FloatTensor(10,12,3,3)\n",
        "\n",
        "print(x.size()[:])\n",
        "print(x.size()[0])"
      ],
      "execution_count": 11,
      "outputs": [
        {
          "output_type": "stream",
          "name": "stdout",
          "text": [
            "torch.Size([10, 12, 3, 3])\n",
            "10\n"
          ]
        }
      ]
    },
    {
      "cell_type": "code",
      "metadata": {
        "ExecuteTime": {
          "end_time": "2018-10-16T11:39:17.332380Z",
          "start_time": "2018-10-16T11:39:17.325443Z"
        },
        "id": "VJaG64PZhcoV",
        "outputId": "2f5ad4fb-611a-462c-fcbb-7fbad904dbff",
        "colab": {
          "base_uri": "https://localhost:8080/"
        }
      },
      "source": [
        "# x = x.new_ones(5,3, dtype=torch.double) #5,3 차원의 새로운 텐서를 생성합니다.\n",
        "# print(x)\n",
        "\n",
        "x = torch.randn_like(x,dtype=torch.float) # 같은 size에서 랜덤한 숫자로 채워진 텐서를 생성합니다.\n",
        "print(x)"
      ],
      "execution_count": 12,
      "outputs": [
        {
          "output_type": "stream",
          "name": "stdout",
          "text": [
            "tensor([[[[ 3.6560e-01,  1.0681e+00, -2.7819e-01],\n",
            "          [ 5.8863e-02,  1.5361e+00,  1.4315e+00],\n",
            "          [-3.0110e-01, -9.4643e-01, -6.6743e-01]],\n",
            "\n",
            "         [[-2.6165e-01, -1.0517e-01, -4.9649e-01],\n",
            "          [-8.0377e-01, -1.3327e+00,  4.2442e-01],\n",
            "          [-2.6757e-01, -4.8905e-01,  8.6413e-01]],\n",
            "\n",
            "         [[-1.1156e+00,  1.3259e+00, -1.7216e-01],\n",
            "          [-1.0231e+00, -1.0182e+00, -6.8003e-01],\n",
            "          [ 1.6811e+00, -3.8011e-01, -3.2004e-01]],\n",
            "\n",
            "         ...,\n",
            "\n",
            "         [[ 3.6647e-01, -1.3097e-01, -8.7761e-01],\n",
            "          [-3.2417e-01,  9.7541e-01,  6.6931e-01],\n",
            "          [ 8.5957e-01,  4.9724e-01,  2.5146e-01]],\n",
            "\n",
            "         [[ 3.7792e-01,  1.0789e+00,  3.2473e-01],\n",
            "          [ 1.4239e-01,  6.9991e-01,  3.7162e-01],\n",
            "          [ 2.0470e+00, -5.3240e-01,  7.9092e-01]],\n",
            "\n",
            "         [[-2.4495e-01, -6.6210e-01, -5.5071e-01],\n",
            "          [ 1.8073e-01,  3.4404e-01, -6.9609e-01],\n",
            "          [ 1.5847e+00, -1.9376e-01,  7.0973e-01]]],\n",
            "\n",
            "\n",
            "        [[[-5.9486e-01,  4.9647e-01, -2.0312e+00],\n",
            "          [ 2.5559e-01,  5.1983e-01, -1.6571e+00],\n",
            "          [-1.6626e+00, -4.4990e-01, -1.5232e+00]],\n",
            "\n",
            "         [[-3.1364e-02, -1.6603e-01,  2.9631e-01],\n",
            "          [-1.9579e-01,  1.6942e+00,  1.2711e+00],\n",
            "          [ 4.5086e-01,  5.3543e-01,  9.1198e-01]],\n",
            "\n",
            "         [[ 1.6548e-01,  7.4006e-01,  2.9671e-02],\n",
            "          [ 1.3254e+00,  7.1450e-01,  7.5365e-01],\n",
            "          [-3.1915e-01, -2.5335e-01, -2.2031e-02]],\n",
            "\n",
            "         ...,\n",
            "\n",
            "         [[ 6.8633e-01,  4.8909e-01,  9.0406e-01],\n",
            "          [ 1.0674e+00, -8.4804e-01,  9.2778e-01],\n",
            "          [-4.2117e-01,  8.7914e-02,  3.0578e-01]],\n",
            "\n",
            "         [[ 6.4214e-01,  1.0086e+00, -1.1392e+00],\n",
            "          [-9.3150e-01, -4.7528e-01, -1.6569e+00],\n",
            "          [-5.8885e-01,  1.2298e-01,  2.0473e-01]],\n",
            "\n",
            "         [[ 1.0152e+00,  2.9144e-01, -1.1478e+00],\n",
            "          [-8.3056e-01, -9.0597e-01,  8.4490e-01],\n",
            "          [ 5.0833e-01,  5.2513e-01,  2.3366e-01]]],\n",
            "\n",
            "\n",
            "        [[[ 1.2811e+00,  1.6297e-01, -1.7773e-01],\n",
            "          [ 2.7157e+00, -8.4086e-01,  7.9117e-01],\n",
            "          [-9.1270e-01,  1.5110e+00, -6.4168e-02]],\n",
            "\n",
            "         [[-2.4418e-03,  7.6667e-01, -9.0098e-01],\n",
            "          [-1.7889e-01, -1.5125e+00,  8.6762e-01],\n",
            "          [-6.9990e-01, -2.3945e-02,  1.5785e-01]],\n",
            "\n",
            "         [[ 1.3813e-01,  1.4361e-01, -1.4216e+00],\n",
            "          [ 1.9939e-01,  3.8198e-01,  3.7676e-01],\n",
            "          [-2.1727e+00,  5.3512e-01, -7.8515e-01]],\n",
            "\n",
            "         ...,\n",
            "\n",
            "         [[ 6.8683e-01,  3.5577e-01, -4.9325e-02],\n",
            "          [ 2.0712e-01,  3.7332e-01, -6.3482e-02],\n",
            "          [ 2.7031e-01, -3.8471e-01,  7.8585e-01]],\n",
            "\n",
            "         [[ 4.8457e-01, -1.1477e-01,  1.8119e-02],\n",
            "          [-2.8000e+00,  2.2024e-01, -3.8728e-01],\n",
            "          [ 1.4107e+00, -2.1111e+00,  1.8119e+00]],\n",
            "\n",
            "         [[-8.9659e-01, -1.6404e-01,  1.6539e+00],\n",
            "          [-2.4439e-01, -3.8182e-01, -1.1398e+00],\n",
            "          [-9.7056e-01,  1.1783e+00, -3.5688e-01]]],\n",
            "\n",
            "\n",
            "        ...,\n",
            "\n",
            "\n",
            "        [[[ 8.2979e-01, -7.1721e-01, -3.4905e-01],\n",
            "          [-2.4354e-01, -2.1409e+00,  2.0485e-01],\n",
            "          [-8.5306e-02, -1.1310e+00, -7.0799e-01]],\n",
            "\n",
            "         [[ 1.8543e+00, -8.9583e-01, -3.0312e-01],\n",
            "          [-1.8770e+00,  2.5854e-01, -1.3113e+00],\n",
            "          [ 9.7619e-01,  9.7683e-01,  8.6113e-01]],\n",
            "\n",
            "         [[-8.4444e-01, -2.8918e+00, -6.4048e-01],\n",
            "          [ 6.5658e-01, -7.3293e-01, -1.6919e-01],\n",
            "          [ 1.8612e+00, -1.6227e+00,  7.9385e-01]],\n",
            "\n",
            "         ...,\n",
            "\n",
            "         [[-1.3454e+00, -1.7498e+00, -4.4957e-01],\n",
            "          [ 6.3975e-01,  6.5769e-01, -2.1513e-01],\n",
            "          [-1.5174e-02, -1.1811e+00, -2.6495e-01]],\n",
            "\n",
            "         [[-7.7883e-02,  2.5663e-01,  8.6087e-01],\n",
            "          [ 1.5941e+00, -1.4920e+00, -6.0759e-01],\n",
            "          [-1.0070e+00,  1.2809e+00,  8.4967e-01]],\n",
            "\n",
            "         [[-1.6540e-01, -6.3850e-01, -1.4288e+00],\n",
            "          [-1.6446e+00,  1.2447e+00,  8.4128e-01],\n",
            "          [ 5.3871e-01,  1.0925e+00, -1.8235e+00]]],\n",
            "\n",
            "\n",
            "        [[[ 1.5958e-01, -6.5218e-01, -1.5121e+00],\n",
            "          [-1.4351e+00, -1.1966e+00,  1.1292e+00],\n",
            "          [ 1.0476e-01,  3.4713e-01, -3.2568e-02]],\n",
            "\n",
            "         [[-1.5201e+00,  1.0179e+00,  1.0502e+00],\n",
            "          [ 9.2662e-02,  1.3061e+00, -1.1518e+00],\n",
            "          [-9.2567e-01,  9.7655e-01,  8.3020e-02]],\n",
            "\n",
            "         [[-1.1961e+00, -6.1100e-01, -3.2217e-01],\n",
            "          [ 6.3891e-01, -6.5818e-01, -1.7850e-02],\n",
            "          [ 9.2336e-01,  1.4900e-01, -1.2742e+00]],\n",
            "\n",
            "         ...,\n",
            "\n",
            "         [[-1.3954e+00,  9.4779e-02, -4.9139e-01],\n",
            "          [ 2.1336e+00, -1.2456e+00, -1.6356e+00],\n",
            "          [-3.6670e-01,  7.7389e-01, -2.8639e-01]],\n",
            "\n",
            "         [[-6.7431e-01,  1.2792e+00, -6.0455e-01],\n",
            "          [-1.6420e+00,  1.1109e+00,  2.2875e-01],\n",
            "          [ 1.7014e+00,  3.8422e-01, -2.8884e+00]],\n",
            "\n",
            "         [[-2.2096e-01, -1.7230e+00, -1.0333e+00],\n",
            "          [-3.6165e-01, -1.7266e+00, -2.4245e-01],\n",
            "          [ 6.1495e-01, -4.0945e-01, -4.2495e-02]]],\n",
            "\n",
            "\n",
            "        [[[-1.1384e+00,  1.9161e-01, -2.2929e-01],\n",
            "          [ 2.7404e+00,  2.8550e-02, -1.3655e-02],\n",
            "          [-4.9121e-01,  3.0764e-01,  1.2330e+00]],\n",
            "\n",
            "         [[ 1.2551e+00, -1.3415e-01, -4.0425e-01],\n",
            "          [ 1.1576e+00,  5.2540e-01,  1.8022e+00],\n",
            "          [-5.8844e-01, -7.8733e-01, -4.3669e-01]],\n",
            "\n",
            "         [[-1.3431e+00, -8.4838e-01, -1.8388e+00],\n",
            "          [ 1.6655e+00, -1.7103e+00, -2.0968e+00],\n",
            "          [ 1.0909e-01,  1.0127e-01, -6.2491e-01]],\n",
            "\n",
            "         ...,\n",
            "\n",
            "         [[ 8.6278e-01,  1.0474e-01, -3.1680e-01],\n",
            "          [ 1.3155e+00, -1.0542e+00,  4.1873e-01],\n",
            "          [ 1.0086e+00,  2.0565e-01,  5.3786e-01]],\n",
            "\n",
            "         [[-7.0496e-01,  9.4423e-01,  5.5171e-02],\n",
            "          [-2.1849e-01,  5.6383e-01, -1.3332e+00],\n",
            "          [-6.5313e-02, -4.0827e-03, -1.7522e+00]],\n",
            "\n",
            "         [[-1.1031e+00,  2.2622e-03, -9.8524e-01],\n",
            "          [ 1.5244e+00, -1.3531e+00,  1.0567e+00],\n",
            "          [ 3.5205e-02, -8.5937e-01,  8.3843e-01]]]])\n"
          ]
        }
      ]
    },
    {
      "cell_type": "markdown",
      "metadata": {
        "id": "XV_Yghw9hcoV"
      },
      "source": [
        "## 2. Math Operations\n",
        "\n",
        "### 1) add, mul, div"
      ]
    },
    {
      "cell_type": "code",
      "metadata": {
        "ExecuteTime": {
          "end_time": "2018-10-18T14:13:27.357191Z",
          "start_time": "2018-10-18T14:13:27.348772Z"
        },
        "id": "0U0w50WhhcoV",
        "outputId": "93ac1a1b-ab01-4009-d389-0e33527f5129",
        "colab": {
          "base_uri": "https://localhost:8080/"
        }
      },
      "source": [
        "# torch.add()\n",
        "# 텐서의 값끼리 더합니다.\n",
        "\n",
        "x1 = torch.FloatTensor([[1,2,3],[4,5,6]])\n",
        "x2 = torch.FloatTensor([[1,2,3],[4,5,6]])\n",
        "add = torch.add(x1, x2)\n",
        "\n",
        "x1,x2,add,x1+x2,x1-x2"
      ],
      "execution_count": 13,
      "outputs": [
        {
          "output_type": "execute_result",
          "data": {
            "text/plain": [
              "(tensor([[1., 2., 3.],\n",
              "         [4., 5., 6.]]), tensor([[1., 2., 3.],\n",
              "         [4., 5., 6.]]), tensor([[ 2.,  4.,  6.],\n",
              "         [ 8., 10., 12.]]), tensor([[ 2.,  4.,  6.],\n",
              "         [ 8., 10., 12.]]), tensor([[0., 0., 0.],\n",
              "         [0., 0., 0.]]))"
            ]
          },
          "metadata": {},
          "execution_count": 13
        }
      ]
    },
    {
      "cell_type": "code",
      "metadata": {
        "id": "c9hPKxAg-uxR",
        "outputId": "561c51f5-66bb-4c9c-9736-f3e9d49a78b5",
        "colab": {
          "base_uri": "https://localhost:8080/"
        }
      },
      "source": [
        "x1**3"
      ],
      "execution_count": 15,
      "outputs": [
        {
          "output_type": "execute_result",
          "data": {
            "text/plain": [
              "tensor([[  1.,   8.,  27.],\n",
              "        [ 64., 125., 216.]])"
            ]
          },
          "metadata": {},
          "execution_count": 15
        }
      ]
    },
    {
      "cell_type": "code",
      "metadata": {
        "ExecuteTime": {
          "end_time": "2018-10-16T11:41:37.076027Z",
          "start_time": "2018-10-16T11:41:37.068067Z"
        },
        "id": "GTHHGi74hcoV",
        "outputId": "eef40c46-4d3a-4a38-f496-868a92f50b9f",
        "colab": {
          "base_uri": "https://localhost:8080/"
        }
      },
      "source": [
        "#차원이 다르더라도 안쪽 차원만 같으면 연산이 가능합니다.\n",
        "\n",
        "x = torch.rand(1,5,3) # 1은 가짜 차원이므로 1이 아닌 차원이 동일하면 연산 가능\n",
        "y = torch.rand(5,3)\n",
        "x, y, torch.add(x,y)"
      ],
      "execution_count": 16,
      "outputs": [
        {
          "output_type": "execute_result",
          "data": {
            "text/plain": [
              "(tensor([[[0.5698, 0.5330, 0.0491],\n",
              "          [0.1525, 0.4602, 0.0638],\n",
              "          [0.1404, 0.0025, 0.9204],\n",
              "          [0.8549, 0.2184, 0.8643],\n",
              "          [0.6809, 0.4169, 0.7518]]]), tensor([[0.3343, 0.9115, 0.9684],\n",
              "         [0.3148, 0.4138, 0.3877],\n",
              "         [0.5348, 0.0318, 0.5916],\n",
              "         [0.6530, 0.7175, 0.1536],\n",
              "         [0.8544, 0.9232, 0.3934]]), tensor([[[0.9041, 1.4445, 1.0175],\n",
              "          [0.4673, 0.8740, 0.4515],\n",
              "          [0.6752, 0.0343, 1.5120],\n",
              "          [1.5079, 0.9359, 1.0180],\n",
              "          [1.5353, 1.3401, 1.1452]]]))"
            ]
          },
          "metadata": {},
          "execution_count": 16
        }
      ]
    },
    {
      "cell_type": "code",
      "metadata": {
        "ExecuteTime": {
          "end_time": "2018-10-16T11:47:51.415692Z",
          "start_time": "2018-10-16T11:47:51.411729Z"
        },
        "id": "FQubYJy6hcoV",
        "outputId": "0c1a83eb-7e60-4ab3-b552-9a48a580b684",
        "colab": {
          "base_uri": "https://localhost:8080/"
        }
      },
      "source": [
        "# torch.add 말고 add_의 경우에는 이러한 연산 기능이 지원되지 않습니다. 따라서 먼저 x를 같은 차원으로 바꿔줍니다.\n",
        "\n",
        "x = torch.rand(5,3)\n",
        "y.add_(x)\n",
        "print(y)"
      ],
      "execution_count": 17,
      "outputs": [
        {
          "output_type": "stream",
          "name": "stdout",
          "text": [
            "tensor([[0.9036, 1.2973, 1.7285],\n",
            "        [0.9411, 0.7370, 0.5941],\n",
            "        [1.3657, 0.3344, 1.5553],\n",
            "        [0.9273, 0.9960, 1.0996],\n",
            "        [1.8141, 1.6454, 0.8395]])\n"
          ]
        }
      ]
    },
    {
      "cell_type": "code",
      "metadata": {
        "ExecuteTime": {
          "end_time": "2018-10-18T14:17:37.639499Z",
          "start_time": "2018-10-18T14:17:37.627620Z"
        },
        "id": "V1r-PHruhcoW",
        "outputId": "ddf84882-0586-4f2b-9d21-a1f4d9c83b9f",
        "colab": {
          "base_uri": "https://localhost:8080/"
        }
      },
      "source": [
        "# x 텐서의 2열을 불러옵니다. numpy 연산이 지원됩니다.\n",
        "\n",
        "print(x)\n",
        "print(x.shape)\n",
        "print(x[:,1])\n",
        "print(x[:,1].shape)"
      ],
      "execution_count": 18,
      "outputs": [
        {
          "output_type": "stream",
          "name": "stdout",
          "text": [
            "tensor([[0.5694, 0.3858, 0.7601],\n",
            "        [0.6263, 0.3232, 0.2065],\n",
            "        [0.8308, 0.3026, 0.9637],\n",
            "        [0.2743, 0.2785, 0.9459],\n",
            "        [0.9597, 0.7222, 0.4461]])\n",
            "torch.Size([5, 3])\n",
            "tensor([0.3858, 0.3232, 0.3026, 0.2785, 0.7222])\n",
            "torch.Size([5])\n"
          ]
        }
      ]
    },
    {
      "cell_type": "code",
      "metadata": {
        "ExecuteTime": {
          "end_time": "2018-10-18T14:21:21.937483Z",
          "start_time": "2018-10-18T14:21:21.929079Z"
        },
        "id": "uZ6N9YWMhcoW",
        "outputId": "49201b59-59d7-434d-8337-eec3bec310a8",
        "colab": {
          "base_uri": "https://localhost:8080/"
        }
      },
      "source": [
        "# torch.mul()\n",
        "# hadamard product, mxn, mxn 행렬 2개를 곱합니다. 덧셈에 대해 분배법칙을 따릅니다.\n",
        "\n",
        "x1 = torch.FloatTensor([[1,2,3],[4,5,6]])\n",
        "x2 = torch.FloatTensor([[1,2,3],[4,5,6]])\n",
        "x3 = torch.mul(x1,x2)\n",
        "x1.size(), x2.size(), x3.size(), x1, x2, x3"
      ],
      "execution_count": 19,
      "outputs": [
        {
          "output_type": "execute_result",
          "data": {
            "text/plain": [
              "(torch.Size([2, 3]),\n",
              " torch.Size([2, 3]),\n",
              " torch.Size([2, 3]),\n",
              " tensor([[1., 2., 3.],\n",
              "         [4., 5., 6.]]),\n",
              " tensor([[1., 2., 3.],\n",
              "         [4., 5., 6.]]),\n",
              " tensor([[ 1.,  4.,  9.],\n",
              "         [16., 25., 36.]]))"
            ]
          },
          "metadata": {},
          "execution_count": 19
        }
      ]
    },
    {
      "cell_type": "code",
      "metadata": {
        "ExecuteTime": {
          "end_time": "2018-10-18T14:22:18.900911Z",
          "start_time": "2018-10-18T14:22:18.894439Z"
        },
        "id": "6457vjIEhcoW",
        "outputId": "6516d3ed-b095-43b3-a75a-e3901216b40a",
        "colab": {
          "base_uri": "https://localhost:8080/"
        }
      },
      "source": [
        "# torch.mul()\n",
        "\n",
        "x1 = torch.FloatTensor([[1,2,3,],[4,5,6]])\n",
        "x2 = x1*10\n",
        "\n",
        "x2"
      ],
      "execution_count": 20,
      "outputs": [
        {
          "output_type": "execute_result",
          "data": {
            "text/plain": [
              "tensor([[10., 20., 30.],\n",
              "        [40., 50., 60.]])"
            ]
          },
          "metadata": {},
          "execution_count": 20
        }
      ]
    },
    {
      "cell_type": "code",
      "metadata": {
        "ExecuteTime": {
          "end_time": "2018-10-18T14:22:59.876800Z",
          "start_time": "2018-10-18T14:22:59.868342Z"
        },
        "id": "bIYB5NCPhcoW",
        "outputId": "9fb4a347-e401-4887-daa6-55566a89d01e",
        "colab": {
          "base_uri": "https://localhost:8080/"
        }
      },
      "source": [
        "# torch.div()\n",
        "\n",
        "x1 = torch.FloatTensor([[1,2,3],[4,5,6]])\n",
        "x2 = torch.FloatTensor([[1,2,3],[4,5,6]])\n",
        "x3 = torch.div(x1,x2)\n",
        "\n",
        "x3"
      ],
      "execution_count": 21,
      "outputs": [
        {
          "output_type": "execute_result",
          "data": {
            "text/plain": [
              "tensor([[1., 1., 1.],\n",
              "        [1., 1., 1.]])"
            ]
          },
          "metadata": {},
          "execution_count": 21
        }
      ]
    },
    {
      "cell_type": "code",
      "metadata": {
        "ExecuteTime": {
          "end_time": "2018-10-18T14:24:04.752373Z",
          "start_time": "2018-10-18T14:24:04.739488Z"
        },
        "id": "08AvMvzjhcoW",
        "outputId": "6b196b7b-dfd6-43ca-f6d4-64dc9765b86b",
        "colab": {
          "base_uri": "https://localhost:8080/"
        }
      },
      "source": [
        "# torch.div()\n",
        "\n",
        "x1 = torch.FloatTensor([[1,2,3],[4,5,6]])\n",
        "\n",
        "x1/5"
      ],
      "execution_count": 22,
      "outputs": [
        {
          "output_type": "execute_result",
          "data": {
            "text/plain": [
              "tensor([[0.2000, 0.4000, 0.6000],\n",
              "        [0.8000, 1.0000, 1.2000]])"
            ]
          },
          "metadata": {},
          "execution_count": 22
        }
      ]
    },
    {
      "cell_type": "markdown",
      "metadata": {
        "id": "tRLzDccDhcoX"
      },
      "source": [
        "### 2) pow, exp, log"
      ]
    },
    {
      "cell_type": "code",
      "metadata": {
        "ExecuteTime": {
          "end_time": "2018-10-18T14:26:45.051237Z",
          "start_time": "2018-10-18T14:26:45.045284Z"
        },
        "id": "PbaW8-b9hcoX",
        "outputId": "9e1638bc-7415-4b70-820f-ec051029c42d",
        "colab": {
          "base_uri": "https://localhost:8080/"
        }
      },
      "source": [
        "# torch.pow(input,exponent)\n",
        "\n",
        "x1 = torch.rand(3,4)\n",
        "\n",
        "print(x1)\n",
        "print(torch.pow(x1,2),\"\\n\",x1**2)"
      ],
      "execution_count": 23,
      "outputs": [
        {
          "output_type": "stream",
          "name": "stdout",
          "text": [
            "tensor([[0.2428, 0.2070, 0.9757, 0.8303],\n",
            "        [0.8003, 0.4307, 0.4452, 0.5081],\n",
            "        [0.5891, 0.6392, 0.0595, 0.0429]])\n",
            "tensor([[0.0589, 0.0428, 0.9521, 0.6894],\n",
            "        [0.6404, 0.1855, 0.1982, 0.2582],\n",
            "        [0.3470, 0.4085, 0.0035, 0.0018]]) \n",
            " tensor([[0.0589, 0.0428, 0.9521, 0.6894],\n",
            "        [0.6404, 0.1855, 0.1982, 0.2582],\n",
            "        [0.3470, 0.4085, 0.0035, 0.0018]])\n"
          ]
        }
      ]
    },
    {
      "cell_type": "code",
      "metadata": {
        "ExecuteTime": {
          "end_time": "2018-10-18T14:27:39.869050Z",
          "start_time": "2018-10-18T14:27:39.864586Z"
        },
        "id": "Ls9OcY6UhcoX",
        "outputId": "bee57f31-9f6e-418e-9d25-fd64851ed4b3",
        "colab": {
          "base_uri": "https://localhost:8080/"
        }
      },
      "source": [
        "# torch.exp(tensor,out=None)\n",
        "\n",
        "x1 = torch.rand(3,4)\n",
        "\n",
        "print(x1)\n",
        "print(torch.exp(x1))"
      ],
      "execution_count": 24,
      "outputs": [
        {
          "output_type": "stream",
          "name": "stdout",
          "text": [
            "tensor([[0.5289, 0.2423, 0.9440, 0.7489],\n",
            "        [0.6011, 0.0483, 0.0289, 0.9127],\n",
            "        [0.1891, 0.8713, 0.0603, 0.1076]])\n",
            "tensor([[1.6971, 1.2742, 2.5702, 2.1147],\n",
            "        [1.8241, 1.0495, 1.0294, 2.4912],\n",
            "        [1.2082, 2.3899, 1.0621, 1.1137]])\n"
          ]
        }
      ]
    },
    {
      "cell_type": "code",
      "metadata": {
        "ExecuteTime": {
          "end_time": "2018-10-18T14:28:38.622326Z",
          "start_time": "2018-10-18T14:28:38.607413Z"
        },
        "id": "jkGgx-6zhcoX",
        "outputId": "283c1876-095a-4a20-d586-204822cfc9fc",
        "colab": {
          "base_uri": "https://localhost:8080/"
        }
      },
      "source": [
        "# torch.log(input,out=None)\n",
        "\n",
        "x1 = torch.rand(3,4)\n",
        "\n",
        "print(x1)\n",
        "print(torch.log(x1))"
      ],
      "execution_count": 25,
      "outputs": [
        {
          "output_type": "stream",
          "name": "stdout",
          "text": [
            "tensor([[0.3761, 0.8858, 0.8013, 0.5884],\n",
            "        [0.4269, 0.2160, 0.5102, 0.3739],\n",
            "        [0.0999, 0.5807, 0.3067, 0.6644]])\n",
            "tensor([[-0.9780, -0.1212, -0.2215, -0.5303],\n",
            "        [-0.8512, -1.5325, -0.6729, -0.9836],\n",
            "        [-2.3035, -0.5436, -1.1818, -0.4089]])\n"
          ]
        }
      ]
    },
    {
      "cell_type": "code",
      "metadata": {
        "ExecuteTime": {
          "end_time": "2018-10-18T14:30:17.992784Z",
          "start_time": "2018-10-18T14:30:17.976412Z"
        },
        "id": "JHIV6T1PhcoX",
        "outputId": "486eeeb5-a9d2-4912-9441-f0a95e160943",
        "colab": {
          "base_uri": "https://localhost:8080/"
        }
      },
      "source": [
        "# torch.mm(matrix1, matrix2)\n",
        "\n",
        "x1 = torch.rand(3,4)\n",
        "x2 = torch.rand(4,5)\n",
        "\n",
        "torch.mm(x1,x2)"
      ],
      "execution_count": 26,
      "outputs": [
        {
          "output_type": "execute_result",
          "data": {
            "text/plain": [
              "tensor([[1.2180, 1.5061, 1.2578, 1.3296, 1.6399],\n",
              "        [0.8068, 0.9512, 1.2542, 0.9844, 1.6490],\n",
              "        [1.2301, 1.2749, 0.7200, 1.2367, 1.0729]])"
            ]
          },
          "metadata": {},
          "execution_count": 26
        }
      ]
    },
    {
      "cell_type": "code",
      "metadata": {
        "ExecuteTime": {
          "end_time": "2018-10-18T14:31:40.819367Z",
          "start_time": "2018-10-18T14:31:40.815375Z"
        },
        "id": "7-CiDY-xhcoX",
        "outputId": "f7677583-b62d-40e5-8092-a27498c257d0",
        "colab": {
          "base_uri": "https://localhost:8080/"
        }
      },
      "source": [
        "# torch.bmm(batch_matrix1, batch_matrix2)\n",
        "# 매트릭스 멀티플리케이션을 10번 한것 3 by 4 @ 4 by 5\n",
        "x1 = torch.rand(10,3,4)\n",
        "x2 = torch.rand(10,4,5)\n",
        "\n",
        "torch.bmm(x1,x2).size()"
      ],
      "execution_count": 27,
      "outputs": [
        {
          "output_type": "execute_result",
          "data": {
            "text/plain": [
              "torch.Size([10, 3, 5])"
            ]
          },
          "metadata": {},
          "execution_count": 27
        }
      ]
    },
    {
      "cell_type": "markdown",
      "metadata": {
        "id": "asahyjjghcoX"
      },
      "source": [
        "![img](https://github.com/shwksl101/Pytorch-A-to-Z/blob/master/img/innerproduct.PNG?raw=true)"
      ]
    },
    {
      "cell_type": "code",
      "metadata": {
        "ExecuteTime": {
          "end_time": "2018-10-18T14:35:25.100038Z",
          "start_time": "2018-10-18T14:35:25.092602Z"
        },
        "id": "ddniDfwFhcoY",
        "outputId": "505d447d-8485-474c-b3b3-701deb0650a2",
        "colab": {
          "base_uri": "https://localhost:8080/"
        }
      },
      "source": [
        "# torch.dot(tensor1, tensor2)\n",
        "\n",
        "torch.dot(torch.tensor([2,3]), torch.tensor([2,1]))"
      ],
      "execution_count": 28,
      "outputs": [
        {
          "output_type": "execute_result",
          "data": {
            "text/plain": [
              "tensor(7)"
            ]
          },
          "metadata": {},
          "execution_count": 28
        }
      ]
    },
    {
      "cell_type": "code",
      "metadata": {
        "ExecuteTime": {
          "end_time": "2018-10-18T14:42:57.524955Z",
          "start_time": "2018-10-18T14:42:57.514572Z"
        },
        "id": "1DubOvFBhcoY",
        "outputId": "99e7e4ef-4226-4b05-e926-fa2b3e615eb7",
        "colab": {
          "base_uri": "https://localhost:8080/"
        }
      },
      "source": [
        "# torch.t(matrix)\n",
        "# tranpose\n",
        "\n",
        "x1 = torch.rand(3,4)\n",
        "print(x1.size(), x1.t().size())"
      ],
      "execution_count": 31,
      "outputs": [
        {
          "output_type": "stream",
          "name": "stdout",
          "text": [
            "torch.Size([3, 4]) torch.Size([4, 3])\n"
          ]
        }
      ]
    },
    {
      "cell_type": "code",
      "metadata": {
        "id": "HDWUxaIShcoY",
        "outputId": "558852be-96ee-4ad4-e8b5-7691164b9d0f",
        "colab": {
          "base_uri": "https://localhost:8080/"
        }
      },
      "source": [
        "# torch.transpose(input,dim0,dim1)\n",
        "\n",
        "x1 = torch.rand(10,3,4)\n",
        "x1.size(), torch.transpose(x1,1,2).size(), x1.transpose(1,2).size() #contiguous"
      ],
      "execution_count": 32,
      "outputs": [
        {
          "output_type": "execute_result",
          "data": {
            "text/plain": [
              "(torch.Size([10, 3, 4]), torch.Size([10, 4, 3]), torch.Size([10, 4, 3]))"
            ]
          },
          "metadata": {},
          "execution_count": 32
        }
      ]
    },
    {
      "cell_type": "code",
      "metadata": {
        "ExecuteTime": {
          "end_time": "2018-10-18T14:44:18.688704Z",
          "start_time": "2018-10-18T14:44:18.679781Z"
        },
        "id": "oA8NIl85hcoY",
        "outputId": "6d7068fa-9564-4df2-8f48-8934c06bc5ab",
        "colab": {
          "base_uri": "https://localhost:8080/"
        }
      },
      "source": [
        "# torch.eig(a,eigenvectors=Flase)\n",
        "# eigen_value, eigen_vector\n",
        "\n",
        "x1 = torch.rand(2,2)\n",
        "\n",
        "print(x1,\"\\n\",torch.eig(x1,True))"
      ],
      "execution_count": 33,
      "outputs": [
        {
          "output_type": "stream",
          "name": "stdout",
          "text": [
            "tensor([[0.8444, 0.3986],\n",
            "        [0.7639, 0.5201]]) \n",
            " torch.return_types.eig(\n",
            "eigenvalues=tensor([[1.2574, 0.0000],\n",
            "        [0.1071, 0.0000]]),\n",
            "eigenvectors=tensor([[ 0.6945, -0.4756],\n",
            "        [ 0.7195,  0.8797]]))\n"
          ]
        },
        {
          "output_type": "stream",
          "name": "stderr",
          "text": [
            "/usr/local/lib/python3.7/dist-packages/ipykernel_launcher.py:6: UserWarning: torch.eig is deprecated in favor of torch.linalg.eig and will be removed in a future PyTorch release.\n",
            "torch.linalg.eig returns complex tensors of dtype cfloat or cdouble rather than real tensors mimicking complex tensors.\n",
            "L, _ = torch.eig(A)\n",
            "should be replaced with\n",
            "L_complex = torch.linalg.eigvals(A)\n",
            "and\n",
            "L, V = torch.eig(A, eigenvectors=True)\n",
            "should be replaced with\n",
            "L_complex, V_complex = torch.linalg.eig(A) (Triggered internally at  /pytorch/aten/src/ATen/native/BatchLinearAlgebra.cpp:2897.)\n",
            "  \n"
          ]
        }
      ]
    },
    {
      "cell_type": "markdown",
      "metadata": {
        "id": "EmcZ5H5xhcoY"
      },
      "source": [
        "### 3) view, item"
      ]
    },
    {
      "cell_type": "code",
      "metadata": {
        "ExecuteTime": {
          "end_time": "2018-10-16T11:51:42.774580Z",
          "start_time": "2018-10-16T11:51:42.767140Z"
        },
        "id": "fPpqODlmhcoY",
        "outputId": "53c7bc52-ed40-4590-dc8a-daf6e0076d27",
        "colab": {
          "base_uri": "https://localhost:8080/"
        }
      },
      "source": [
        "# view()\n",
        "\n",
        "x = torch.randn(4,4)\n",
        "y = x.view(16)\n",
        "z = x.view(-1,8) # -1의 경우 다른 차원들로 유추합니다. 이 경우에는 2로 유추합니다.\n",
        "print(x.size())\n",
        "print(y.size(),y)\n",
        "print(z.size(),z)"
      ],
      "execution_count": 34,
      "outputs": [
        {
          "output_type": "stream",
          "name": "stdout",
          "text": [
            "torch.Size([4, 4])\n",
            "torch.Size([16]) tensor([-0.5105,  1.6806, -1.4155, -0.0721,  0.1559, -0.5853, -0.8591, -0.1106,\n",
            "        -0.5729,  1.5301,  1.2652, -1.1429,  0.0982, -0.5755, -0.2370,  0.2887])\n",
            "torch.Size([2, 8]) tensor([[-0.5105,  1.6806, -1.4155, -0.0721,  0.1559, -0.5853, -0.8591, -0.1106],\n",
            "        [-0.5729,  1.5301,  1.2652, -1.1429,  0.0982, -0.5755, -0.2370,  0.2887]])\n"
          ]
        }
      ]
    },
    {
      "cell_type": "code",
      "metadata": {
        "ExecuteTime": {
          "end_time": "2018-10-16T11:54:28.425390Z",
          "start_time": "2018-10-16T11:54:28.417952Z"
        },
        "id": "1-a9__RHhcoZ",
        "outputId": "7749faec-f72d-4e50-f049-a5492a47410e",
        "colab": {
          "base_uri": "https://localhost:8080/"
        }
      },
      "source": [
        "# item()\n",
        "\n",
        "x = torch.randn(1)\n",
        "print(x)\n",
        "print(x.item())"
      ],
      "execution_count": 35,
      "outputs": [
        {
          "output_type": "stream",
          "name": "stdout",
          "text": [
            "tensor([0.0033])\n",
            "0.003332067746669054\n"
          ]
        }
      ]
    },
    {
      "cell_type": "markdown",
      "metadata": {
        "id": "K2QXWWe0hcoZ"
      },
      "source": [
        "- 더 많은 연산은 다음의 링크에서 참고하세요 https://pytorch.org/docs/stable/torch.html"
      ]
    },
    {
      "cell_type": "markdown",
      "metadata": {
        "id": "jj4YK2zthcoZ"
      },
      "source": [
        "## 3. Tensor to Numpy, Numpy to Tensor"
      ]
    },
    {
      "cell_type": "code",
      "metadata": {
        "ExecuteTime": {
          "end_time": "2018-10-16T12:03:49.835180Z",
          "start_time": "2018-10-16T12:03:49.830247Z"
        },
        "id": "b88nt7v0hcoZ",
        "outputId": "285ae687-3c93-427c-c35b-19b3ab28c669",
        "colab": {
          "base_uri": "https://localhost:8080/"
        }
      },
      "source": [
        "a = torch.ones(5) # 1로 채워진 텐서를 생성합니다.\n",
        "print(a)"
      ],
      "execution_count": 36,
      "outputs": [
        {
          "output_type": "stream",
          "name": "stdout",
          "text": [
            "tensor([1., 1., 1., 1., 1.])\n"
          ]
        }
      ]
    },
    {
      "cell_type": "code",
      "metadata": {
        "ExecuteTime": {
          "end_time": "2018-10-16T12:04:03.331822Z",
          "start_time": "2018-10-16T12:04:03.320915Z"
        },
        "id": "Go7MCPl_hcoZ",
        "outputId": "321eedd1-f5d4-4018-cc56-35a0c4e28fed",
        "colab": {
          "base_uri": "https://localhost:8080/"
        }
      },
      "source": [
        "# tensor.numpy()\n",
        "\n",
        "b = a.numpy()\n",
        "print(b)"
      ],
      "execution_count": 37,
      "outputs": [
        {
          "output_type": "stream",
          "name": "stdout",
          "text": [
            "[1. 1. 1. 1. 1.]\n"
          ]
        }
      ]
    },
    {
      "cell_type": "code",
      "metadata": {
        "ExecuteTime": {
          "end_time": "2018-10-16T12:05:53.759506Z",
          "start_time": "2018-10-16T12:05:53.752563Z"
        },
        "id": "HTwDpIgKhcoZ",
        "outputId": "e0835fb3-b1f5-43c3-b546-c3729a4a8cbc",
        "colab": {
          "base_uri": "https://localhost:8080/"
        }
      },
      "source": [
        "# torch.from_numpy(ndarray)\n",
        "\n",
        "a = np.ones(5) #a와 b는 연동됩니다.\n",
        "b = torch.from_numpy(a)\n",
        "\n",
        "np.add(a,1,out=a)\n",
        "\n",
        "print(a)\n",
        "print(b) #chartensor를 제외한 모든 tensor는 numpy로의 변환을 지원합니다."
      ],
      "execution_count": 38,
      "outputs": [
        {
          "output_type": "stream",
          "name": "stdout",
          "text": [
            "[2. 2. 2. 2. 2.]\n",
            "tensor([2., 2., 2., 2., 2.], dtype=torch.float64)\n"
          ]
        }
      ]
    },
    {
      "cell_type": "code",
      "metadata": {
        "id": "IPjfhZngBpXj",
        "outputId": "47728985-a577-4b9d-cfd7-e56af77dac31",
        "colab": {
          "base_uri": "https://localhost:8080/"
        }
      },
      "source": [
        "a = torch.rand(4)\n",
        "b= np.array(a)\n",
        "b"
      ],
      "execution_count": 39,
      "outputs": [
        {
          "output_type": "execute_result",
          "data": {
            "text/plain": [
              "array([0.6100285 , 0.5852186 , 0.54389536, 0.8709249 ], dtype=float32)"
            ]
          },
          "metadata": {},
          "execution_count": 39
        }
      ]
    },
    {
      "cell_type": "code",
      "metadata": {
        "id": "4i1a0KD0Bpw6",
        "outputId": "73ab8bce-b111-4bd2-f1cb-53db3e1f1870",
        "colab": {
          "base_uri": "https://localhost:8080/"
        }
      },
      "source": [
        "c = torch.tensor(b)\n",
        "c"
      ],
      "execution_count": 40,
      "outputs": [
        {
          "output_type": "execute_result",
          "data": {
            "text/plain": [
              "tensor([0.6100, 0.5852, 0.5439, 0.8709])"
            ]
          },
          "metadata": {},
          "execution_count": 40
        }
      ]
    },
    {
      "cell_type": "markdown",
      "metadata": {
        "id": "OAKz0E0Mhcoa"
      },
      "source": [
        "## 4. Tensor on GPU"
      ]
    },
    {
      "cell_type": "code",
      "metadata": {
        "id": "95L_U805CQAi",
        "outputId": "7aaedfe0-1de3-4a33-da95-8776705aa9c1",
        "colab": {
          "base_uri": "https://localhost:8080/"
        }
      },
      "source": [
        "torch.cuda.is_available()"
      ],
      "execution_count": 42,
      "outputs": [
        {
          "output_type": "execute_result",
          "data": {
            "text/plain": [
              "True"
            ]
          },
          "metadata": {},
          "execution_count": 42
        }
      ]
    },
    {
      "cell_type": "code",
      "metadata": {
        "id": "gzOuO_yCCWsJ",
        "outputId": "70ac0c54-64bf-4d16-a2b6-ccaac9cd8606",
        "colab": {
          "base_uri": "https://localhost:8080/"
        }
      },
      "source": [
        "a = torch.randn(1000000, device= torch.device('cuda'))\n",
        "b = torch.randn(1000000).cuda()\n",
        "c = a * b\n",
        "d  = a.cpu()* b.cpu()\n",
        "c.size()"
      ],
      "execution_count": 53,
      "outputs": [
        {
          "output_type": "execute_result",
          "data": {
            "text/plain": [
              "torch.Size([1000000])"
            ]
          },
          "metadata": {},
          "execution_count": 53
        }
      ]
    },
    {
      "cell_type": "code",
      "metadata": {
        "ExecuteTime": {
          "end_time": "2018-10-18T14:52:44.993367Z",
          "start_time": "2018-10-18T14:52:44.988429Z"
        },
        "colab": {
          "base_uri": "https://localhost:8080/"
        },
        "id": "GH_ANQSehcoa",
        "outputId": "98c14312-f192-4680-994c-57f51b8d51e0"
      },
      "source": [
        "x= torch.FloatTensor([[1,2,3],[4,5,6]])\n",
        "\n",
        "if torch.cuda.is_available():\n",
        "    x_cuda = x.cuda()\n",
        "else:\n",
        "    x_cuda = x.cpu()\n",
        "    \n",
        "print(x_cuda)"
      ],
      "execution_count": 41,
      "outputs": [
        {
          "output_type": "stream",
          "name": "stdout",
          "text": [
            "tensor([[1., 2., 3.],\n",
            "        [4., 5., 6.]], device='cuda:0')\n"
          ]
        }
      ]
    },
    {
      "cell_type": "code",
      "metadata": {
        "ExecuteTime": {
          "end_time": "2018-10-16T12:09:27.092831Z",
          "start_time": "2018-10-16T12:09:27.086847Z"
        },
        "id": "co-vbhrmhcoa"
      },
      "source": [
        "if torch.cuda.is_available():\n",
        "    device = torch.device(\"cuda\")\n",
        "    \n",
        "    y = torch.ones_like(x,device=device)\n",
        "    x = x.to(device)\n",
        "    z = x+y\n",
        "    print(z)\n",
        "    print(z.to(\"cpu\")) #.to 기능을 tensor를 GPU로 연산할 수 있습니다\n",
        "    print(z.to(\"cuda\"))"
      ],
      "execution_count": null,
      "outputs": []
    },
    {
      "cell_type": "code",
      "metadata": {
        "id": "7N5x8Ot4DQ4-",
        "outputId": "c4ac8e8f-5416-4d57-901d-7697b19f7e52",
        "colab": {
          "base_uri": "https://localhost:8080/"
        }
      },
      "source": [
        "torch.device(\"cuda:10\") # Gpu 가 여러개 있을 때, 특정 Gpu를 지정하는 방법 :숫자 -> 다른 디바이스끼리는 연산이 불가능하다!"
      ],
      "execution_count": 58,
      "outputs": [
        {
          "output_type": "execute_result",
          "data": {
            "text/plain": [
              "device(type='cuda', index=10)"
            ]
          },
          "metadata": {},
          "execution_count": 58
        }
      ]
    },
    {
      "cell_type": "markdown",
      "metadata": {
        "id": "B6iDIDM4hcoa"
      },
      "source": [
        "## 5. Indexing, Slicing, Joining\n",
        "\n",
        "### 1) Indexing"
      ]
    },
    {
      "cell_type": "code",
      "metadata": {
        "ExecuteTime": {
          "end_time": "2018-10-18T14:56:58.868223Z",
          "start_time": "2018-10-18T14:56:58.861290Z"
        },
        "id": "8MpsaT_ohcoa",
        "outputId": "8a41d089-3e65-43e0-9469-7f827ffb7a89",
        "colab": {
          "base_uri": "https://localhost:8080/"
        }
      },
      "source": [
        "# tensor.index_select(input,dim,index)\n",
        "\n",
        "x = torch.rand(4,3)\n",
        "out = torch.index_select(x,0,torch.LongTensor([0,3])) #0차원에서 , 0,3번 째를 가져온다. \n",
        "out1 =x[[0,3], : ]\n",
        "# index는 꼭 Longtensor로 입력해야 합니다.\n",
        "\n",
        "print(x.size(), out.size())\n",
        "print(x, \"\\n\", out)\n",
        "print(x, '\\m', out1)"
      ],
      "execution_count": 60,
      "outputs": [
        {
          "output_type": "stream",
          "name": "stdout",
          "text": [
            "torch.Size([4, 3]) torch.Size([2, 3])\n",
            "tensor([[0.7318, 0.8095, 0.7580],\n",
            "        [0.3087, 0.4476, 0.9985],\n",
            "        [0.9728, 0.6073, 0.2416],\n",
            "        [0.9507, 0.3791, 0.7065]]) \n",
            " tensor([[0.7318, 0.8095, 0.7580],\n",
            "        [0.9507, 0.3791, 0.7065]])\n",
            "tensor([[0.7318, 0.8095, 0.7580],\n",
            "        [0.3087, 0.4476, 0.9985],\n",
            "        [0.9728, 0.6073, 0.2416],\n",
            "        [0.9507, 0.3791, 0.7065]]) \\m tensor([[0.7318, 0.8095, 0.7580],\n",
            "        [0.9507, 0.3791, 0.7065]])\n"
          ]
        }
      ]
    },
    {
      "cell_type": "code",
      "metadata": {
        "id": "hxWpiy58Euoe",
        "outputId": "c172e964-651d-4cba-d177-b63d958fcbbc",
        "colab": {
          "base_uri": "https://localhost:8080/"
        }
      },
      "source": [
        "a = torch.eye(5)\n",
        "a[[0,1,2,3],[0,1,2,4]] # (0,0) , (1,1) ,(2,2),(3,4) 동시에 여러개를 인덱싱하는 방법"
      ],
      "execution_count": 62,
      "outputs": [
        {
          "output_type": "execute_result",
          "data": {
            "text/plain": [
              "tensor([1., 1., 1., 0.])"
            ]
          },
          "metadata": {},
          "execution_count": 62
        }
      ]
    },
    {
      "cell_type": "code",
      "metadata": {
        "ExecuteTime": {
          "end_time": "2018-10-18T14:58:17.485947Z",
          "start_time": "2018-10-18T14:58:17.476527Z"
        },
        "id": "R609qqAGhcoa",
        "outputId": "e9fc35e1-2514-4cde-f1ed-d0ad38951b37",
        "colab": {
          "base_uri": "https://localhost:8080/"
        }
      },
      "source": [
        "print(x.size(),'\\n', x)\n",
        "print(x[:,0].size(),x[:,0])\n",
        "print(x[0,:].size(),x[0,:])\n",
        "print(x[0:2,0:2].size(),'\\n', x[0:2,0:2])"
      ],
      "execution_count": 63,
      "outputs": [
        {
          "output_type": "stream",
          "name": "stdout",
          "text": [
            "torch.Size([4, 3]) \n",
            " tensor([[0.7318, 0.8095, 0.7580],\n",
            "        [0.3087, 0.4476, 0.9985],\n",
            "        [0.9728, 0.6073, 0.2416],\n",
            "        [0.9507, 0.3791, 0.7065]])\n",
            "torch.Size([4]) tensor([0.7318, 0.3087, 0.9728, 0.9507])\n",
            "torch.Size([3]) tensor([0.7318, 0.8095, 0.7580])\n",
            "torch.Size([2, 2]) \n",
            " tensor([[0.7318, 0.8095],\n",
            "        [0.3087, 0.4476]])\n"
          ]
        }
      ]
    },
    {
      "cell_type": "markdown",
      "metadata": {
        "id": "Hl_njbgFhcob"
      },
      "source": [
        "### 2) Joining"
      ]
    },
    {
      "cell_type": "code",
      "metadata": {
        "ExecuteTime": {
          "end_time": "2018-10-18T15:03:42.155801Z",
          "start_time": "2018-10-18T15:03:42.147864Z"
        },
        "id": "GueZ8ysUhcob",
        "outputId": "af89f6a7-c6c6-4def-d419-2e52a24f1512",
        "colab": {
          "base_uri": "https://localhost:8080/"
        }
      },
      "source": [
        "# torch.cat(seq, dim=0)\n",
        "# dim을 기준으로 tensor를 합칩니다.\n",
        "# dim = 0은 행, dim = 1은 열 기준입니다.\n",
        "\n",
        "x = torch.FloatTensor([[1,2,3],\n",
        "                       [4,5,6]])\n",
        "y = torch.FloatTensor([[7,8,9],\n",
        "                       [10,11,12]])\n",
        "z1 = torch.cat([x,y],dim = 0)\n",
        "z2 = torch.cat([x,y],dim = 1)\n",
        "\n",
        "print(x)\n",
        "print(y)\n",
        "print(z1)\n",
        "print(z2)"
      ],
      "execution_count": 64,
      "outputs": [
        {
          "output_type": "stream",
          "name": "stdout",
          "text": [
            "tensor([[1., 2., 3.],\n",
            "        [4., 5., 6.]])\n",
            "tensor([[ 7.,  8.,  9.],\n",
            "        [10., 11., 12.]])\n",
            "tensor([[ 1.,  2.,  3.],\n",
            "        [ 4.,  5.,  6.],\n",
            "        [ 7.,  8.,  9.],\n",
            "        [10., 11., 12.]])\n",
            "tensor([[ 1.,  2.,  3.,  7.,  8.,  9.],\n",
            "        [ 4.,  5.,  6., 10., 11., 12.]])\n"
          ]
        }
      ]
    },
    {
      "cell_type": "code",
      "metadata": {
        "ExecuteTime": {
          "end_time": "2018-10-18T15:06:42.528676Z",
          "start_time": "2018-10-18T15:06:42.521732Z"
        },
        "id": "TtVbwcLFhcob",
        "outputId": "38256c6e-cd56-48b5-a563-a73db52c2051",
        "colab": {
          "base_uri": "https://localhost:8080/"
        }
      },
      "source": [
        "# torch.stack(sequence,dim=0)\n",
        "# dim을 기준으로 쌓습니다.\n",
        "\n",
        "x = torch.FloatTensor([1,2,3])\n",
        "x_stack = torch.stack([x,x],dim=0)\n",
        "x_stack2 = torch.stack([x,x],dim=1)\n",
        "\n",
        "print(x_stack,\"\\n\",x_stack2)"
      ],
      "execution_count": 66,
      "outputs": [
        {
          "output_type": "stream",
          "name": "stdout",
          "text": [
            "tensor([[1., 2., 3.],\n",
            "        [1., 2., 3.]]) \n",
            " tensor([[1., 1.],\n",
            "        [2., 2.],\n",
            "        [3., 3.]])\n"
          ]
        }
      ]
    },
    {
      "cell_type": "markdown",
      "metadata": {
        "id": "ffO3MIhuhcob"
      },
      "source": [
        "### 3) Slicing"
      ]
    },
    {
      "cell_type": "code",
      "metadata": {
        "ExecuteTime": {
          "end_time": "2018-10-18T15:26:40.350021Z",
          "start_time": "2018-10-18T15:26:40.340105Z"
        },
        "id": "oxQrhzAjhcob",
        "outputId": "d07b8d75-5cc4-45fa-bb61-6066f950196e",
        "colab": {
          "base_uri": "https://localhost:8080/"
        }
      },
      "source": [
        "# torch.chunk(tensor, chunks, dim=0)\n",
        "# tensor를 chunk 단위로 쪼갭니다. chunk 개수 만큼 생성합니다.\n",
        "\n",
        "x = torch.FloatTensor([[1,2,3],\n",
        "                       [4,5,6]])\n",
        "y = torch.FloatTensor([[7,8,9],\n",
        "                       [10,11,12]])\n",
        "z1 = torch.cat([x,y],dim = 0)\n",
        "\n",
        "x_1, x_2 = torch.chunk(z1,2,dim=0) # 동일한 사이즈로 슬라이싱하는 방법 :chunk\n",
        "y_1, y_2, y_3 = torch.chunk(z1,3,dim=1)\n",
        "\n",
        "print(z1)\n",
        "print(x_1,x_2)\n",
        "print(y_1)\n",
        "print(y_2)\n",
        "print(y_3)"
      ],
      "execution_count": 69,
      "outputs": [
        {
          "output_type": "stream",
          "name": "stdout",
          "text": [
            "tensor([[ 1.,  2.,  3.],\n",
            "        [ 4.,  5.,  6.],\n",
            "        [ 7.,  8.,  9.],\n",
            "        [10., 11., 12.]])\n",
            "tensor([[1., 2., 3.],\n",
            "        [4., 5., 6.]]) tensor([[ 7.,  8.,  9.],\n",
            "        [10., 11., 12.]])\n",
            "tensor([[ 1.],\n",
            "        [ 4.],\n",
            "        [ 7.],\n",
            "        [10.]])\n",
            "tensor([[ 2.],\n",
            "        [ 5.],\n",
            "        [ 8.],\n",
            "        [11.]])\n",
            "tensor([[ 3.],\n",
            "        [ 6.],\n",
            "        [ 9.],\n",
            "        [12.]])\n"
          ]
        }
      ]
    },
    {
      "cell_type": "code",
      "metadata": {
        "ExecuteTime": {
          "end_time": "2018-10-18T15:30:36.566401Z",
          "start_time": "2018-10-18T15:30:36.560913Z"
        },
        "id": "JxurVBy-hcob",
        "outputId": "6308bbd6-be7c-455d-b4b9-2058850e7701",
        "colab": {
          "base_uri": "https://localhost:8080/"
        }
      },
      "source": [
        "# torch.split(tensor,split_size,dim=0) 각 size가 split_size만큼인 것을 생성합니다.\n",
        "\n",
        "x = torch.FloatTensor([[1,2,3],\n",
        "                       [4,5,6]])\n",
        "y = torch.FloatTensor([[7,8,9],\n",
        "                       [10,11,12]])\n",
        "z1 = torch.cat([x,y],dim = 0)\n",
        "\n",
        "x1,x2 = torch.split(z1,2,dim=0)\n",
        "y1,y2 = torch.split(z1,2,dim=1)\n",
        "\n",
        "print(z1)\n",
        "print(x1)\n",
        "print(x2)\n",
        "print(y1)\n",
        "print(y2)"
      ],
      "execution_count": 67,
      "outputs": [
        {
          "output_type": "stream",
          "name": "stdout",
          "text": [
            "tensor([[ 1.,  2.,  3.],\n",
            "        [ 4.,  5.,  6.],\n",
            "        [ 7.,  8.,  9.],\n",
            "        [10., 11., 12.]])\n",
            "tensor([[1., 2., 3.],\n",
            "        [4., 5., 6.]])\n",
            "tensor([[ 7.,  8.,  9.],\n",
            "        [10., 11., 12.]])\n",
            "tensor([[ 1.,  2.],\n",
            "        [ 4.,  5.],\n",
            "        [ 7.,  8.],\n",
            "        [10., 11.]])\n",
            "tensor([[ 3.],\n",
            "        [ 6.],\n",
            "        [ 9.],\n",
            "        [12.]])\n"
          ]
        }
      ]
    },
    {
      "cell_type": "markdown",
      "metadata": {
        "id": "zP38yguFhcoc"
      },
      "source": [
        "### 4) squeezing"
      ]
    },
    {
      "cell_type": "code",
      "metadata": {
        "ExecuteTime": {
          "end_time": "2018-10-18T15:32:18.274598Z",
          "start_time": "2018-10-18T15:32:18.270607Z"
        },
        "id": "jQNNQSA_hcoc",
        "outputId": "10fdcc0e-9a00-44bc-a69f-4087cfd15316",
        "colab": {
          "base_uri": "https://localhost:8080/"
        }
      },
      "source": [
        "# torch.squeeze(input, dim=None)\n",
        "# 1짜리 차원을 줄입니다.\n",
        "\n",
        "x1 = torch.FloatTensor(10,1,3,1,4)\n",
        "x2 = torch.squeeze(x1)\n",
        "\n",
        "x1.size(), x2.size()"
      ],
      "execution_count": 70,
      "outputs": [
        {
          "output_type": "execute_result",
          "data": {
            "text/plain": [
              "(torch.Size([10, 1, 3, 1, 4]), torch.Size([10, 3, 4]))"
            ]
          },
          "metadata": {},
          "execution_count": 70
        }
      ]
    },
    {
      "cell_type": "code",
      "metadata": {
        "ExecuteTime": {
          "end_time": "2018-10-18T15:33:42.680785Z",
          "start_time": "2018-10-18T15:33:42.668846Z"
        },
        "id": "oLbcvo1thcoc",
        "outputId": "dcf2d270-e988-4068-a6e7-879cd52ee522",
        "colab": {
          "base_uri": "https://localhost:8080/"
        }
      },
      "source": [
        "# torch.unsqueeze(input,dim=None)\n",
        "# 1짜리 차원을 더합니다.\n",
        "\n",
        "x1 = torch.FloatTensor(10,3,4)\n",
        "x2 = torch.unsqueeze(x1,dim=0)\n",
        "\n",
        "x.size(), x2.size()"
      ],
      "execution_count": 71,
      "outputs": [
        {
          "output_type": "execute_result",
          "data": {
            "text/plain": [
              "(torch.Size([2, 3]), torch.Size([1, 10, 3, 4]))"
            ]
          },
          "metadata": {},
          "execution_count": 71
        }
      ]
    },
    {
      "cell_type": "markdown",
      "metadata": {
        "id": "61SllZ3yhcoc"
      },
      "source": [
        "## 6. Initialization"
      ]
    },
    {
      "cell_type": "code",
      "metadata": {
        "ExecuteTime": {
          "end_time": "2018-10-18T15:34:35.243740Z",
          "start_time": "2018-10-18T15:34:35.234338Z"
        },
        "id": "0Rvr3joRhcoc",
        "outputId": "ee2b603e-1e43-458c-8325-d7e822dfba39",
        "colab": {
          "base_uri": "https://localhost:8080/"
        }
      },
      "source": [
        "import torch.nn.init as init\n",
        "\n",
        "x1 = init.uniform_(torch.FloatTensor(3,4),a=0,b=9) \n",
        "x2 = init.normal_(torch.FloatTensor(3,4),std=0.2)\n",
        "x3 = init.constant_(torch.FloatTensor(3,4),3.1415)\n",
        "\n",
        "x1,x2,x3"
      ],
      "execution_count": 72,
      "outputs": [
        {
          "output_type": "execute_result",
          "data": {
            "text/plain": [
              "(tensor([[5.8906, 0.4615, 1.6764, 8.5418],\n",
              "         [3.4401, 2.1966, 6.5125, 6.9531],\n",
              "         [1.7302, 8.9788, 1.2220, 4.1279]]),\n",
              " tensor([[ 0.4277, -0.1848,  0.0410,  0.3051],\n",
              "         [-0.0955, -0.0173,  0.0931, -0.4785],\n",
              "         [ 0.3193,  0.2456,  0.1070,  0.0555]]),\n",
              " tensor([[3.1415, 3.1415, 3.1415, 3.1415],\n",
              "         [3.1415, 3.1415, 3.1415, 3.1415],\n",
              "         [3.1415, 3.1415, 3.1415, 3.1415]]))"
            ]
          },
          "metadata": {},
          "execution_count": 72
        }
      ]
    },
    {
      "cell_type": "code",
      "metadata": {
        "id": "qEpMDgg2hcoc",
        "outputId": "162f0076-a5f8-45f8-98b2-2496fef3e0cb",
        "colab": {
          "base_uri": "https://localhost:8080/"
        }
      },
      "source": [
        "a = torch.randn(3,4)\n",
        "\n",
        "x1 = init.uniform_(a.clone(),a=0,b=9) \n",
        "x2 = init.normal_(a.clone(),std=0.2)\n",
        "x3 = init.constant_(a.clone(),3.1415)\n",
        "\n",
        "x1,x2,x3"
      ],
      "execution_count": 73,
      "outputs": [
        {
          "output_type": "execute_result",
          "data": {
            "text/plain": [
              "(tensor([[7.3033, 7.4332, 0.4677, 7.4304],\n",
              "         [3.7330, 5.8346, 4.0714, 3.9848],\n",
              "         [6.8912, 7.6912, 1.8050, 7.8047]]),\n",
              " tensor([[ 0.0091, -0.2225, -0.0228,  0.2197],\n",
              "         [-0.2433,  0.2162, -0.0169, -0.0464],\n",
              "         [ 0.2536, -0.1733,  0.2892, -0.2588]]),\n",
              " tensor([[3.1415, 3.1415, 3.1415, 3.1415],\n",
              "         [3.1415, 3.1415, 3.1415, 3.1415],\n",
              "         [3.1415, 3.1415, 3.1415, 3.1415]]))"
            ]
          },
          "metadata": {},
          "execution_count": 73
        }
      ]
    },
    {
      "cell_type": "code",
      "metadata": {
        "id": "-eze3NlqVkMl"
      },
      "source": [
        ""
      ],
      "execution_count": null,
      "outputs": []
    }
  ]
}