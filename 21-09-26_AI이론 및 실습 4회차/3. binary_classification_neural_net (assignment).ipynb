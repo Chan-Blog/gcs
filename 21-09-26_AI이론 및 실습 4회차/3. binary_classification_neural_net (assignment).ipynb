{
  "nbformat": 4,
  "nbformat_minor": 0,
  "metadata": {
    "kernelspec": {
      "display_name": "Python 3",
      "language": "python",
      "name": "python3"
    },
    "language_info": {
      "codemirror_mode": {
        "name": "ipython",
        "version": 3
      },
      "file_extension": ".py",
      "mimetype": "text/x-python",
      "name": "python",
      "nbconvert_exporter": "python",
      "pygments_lexer": "ipython3",
      "version": "3.8.3"
    },
    "latex_envs": {
      "LaTeX_envs_menu_present": true,
      "autoclose": false,
      "autocomplete": true,
      "bibliofile": "biblio.bib",
      "cite_by": "apalike",
      "current_citInitial": 1,
      "eqLabelWithNumbers": true,
      "eqNumInitial": 1,
      "hotkeys": {
        "equation": "Ctrl-E",
        "itemize": "Ctrl-I"
      },
      "labels_anchors": false,
      "latex_user_defs": false,
      "report_style_numbering": false,
      "user_envs_cfg": false
    },
    "toc": {
      "base_numbering": 1,
      "nav_menu": {},
      "number_sections": true,
      "sideBar": true,
      "skip_h1_title": false,
      "title_cell": "Table of Contents",
      "title_sidebar": "Contents",
      "toc_cell": false,
      "toc_position": {},
      "toc_section_display": true,
      "toc_window_display": false
    },
    "varInspector": {
      "cols": {
        "lenName": 16,
        "lenType": 16,
        "lenVar": 40
      },
      "kernels_config": {
        "python": {
          "delete_cmd_postfix": "",
          "delete_cmd_prefix": "del ",
          "library": "var_list.py",
          "varRefreshCmd": "print(var_dic_list())"
        },
        "r": {
          "delete_cmd_postfix": ") ",
          "delete_cmd_prefix": "rm(",
          "library": "var_list.r",
          "varRefreshCmd": "cat(var_dic_list()) "
        }
      },
      "types_to_exclude": [
        "module",
        "function",
        "builtin_function_or_method",
        "instance",
        "_Feature"
      ],
      "window_display": false
    },
    "colab": {
      "name": "3. binary_classification_neural_net (assignment).ipynb",
      "provenance": [],
      "collapsed_sections": [
        "-y0MK3h3bPeY",
        "Ah9wBbeibPec"
      ]
    },
    "accelerator": "GPU"
  },
  "cells": [
    {
      "cell_type": "markdown",
      "metadata": {
        "id": "tQbVFOyIbPeB"
      },
      "source": [
        "## Binary Classification - Titanic: Machine Learning from Disaster\n",
        "\n",
        "https://www.kaggle.com/c/titanic\n",
        "\n",
        "- 유명한 자료인 타이타닉 데이터 셋으로 생존과 사망에 대한 분류 문제를 풀어보도록 하겠습니다."
      ]
    },
    {
      "cell_type": "markdown",
      "metadata": {
        "id": "RmkGD5QbbPeI"
      },
      "source": [
        "![대체 텍스트](https://github.com/Chan-Sicpama/gcs/blob/main/figures2/binary.png?raw=1)"
      ]
    },
    {
      "cell_type": "code",
      "metadata": {
        "ExecuteTime": {
          "end_time": "2018-10-28T07:34:29.202719Z",
          "start_time": "2018-10-28T07:34:29.192102Z"
        },
        "scrolled": true,
        "id": "k7QpTypJbPeJ",
        "colab": {
          "base_uri": "https://localhost:8080/"
        },
        "outputId": "6f9f60a7-b26c-4a0f-b21b-3e3429e5655d"
      },
      "source": [
        "import torch\n",
        "import torch.nn as nn\n",
        "import torch.optim as optim\n",
        "import numpy as np\n",
        "import random\n",
        "import pandas as pd\n",
        "import matplotlib.pyplot as plt \n",
        "\n",
        "random.seed(1215)\n",
        "torch.manual_seed(1215)"
      ],
      "execution_count": 1,
      "outputs": [
        {
          "output_type": "execute_result",
          "data": {
            "text/plain": [
              "<torch._C.Generator at 0x7f5dc0154bd0>"
            ]
          },
          "metadata": {},
          "execution_count": 1
        }
      ]
    },
    {
      "cell_type": "code",
      "metadata": {
        "ExecuteTime": {
          "end_time": "2018-10-28T06:53:30.685976Z",
          "start_time": "2018-10-28T06:53:25.255348Z"
        },
        "id": "vcXrQjzYbPeM"
      },
      "source": [
        "from torch.utils.data import Dataset\n",
        "from torch.utils.data import DataLoader\n",
        "\n",
        "from sklearn.preprocessing import StandardScaler\n",
        "from sklearn.metrics import accuracy_score\n",
        "from sklearn.model_selection import train_test_split"
      ],
      "execution_count": 2,
      "outputs": []
    },
    {
      "cell_type": "markdown",
      "metadata": {
        "id": "e8pEEQILbPeN"
      },
      "source": [
        "# Load Data"
      ]
    },
    {
      "cell_type": "code",
      "metadata": {
        "id": "PaVrdTsSrVHL",
        "colab": {
          "resources": {
            "http://localhost:8080/nbextensions/google.colab/files.js": {
              "data": "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",
              "ok": true,
              "headers": [
                [
                  "content-type",
                  "application/javascript"
                ]
              ],
              "status": 200,
              "status_text": ""
            }
          },
          "base_uri": "https://localhost:8080/",
          "height": 147
        },
        "outputId": "5fad93a5-0f14-4ec8-ceba-f54dcb8a0ef2"
      },
      "source": [
        "from google.colab import files\n",
        "uploaded = files.upload()\n",
        "for fn in uploaded.keys():\n",
        "  print('{name} Uploaded.'.format(name=fn))"
      ],
      "execution_count": 3,
      "outputs": [
        {
          "output_type": "display_data",
          "data": {
            "text/html": [
              "\n",
              "     <input type=\"file\" id=\"files-5c366220-ec29-4661-bada-fae6f5aa6b41\" name=\"files[]\" multiple disabled\n",
              "        style=\"border:none\" />\n",
              "     <output id=\"result-5c366220-ec29-4661-bada-fae6f5aa6b41\">\n",
              "      Upload widget is only available when the cell has been executed in the\n",
              "      current browser session. Please rerun this cell to enable.\n",
              "      </output>\n",
              "      <script src=\"/nbextensions/google.colab/files.js\"></script> "
            ],
            "text/plain": [
              "<IPython.core.display.HTML object>"
            ]
          },
          "metadata": {}
        },
        {
          "output_type": "stream",
          "name": "stdout",
          "text": [
            "Saving test.csv to test.csv\n",
            "Saving train.csv to train.csv\n",
            "test.csv Uploaded.\n",
            "train.csv Uploaded.\n"
          ]
        }
      ]
    },
    {
      "cell_type": "code",
      "metadata": {
        "ExecuteTime": {
          "end_time": "2018-10-28T07:48:19.716052Z",
          "start_time": "2018-10-28T07:48:19.695224Z"
        },
        "id": "EQb7w0WFbPeO"
      },
      "source": [
        "import pandas as pd\n",
        "\n",
        "train_data = pd.read_csv(\"./train.csv\")\n",
        "test_data = pd.read_csv(\"./test.csv\")"
      ],
      "execution_count": 4,
      "outputs": []
    },
    {
      "cell_type": "code",
      "metadata": {
        "ExecuteTime": {
          "end_time": "2018-10-28T07:48:20.005530Z",
          "start_time": "2018-10-28T07:48:19.985459Z"
        },
        "id": "dIMMZZobbPeP",
        "colab": {
          "base_uri": "https://localhost:8080/",
          "height": 359
        },
        "outputId": "271522de-d998-43bc-9fe6-ed4971591e22"
      },
      "source": [
        "train_data.head(10)"
      ],
      "execution_count": 5,
      "outputs": [
        {
          "output_type": "execute_result",
          "data": {
            "text/html": [
              "<div>\n",
              "<style scoped>\n",
              "    .dataframe tbody tr th:only-of-type {\n",
              "        vertical-align: middle;\n",
              "    }\n",
              "\n",
              "    .dataframe tbody tr th {\n",
              "        vertical-align: top;\n",
              "    }\n",
              "\n",
              "    .dataframe thead th {\n",
              "        text-align: right;\n",
              "    }\n",
              "</style>\n",
              "<table border=\"1\" class=\"dataframe\">\n",
              "  <thead>\n",
              "    <tr style=\"text-align: right;\">\n",
              "      <th></th>\n",
              "      <th>PassengerId</th>\n",
              "      <th>Survived</th>\n",
              "      <th>Pclass</th>\n",
              "      <th>Name</th>\n",
              "      <th>Sex</th>\n",
              "      <th>Age</th>\n",
              "      <th>SibSp</th>\n",
              "      <th>Parch</th>\n",
              "      <th>Ticket</th>\n",
              "      <th>Fare</th>\n",
              "      <th>Cabin</th>\n",
              "      <th>Embarked</th>\n",
              "    </tr>\n",
              "  </thead>\n",
              "  <tbody>\n",
              "    <tr>\n",
              "      <th>0</th>\n",
              "      <td>1</td>\n",
              "      <td>0</td>\n",
              "      <td>3</td>\n",
              "      <td>Braund, Mr. Owen Harris</td>\n",
              "      <td>male</td>\n",
              "      <td>22.0</td>\n",
              "      <td>1</td>\n",
              "      <td>0</td>\n",
              "      <td>A/5 21171</td>\n",
              "      <td>7.2500</td>\n",
              "      <td>NaN</td>\n",
              "      <td>S</td>\n",
              "    </tr>\n",
              "    <tr>\n",
              "      <th>1</th>\n",
              "      <td>2</td>\n",
              "      <td>1</td>\n",
              "      <td>1</td>\n",
              "      <td>Cumings, Mrs. John Bradley (Florence Briggs Th...</td>\n",
              "      <td>female</td>\n",
              "      <td>38.0</td>\n",
              "      <td>1</td>\n",
              "      <td>0</td>\n",
              "      <td>PC 17599</td>\n",
              "      <td>71.2833</td>\n",
              "      <td>C85</td>\n",
              "      <td>C</td>\n",
              "    </tr>\n",
              "    <tr>\n",
              "      <th>2</th>\n",
              "      <td>3</td>\n",
              "      <td>1</td>\n",
              "      <td>3</td>\n",
              "      <td>Heikkinen, Miss. Laina</td>\n",
              "      <td>female</td>\n",
              "      <td>26.0</td>\n",
              "      <td>0</td>\n",
              "      <td>0</td>\n",
              "      <td>STON/O2. 3101282</td>\n",
              "      <td>7.9250</td>\n",
              "      <td>NaN</td>\n",
              "      <td>S</td>\n",
              "    </tr>\n",
              "    <tr>\n",
              "      <th>3</th>\n",
              "      <td>4</td>\n",
              "      <td>1</td>\n",
              "      <td>1</td>\n",
              "      <td>Futrelle, Mrs. Jacques Heath (Lily May Peel)</td>\n",
              "      <td>female</td>\n",
              "      <td>35.0</td>\n",
              "      <td>1</td>\n",
              "      <td>0</td>\n",
              "      <td>113803</td>\n",
              "      <td>53.1000</td>\n",
              "      <td>C123</td>\n",
              "      <td>S</td>\n",
              "    </tr>\n",
              "    <tr>\n",
              "      <th>4</th>\n",
              "      <td>5</td>\n",
              "      <td>0</td>\n",
              "      <td>3</td>\n",
              "      <td>Allen, Mr. William Henry</td>\n",
              "      <td>male</td>\n",
              "      <td>35.0</td>\n",
              "      <td>0</td>\n",
              "      <td>0</td>\n",
              "      <td>373450</td>\n",
              "      <td>8.0500</td>\n",
              "      <td>NaN</td>\n",
              "      <td>S</td>\n",
              "    </tr>\n",
              "    <tr>\n",
              "      <th>5</th>\n",
              "      <td>6</td>\n",
              "      <td>0</td>\n",
              "      <td>3</td>\n",
              "      <td>Moran, Mr. James</td>\n",
              "      <td>male</td>\n",
              "      <td>NaN</td>\n",
              "      <td>0</td>\n",
              "      <td>0</td>\n",
              "      <td>330877</td>\n",
              "      <td>8.4583</td>\n",
              "      <td>NaN</td>\n",
              "      <td>Q</td>\n",
              "    </tr>\n",
              "    <tr>\n",
              "      <th>6</th>\n",
              "      <td>7</td>\n",
              "      <td>0</td>\n",
              "      <td>1</td>\n",
              "      <td>McCarthy, Mr. Timothy J</td>\n",
              "      <td>male</td>\n",
              "      <td>54.0</td>\n",
              "      <td>0</td>\n",
              "      <td>0</td>\n",
              "      <td>17463</td>\n",
              "      <td>51.8625</td>\n",
              "      <td>E46</td>\n",
              "      <td>S</td>\n",
              "    </tr>\n",
              "    <tr>\n",
              "      <th>7</th>\n",
              "      <td>8</td>\n",
              "      <td>0</td>\n",
              "      <td>3</td>\n",
              "      <td>Palsson, Master. Gosta Leonard</td>\n",
              "      <td>male</td>\n",
              "      <td>2.0</td>\n",
              "      <td>3</td>\n",
              "      <td>1</td>\n",
              "      <td>349909</td>\n",
              "      <td>21.0750</td>\n",
              "      <td>NaN</td>\n",
              "      <td>S</td>\n",
              "    </tr>\n",
              "    <tr>\n",
              "      <th>8</th>\n",
              "      <td>9</td>\n",
              "      <td>1</td>\n",
              "      <td>3</td>\n",
              "      <td>Johnson, Mrs. Oscar W (Elisabeth Vilhelmina Berg)</td>\n",
              "      <td>female</td>\n",
              "      <td>27.0</td>\n",
              "      <td>0</td>\n",
              "      <td>2</td>\n",
              "      <td>347742</td>\n",
              "      <td>11.1333</td>\n",
              "      <td>NaN</td>\n",
              "      <td>S</td>\n",
              "    </tr>\n",
              "    <tr>\n",
              "      <th>9</th>\n",
              "      <td>10</td>\n",
              "      <td>1</td>\n",
              "      <td>2</td>\n",
              "      <td>Nasser, Mrs. Nicholas (Adele Achem)</td>\n",
              "      <td>female</td>\n",
              "      <td>14.0</td>\n",
              "      <td>1</td>\n",
              "      <td>0</td>\n",
              "      <td>237736</td>\n",
              "      <td>30.0708</td>\n",
              "      <td>NaN</td>\n",
              "      <td>C</td>\n",
              "    </tr>\n",
              "  </tbody>\n",
              "</table>\n",
              "</div>"
            ],
            "text/plain": [
              "   PassengerId  Survived  Pclass  ...     Fare Cabin  Embarked\n",
              "0            1         0       3  ...   7.2500   NaN         S\n",
              "1            2         1       1  ...  71.2833   C85         C\n",
              "2            3         1       3  ...   7.9250   NaN         S\n",
              "3            4         1       1  ...  53.1000  C123         S\n",
              "4            5         0       3  ...   8.0500   NaN         S\n",
              "5            6         0       3  ...   8.4583   NaN         Q\n",
              "6            7         0       1  ...  51.8625   E46         S\n",
              "7            8         0       3  ...  21.0750   NaN         S\n",
              "8            9         1       3  ...  11.1333   NaN         S\n",
              "9           10         1       2  ...  30.0708   NaN         C\n",
              "\n",
              "[10 rows x 12 columns]"
            ]
          },
          "metadata": {},
          "execution_count": 5
        }
      ]
    },
    {
      "cell_type": "code",
      "metadata": {
        "id": "rjj0lHYjbPeQ",
        "colab": {
          "base_uri": "https://localhost:8080/",
          "height": 359
        },
        "outputId": "4c04e3bc-072d-45ae-fd76-f3ca925af335"
      },
      "source": [
        "test_data.head(10)"
      ],
      "execution_count": 6,
      "outputs": [
        {
          "output_type": "execute_result",
          "data": {
            "text/html": [
              "<div>\n",
              "<style scoped>\n",
              "    .dataframe tbody tr th:only-of-type {\n",
              "        vertical-align: middle;\n",
              "    }\n",
              "\n",
              "    .dataframe tbody tr th {\n",
              "        vertical-align: top;\n",
              "    }\n",
              "\n",
              "    .dataframe thead th {\n",
              "        text-align: right;\n",
              "    }\n",
              "</style>\n",
              "<table border=\"1\" class=\"dataframe\">\n",
              "  <thead>\n",
              "    <tr style=\"text-align: right;\">\n",
              "      <th></th>\n",
              "      <th>PassengerId</th>\n",
              "      <th>Pclass</th>\n",
              "      <th>Name</th>\n",
              "      <th>Sex</th>\n",
              "      <th>Age</th>\n",
              "      <th>SibSp</th>\n",
              "      <th>Parch</th>\n",
              "      <th>Ticket</th>\n",
              "      <th>Fare</th>\n",
              "      <th>Cabin</th>\n",
              "      <th>Embarked</th>\n",
              "    </tr>\n",
              "  </thead>\n",
              "  <tbody>\n",
              "    <tr>\n",
              "      <th>0</th>\n",
              "      <td>892</td>\n",
              "      <td>3</td>\n",
              "      <td>Kelly, Mr. James</td>\n",
              "      <td>male</td>\n",
              "      <td>34.5</td>\n",
              "      <td>0</td>\n",
              "      <td>0</td>\n",
              "      <td>330911</td>\n",
              "      <td>7.8292</td>\n",
              "      <td>NaN</td>\n",
              "      <td>Q</td>\n",
              "    </tr>\n",
              "    <tr>\n",
              "      <th>1</th>\n",
              "      <td>893</td>\n",
              "      <td>3</td>\n",
              "      <td>Wilkes, Mrs. James (Ellen Needs)</td>\n",
              "      <td>female</td>\n",
              "      <td>47.0</td>\n",
              "      <td>1</td>\n",
              "      <td>0</td>\n",
              "      <td>363272</td>\n",
              "      <td>7.0000</td>\n",
              "      <td>NaN</td>\n",
              "      <td>S</td>\n",
              "    </tr>\n",
              "    <tr>\n",
              "      <th>2</th>\n",
              "      <td>894</td>\n",
              "      <td>2</td>\n",
              "      <td>Myles, Mr. Thomas Francis</td>\n",
              "      <td>male</td>\n",
              "      <td>62.0</td>\n",
              "      <td>0</td>\n",
              "      <td>0</td>\n",
              "      <td>240276</td>\n",
              "      <td>9.6875</td>\n",
              "      <td>NaN</td>\n",
              "      <td>Q</td>\n",
              "    </tr>\n",
              "    <tr>\n",
              "      <th>3</th>\n",
              "      <td>895</td>\n",
              "      <td>3</td>\n",
              "      <td>Wirz, Mr. Albert</td>\n",
              "      <td>male</td>\n",
              "      <td>27.0</td>\n",
              "      <td>0</td>\n",
              "      <td>0</td>\n",
              "      <td>315154</td>\n",
              "      <td>8.6625</td>\n",
              "      <td>NaN</td>\n",
              "      <td>S</td>\n",
              "    </tr>\n",
              "    <tr>\n",
              "      <th>4</th>\n",
              "      <td>896</td>\n",
              "      <td>3</td>\n",
              "      <td>Hirvonen, Mrs. Alexander (Helga E Lindqvist)</td>\n",
              "      <td>female</td>\n",
              "      <td>22.0</td>\n",
              "      <td>1</td>\n",
              "      <td>1</td>\n",
              "      <td>3101298</td>\n",
              "      <td>12.2875</td>\n",
              "      <td>NaN</td>\n",
              "      <td>S</td>\n",
              "    </tr>\n",
              "    <tr>\n",
              "      <th>5</th>\n",
              "      <td>897</td>\n",
              "      <td>3</td>\n",
              "      <td>Svensson, Mr. Johan Cervin</td>\n",
              "      <td>male</td>\n",
              "      <td>14.0</td>\n",
              "      <td>0</td>\n",
              "      <td>0</td>\n",
              "      <td>7538</td>\n",
              "      <td>9.2250</td>\n",
              "      <td>NaN</td>\n",
              "      <td>S</td>\n",
              "    </tr>\n",
              "    <tr>\n",
              "      <th>6</th>\n",
              "      <td>898</td>\n",
              "      <td>3</td>\n",
              "      <td>Connolly, Miss. Kate</td>\n",
              "      <td>female</td>\n",
              "      <td>30.0</td>\n",
              "      <td>0</td>\n",
              "      <td>0</td>\n",
              "      <td>330972</td>\n",
              "      <td>7.6292</td>\n",
              "      <td>NaN</td>\n",
              "      <td>Q</td>\n",
              "    </tr>\n",
              "    <tr>\n",
              "      <th>7</th>\n",
              "      <td>899</td>\n",
              "      <td>2</td>\n",
              "      <td>Caldwell, Mr. Albert Francis</td>\n",
              "      <td>male</td>\n",
              "      <td>26.0</td>\n",
              "      <td>1</td>\n",
              "      <td>1</td>\n",
              "      <td>248738</td>\n",
              "      <td>29.0000</td>\n",
              "      <td>NaN</td>\n",
              "      <td>S</td>\n",
              "    </tr>\n",
              "    <tr>\n",
              "      <th>8</th>\n",
              "      <td>900</td>\n",
              "      <td>3</td>\n",
              "      <td>Abrahim, Mrs. Joseph (Sophie Halaut Easu)</td>\n",
              "      <td>female</td>\n",
              "      <td>18.0</td>\n",
              "      <td>0</td>\n",
              "      <td>0</td>\n",
              "      <td>2657</td>\n",
              "      <td>7.2292</td>\n",
              "      <td>NaN</td>\n",
              "      <td>C</td>\n",
              "    </tr>\n",
              "    <tr>\n",
              "      <th>9</th>\n",
              "      <td>901</td>\n",
              "      <td>3</td>\n",
              "      <td>Davies, Mr. John Samuel</td>\n",
              "      <td>male</td>\n",
              "      <td>21.0</td>\n",
              "      <td>2</td>\n",
              "      <td>0</td>\n",
              "      <td>A/4 48871</td>\n",
              "      <td>24.1500</td>\n",
              "      <td>NaN</td>\n",
              "      <td>S</td>\n",
              "    </tr>\n",
              "  </tbody>\n",
              "</table>\n",
              "</div>"
            ],
            "text/plain": [
              "   PassengerId  Pclass  ... Cabin Embarked\n",
              "0          892       3  ...   NaN        Q\n",
              "1          893       3  ...   NaN        S\n",
              "2          894       2  ...   NaN        Q\n",
              "3          895       3  ...   NaN        S\n",
              "4          896       3  ...   NaN        S\n",
              "5          897       3  ...   NaN        S\n",
              "6          898       3  ...   NaN        Q\n",
              "7          899       2  ...   NaN        S\n",
              "8          900       3  ...   NaN        C\n",
              "9          901       3  ...   NaN        S\n",
              "\n",
              "[10 rows x 11 columns]"
            ]
          },
          "metadata": {},
          "execution_count": 6
        }
      ]
    },
    {
      "cell_type": "markdown",
      "metadata": {
        "id": "jX3Yc_HxbPeS"
      },
      "source": [
        "# Preprocessing\n",
        "- Pclass, Sex, Age, SibSp, Parch, Fare 총 6개의 feature를 사용하겠습니다.\n",
        "- 별도의 feature engineering은 하지 않겠습니다.\n",
        "- kaggle data이기 때문에 test_data의 \"Survived\" 열은 없습니다.\n",
        "- 우리가 예측한 결과를 csv 파일로 제출하는 형태입니다."
      ]
    },
    {
      "cell_type": "markdown",
      "metadata": {
        "id": "JxGugBSebPeT"
      },
      "source": [
        "### categorical variable 처리"
      ]
    },
    {
      "cell_type": "code",
      "metadata": {
        "id": "K48FXiY1bPeU",
        "colab": {
          "base_uri": "https://localhost:8080/"
        },
        "outputId": "6ba978a7-3c24-4a42-abc6-8ee851024efe"
      },
      "source": [
        "train_data[\"Sex\"].head(10)"
      ],
      "execution_count": 7,
      "outputs": [
        {
          "output_type": "execute_result",
          "data": {
            "text/plain": [
              "0      male\n",
              "1    female\n",
              "2    female\n",
              "3    female\n",
              "4      male\n",
              "5      male\n",
              "6      male\n",
              "7      male\n",
              "8    female\n",
              "9    female\n",
              "Name: Sex, dtype: object"
            ]
          },
          "metadata": {},
          "execution_count": 7
        }
      ]
    },
    {
      "cell_type": "code",
      "metadata": {
        "id": "IqOsr-jsbPeU"
      },
      "source": [
        "train_data[\"Sex\"] = train_data[\"Sex\"].map({\"male\": 1, \"female\": 0})\n",
        "test_data[\"Sex\"] = test_data[\"Sex\"].map({\"male\": 1, \"female\": 0})"
      ],
      "execution_count": 8,
      "outputs": []
    },
    {
      "cell_type": "code",
      "metadata": {
        "id": "G_Yej7DybPeV",
        "colab": {
          "base_uri": "https://localhost:8080/"
        },
        "outputId": "2367cefb-d135-43fe-9aee-f24ca931b01b"
      },
      "source": [
        "train_data[\"Sex\"].head(10)"
      ],
      "execution_count": 9,
      "outputs": [
        {
          "output_type": "execute_result",
          "data": {
            "text/plain": [
              "0    1\n",
              "1    0\n",
              "2    0\n",
              "3    0\n",
              "4    1\n",
              "5    1\n",
              "6    1\n",
              "7    1\n",
              "8    0\n",
              "9    0\n",
              "Name: Sex, dtype: int64"
            ]
          },
          "metadata": {},
          "execution_count": 9
        }
      ]
    },
    {
      "cell_type": "markdown",
      "metadata": {
        "id": "QmwsvSsxbPeV"
      },
      "source": [
        "### 데이터셋 구성"
      ]
    },
    {
      "cell_type": "code",
      "metadata": {
        "ExecuteTime": {
          "end_time": "2018-10-28T07:48:21.754377Z",
          "start_time": "2018-10-28T07:48:21.739961Z"
        },
        "id": "0mWGmlM-bPeW"
      },
      "source": [
        "data_X = train_data[[\"Pclass\", \"Sex\", \"Age\", \"SibSp\", \"Parch\", \"Fare\"]]\n",
        "data_y = train_data[\"Survived\"]"
      ],
      "execution_count": 10,
      "outputs": []
    },
    {
      "cell_type": "code",
      "metadata": {
        "id": "J8vdM8qTbPeW",
        "colab": {
          "base_uri": "https://localhost:8080/"
        },
        "outputId": "bacab1d1-ffdc-4ac3-bfc4-55e63f604f0d"
      },
      "source": [
        "len(data_X)"
      ],
      "execution_count": 11,
      "outputs": [
        {
          "output_type": "execute_result",
          "data": {
            "text/plain": [
              "891"
            ]
          },
          "metadata": {},
          "execution_count": 11
        }
      ]
    },
    {
      "cell_type": "code",
      "metadata": {
        "id": "8ssi3wHUbPeX"
      },
      "source": [
        "train_X, test_X, train_y, test_y = train_test_split(data_X, data_y, test_size=0.3)"
      ],
      "execution_count": 12,
      "outputs": []
    },
    {
      "cell_type": "code",
      "metadata": {
        "id": "rV5ZXqYcbPeX",
        "colab": {
          "base_uri": "https://localhost:8080/"
        },
        "outputId": "d977ae48-805e-472e-ab8d-8125ac5c0706"
      },
      "source": [
        "len(train_X), len(data_X)*.7"
      ],
      "execution_count": 13,
      "outputs": [
        {
          "output_type": "execute_result",
          "data": {
            "text/plain": [
              "(623, 623.6999999999999)"
            ]
          },
          "metadata": {},
          "execution_count": 13
        }
      ]
    },
    {
      "cell_type": "code",
      "metadata": {
        "id": "s9_Wvzx5bPeY",
        "colab": {
          "base_uri": "https://localhost:8080/"
        },
        "outputId": "1692af88-1d54-44cf-a820-5401730a0d97"
      },
      "source": [
        "len(test_X), len(data_X)*.3"
      ],
      "execution_count": 14,
      "outputs": [
        {
          "output_type": "execute_result",
          "data": {
            "text/plain": [
              "(268, 267.3)"
            ]
          },
          "metadata": {},
          "execution_count": 14
        }
      ]
    },
    {
      "cell_type": "markdown",
      "metadata": {
        "id": "-y0MK3h3bPeY"
      },
      "source": [
        "### null 값 확인 (결측값)"
      ]
    },
    {
      "cell_type": "code",
      "metadata": {
        "ExecuteTime": {
          "end_time": "2018-10-28T07:48:22.020698Z",
          "start_time": "2018-10-28T07:48:22.006813Z"
        },
        "id": "LEdpyMEvbPeY",
        "colab": {
          "base_uri": "https://localhost:8080/"
        },
        "outputId": "024a7cf6-7143-4aa9-80b4-afa18b7dcb5a"
      },
      "source": [
        "print('Number of null in train_X:', train_X.isnull().sum())\n",
        "print(\"\\n\",'Number of null in test_X:', test_X.isnull().sum())\n",
        "print(\"\\n\",'Number of nullin train y:', train_y.isnull().sum())\n",
        "print(\"\\n\",'Number of nullin train y:', test_y.isnull().sum())\n",
        "\n",
        "print(\"\\n\",np.mean(train_X[\"Age\"]))"
      ],
      "execution_count": 15,
      "outputs": [
        {
          "output_type": "stream",
          "name": "stdout",
          "text": [
            "Number of null in train_X: Pclass      0\n",
            "Sex         0\n",
            "Age       125\n",
            "SibSp       0\n",
            "Parch       0\n",
            "Fare        0\n",
            "dtype: int64\n",
            "\n",
            " Number of null in test_X: Pclass     0\n",
            "Sex        0\n",
            "Age       52\n",
            "SibSp      0\n",
            "Parch      0\n",
            "Fare       0\n",
            "dtype: int64\n",
            "\n",
            " Number of nullin train y: 0\n",
            "\n",
            " Number of nullin train y: 0\n",
            "\n",
            " 30.13604417670683\n"
          ]
        }
      ]
    },
    {
      "cell_type": "markdown",
      "metadata": {
        "id": "A16J7K_jbPeY"
      },
      "source": [
        "- 간단하게 age와 fare의 na 값은 평균으로 대체"
      ]
    },
    {
      "cell_type": "code",
      "metadata": {
        "ExecuteTime": {
          "end_time": "2018-10-28T07:48:23.836865Z",
          "start_time": "2018-10-28T07:48:23.823969Z"
        },
        "scrolled": false,
        "id": "E9Ls0c0lbPeY"
      },
      "source": [
        "pd.options.mode.chained_assignment = None\n",
        "\n",
        "train_X.loc[:,\"Age\"] = train_X.loc[:,\"Age\"].replace(np.nan,30)\n",
        "test_X.loc[:,\"Age\"] = test_X.loc[:,\"Age\"].replace(np.nan,30)"
      ],
      "execution_count": 16,
      "outputs": []
    },
    {
      "cell_type": "code",
      "metadata": {
        "ExecuteTime": {
          "end_time": "2018-10-28T07:48:24.418285Z",
          "start_time": "2018-10-28T07:48:24.406782Z"
        },
        "id": "PiDW3rlNbPeZ",
        "colab": {
          "base_uri": "https://localhost:8080/"
        },
        "outputId": "249e3930-70c7-4557-baf0-d4995fa17e75"
      },
      "source": [
        "print('Number of null:', train_X.isnull().sum())\n",
        "print(\"\\n\",'Number of null:', test_X.isnull().sum())"
      ],
      "execution_count": 17,
      "outputs": [
        {
          "output_type": "stream",
          "name": "stdout",
          "text": [
            "Number of null: Pclass    0\n",
            "Sex       0\n",
            "Age       0\n",
            "SibSp     0\n",
            "Parch     0\n",
            "Fare      0\n",
            "dtype: int64\n",
            "\n",
            " Number of null: Pclass    0\n",
            "Sex       0\n",
            "Age       0\n",
            "SibSp     0\n",
            "Parch     0\n",
            "Fare      0\n",
            "dtype: int64\n"
          ]
        }
      ]
    },
    {
      "cell_type": "code",
      "metadata": {
        "ExecuteTime": {
          "end_time": "2018-10-28T07:48:26.498112Z",
          "start_time": "2018-10-28T07:48:26.492656Z"
        },
        "id": "kGHwYg-vbPeZ",
        "colab": {
          "base_uri": "https://localhost:8080/"
        },
        "outputId": "62879226-8b61-4315-f39b-e19184f61632"
      },
      "source": [
        "train_y.head()"
      ],
      "execution_count": 18,
      "outputs": [
        {
          "output_type": "execute_result",
          "data": {
            "text/plain": [
              "379    0\n",
              "218    1\n",
              "716    1\n",
              "629    0\n",
              "833    0\n",
              "Name: Survived, dtype: int64"
            ]
          },
          "metadata": {},
          "execution_count": 18
        }
      ]
    },
    {
      "cell_type": "code",
      "metadata": {
        "ExecuteTime": {
          "end_time": "2018-10-28T07:48:27.198668Z",
          "start_time": "2018-10-28T07:48:27.192577Z"
        },
        "id": "rtuNWEeEbPeZ",
        "colab": {
          "base_uri": "https://localhost:8080/"
        },
        "outputId": "6662a957-f378-4e5d-dde4-db7b972e73b4"
      },
      "source": [
        "len(train_X), len(test_X), len(train_y), len(test_y)"
      ],
      "execution_count": 19,
      "outputs": [
        {
          "output_type": "execute_result",
          "data": {
            "text/plain": [
              "(623, 268, 623, 268)"
            ]
          },
          "metadata": {},
          "execution_count": 19
        }
      ]
    },
    {
      "cell_type": "markdown",
      "metadata": {
        "id": "dV3Y1PC5bPeZ"
      },
      "source": [
        "# Train model (PyTorch)\n",
        "1. dataset, dataloader 정의\n",
        "2. 모델 정의\n",
        "3. 모델 학습 \n",
        "4. 모델 평가"
      ]
    },
    {
      "cell_type": "markdown",
      "metadata": {
        "id": "pz7bvYSPbPeZ"
      },
      "source": [
        "- train, test dataset을 출력할 수 있는 class를 만듭니다."
      ]
    },
    {
      "cell_type": "code",
      "metadata": {
        "ExecuteTime": {
          "end_time": "2018-10-28T07:48:30.938583Z",
          "start_time": "2018-10-28T07:48:30.931143Z"
        },
        "id": "Ze53fTkIbPeZ"
      },
      "source": [
        "class simple_dataset(Dataset):\n",
        "    \n",
        "    def __init__(self, X_data, y_data):\n",
        "        self.X_data = X_data # float\n",
        "        self.y_data = y_data # 0,1 int => long으로 많이 쓴다\n",
        "        \n",
        "    def __getitem__(self, index):\n",
        "        return self.X_data[index], self.y_data[index]\n",
        "        \n",
        "    def __len__ (self):\n",
        "        return len(self.X_data)"
      ],
      "execution_count": 20,
      "outputs": []
    },
    {
      "cell_type": "code",
      "metadata": {
        "id": "0bQ6b8_QbPea",
        "colab": {
          "base_uri": "https://localhost:8080/"
        },
        "outputId": "c62ffc63-ac28-422c-b174-c5226b437254"
      },
      "source": [
        "type(test_X)"
      ],
      "execution_count": 21,
      "outputs": [
        {
          "output_type": "execute_result",
          "data": {
            "text/plain": [
              "pandas.core.frame.DataFrame"
            ]
          },
          "metadata": {},
          "execution_count": 21
        }
      ]
    },
    {
      "cell_type": "code",
      "metadata": {
        "ExecuteTime": {
          "end_time": "2018-10-28T07:48:32.125111Z",
          "start_time": "2018-10-28T07:48:32.117187Z"
        },
        "id": "iTTmOkOcbPea"
      },
      "source": [
        "# 정규화합니다\n",
        "scaler = StandardScaler()\n",
        "train_data = simple_dataset(torch.FloatTensor(scaler.fit_transform(train_X.to_numpy())), torch.LongTensor(train_y.to_numpy()))\n",
        "test_data = simple_dataset(torch.FloatTensor(scaler.fit_transform(test_X.to_numpy())), torch.LongTensor(test_y.to_numpy()))"
      ],
      "execution_count": 22,
      "outputs": []
    },
    {
      "cell_type": "code",
      "metadata": {
        "id": "vt8OOW_7bPea",
        "colab": {
          "base_uri": "https://localhost:8080/"
        },
        "outputId": "6cc444cb-c695-4124-e985-e77baf8ad492"
      },
      "source": [
        "len(train_data), len(test_data)"
      ],
      "execution_count": 23,
      "outputs": [
        {
          "output_type": "execute_result",
          "data": {
            "text/plain": [
              "(623, 268)"
            ]
          },
          "metadata": {},
          "execution_count": 23
        }
      ]
    },
    {
      "cell_type": "code",
      "metadata": {
        "ExecuteTime": {
          "end_time": "2018-10-28T07:48:51.854783Z",
          "start_time": "2018-10-28T07:48:51.849359Z"
        },
        "id": "rHGspM79bPea",
        "colab": {
          "base_uri": "https://localhost:8080/"
        },
        "outputId": "83ee3682-d856-4112-a71f-d46df7a349a5"
      },
      "source": [
        "train_data.__getitem__(0)"
      ],
      "execution_count": 24,
      "outputs": [
        {
          "output_type": "execute_result",
          "data": {
            "text/plain": [
              "(tensor([ 0.8010,  0.7415, -0.8342, -0.4830, -0.4823, -0.4973]), tensor(0))"
            ]
          },
          "metadata": {},
          "execution_count": 24
        }
      ]
    },
    {
      "cell_type": "code",
      "metadata": {
        "id": "uygHmaGDbPea",
        "colab": {
          "base_uri": "https://localhost:8080/"
        },
        "outputId": "339b7fed-322f-413f-b125-1a7b35bc7071"
      },
      "source": [
        "train_data[0]"
      ],
      "execution_count": 25,
      "outputs": [
        {
          "output_type": "execute_result",
          "data": {
            "text/plain": [
              "(tensor([ 0.8010,  0.7415, -0.8342, -0.4830, -0.4823, -0.4973]), tensor(0))"
            ]
          },
          "metadata": {},
          "execution_count": 25
        }
      ]
    },
    {
      "cell_type": "code",
      "metadata": {
        "id": "qK4pX6ASbPeb"
      },
      "source": [
        ""
      ],
      "execution_count": 25,
      "outputs": []
    },
    {
      "cell_type": "markdown",
      "metadata": {
        "id": "kLFSK0k8bPeb"
      },
      "source": [
        "## Modeling"
      ]
    },
    {
      "cell_type": "code",
      "metadata": {
        "ExecuteTime": {
          "end_time": "2018-10-28T08:24:00.698892Z",
          "start_time": "2018-10-28T08:24:00.685532Z"
        },
        "id": "gc1UlS5ybPeb"
      },
      "source": [
        "class Binary_Classification(nn.Module):\n",
        "    \n",
        "    def __init__(self, num_features, num_classes):\n",
        "        super(Binary_Classification, self).__init__()\n",
        "        \n",
        "        self.Layer_1 = nn.Linear(num_features, 30) # (mini batch에 들어있는 item 개수, 6(num_features) ) ->(mini batch에 들어있는 item 개수 , 30 )\n",
        "        self.Layer_2 = nn.Linear(30,20) \n",
        "        self.Layer_3 = nn.Linear(20,10)\n",
        "        self.Layer_out = nn.Linear(10, num_classes)\n",
        "        ################################################\n",
        "        #  TODO    Layer 만들기                        #\n",
        "        ################################################\n",
        "        \n",
        "        ################################################\n",
        "        #  가능한 답은 하나가 아니므로 성능이 더 좋을  #\n",
        "        #  법할 모델을 다양하게 시도해보시길 바랍니다  #\n",
        "        ################################################\n",
        "\n",
        "        self.relu = nn.ReLU()\n",
        "        \n",
        "    def forward(self, inputs):\n",
        "        \n",
        "        x = self.Layer_1(inputs)\n",
        "        x = self.relu(x)\n",
        "        x = self.Layer_2(x)\n",
        "        x = self.relu(x)\n",
        "        x = self.Layer_3(x)\n",
        "        x = self.relu(x)\n",
        "        ################################################\n",
        "        #  TODO       feature를 layer를 통과시키기     #\n",
        "        ################################################\n",
        "\n",
        "        ################################################\n",
        "        #  가능한 답은 하나가 아니므로 성능이 더 좋을  #\n",
        "        #  법할 모델을 다양하게 시도해보시길 바랍니다  #\n",
        "        ################################################\n",
        "        \n",
        "        x = self.Layer_out(x)\n",
        "\n",
        "        return x"
      ],
      "execution_count": 26,
      "outputs": []
    },
    {
      "cell_type": "code",
      "metadata": {
        "id": "pGQc2LCKbPeb"
      },
      "source": [
        ""
      ],
      "execution_count": 26,
      "outputs": []
    },
    {
      "cell_type": "code",
      "metadata": {
        "id": "e1PUlbHfbPeb"
      },
      "source": [
        ""
      ],
      "execution_count": 26,
      "outputs": []
    },
    {
      "cell_type": "markdown",
      "metadata": {
        "id": "FrZ560kLbPeb"
      },
      "source": [
        "## Training"
      ]
    },
    {
      "cell_type": "code",
      "metadata": {
        "id": "Bqone0Y2bPeb"
      },
      "source": [
        "EPOCHS = 3000\n",
        "BATCH_SIZE = 128\n",
        "\n",
        "train_loader = DataLoader(dataset=train_data, batch_size=BATCH_SIZE, shuffle=True)\n",
        "test_loader = DataLoader(dataset=test_data, batch_size=1, shuffle=False)\n",
        "\n",
        "model = Binary_Classification(num_features=6, num_classes=2)\n",
        "\n",
        "criterion = nn.CrossEntropyLoss() # https://pytorch.org/docs/stable/nn.html\n",
        "optimizer = optim.Adam(model.parameters(), lr=0.001) #learning rate 0.01~ 0.0001 가장 많이 쓰인다. "
      ],
      "execution_count": 33,
      "outputs": []
    },
    {
      "cell_type": "markdown",
      "metadata": {
        "id": "Ah9wBbeibPec"
      },
      "source": [
        "### 데이터 사이즈 확인 "
      ]
    },
    {
      "cell_type": "code",
      "metadata": {
        "id": "Tv3vBuC4bPec",
        "colab": {
          "base_uri": "https://localhost:8080/"
        },
        "outputId": "0fedf1c5-d09e-47e5-aa3e-b44f1873664a"
      },
      "source": [
        "for epoch in range(EPOCHS):\n",
        "    for X_batch, y_batch in train_loader:\n",
        "        print(X_batch.size(), y_batch.size())\n",
        "        break\n",
        "    break"
      ],
      "execution_count": 34,
      "outputs": [
        {
          "output_type": "stream",
          "name": "stdout",
          "text": [
            "torch.Size([128, 6]) torch.Size([128])\n"
          ]
        }
      ]
    },
    {
      "cell_type": "code",
      "metadata": {
        "ExecuteTime": {
          "end_time": "2018-10-28T08:26:29.145512Z",
          "start_time": "2018-10-28T08:24:02.302520Z"
        },
        "scrolled": true,
        "id": "zJv6oWY-bPec",
        "colab": {
          "base_uri": "https://localhost:8080/"
        },
        "outputId": "1efb54b0-b337-4899-f256-34003aa748c0"
      },
      "source": [
        "loss_list = []\n",
        "acc_list = []\n",
        "for epoch in range(EPOCHS):\n",
        "    model.train()\n",
        "    for i, (X_batch, y_batch) in enumerate(train_loader):\n",
        "        \n",
        "        #Forward \n",
        "        y_output = model(X_batch)\n",
        "        loss = criterion(y_output, y_batch) #CELoss: The input is expected to contain raw, unnormalized scores for each class.\n",
        "        \n",
        "        #Backward\n",
        "        optimizer.zero_grad()\n",
        "        loss.backward() # gradient 연산, 값들은 model.parameters()에 있다. \n",
        "        optimizer.step() # descent 연산\n",
        "        \n",
        "        #misc (acc 계산, etc) \n",
        "        y_pred = torch.max(y_output, 1)[1]\n",
        "        acc = accuracy_score(y_pred.data.cpu(), y_batch.data.cpu())\n",
        "        loss_list.append(loss.item())\n",
        "        acc_list.append(acc)\n",
        "\n",
        "    if (epoch+1) % 30 == 0:\n",
        "        print('Epoch [{}/{}] Step [{}/{}] Loss: [{:.4f}] Train ACC [{:.2f}%]'.format(epoch+1, EPOCHS, \\\n",
        "                                                                                   i+1, len(train_loader), loss.item(), acc*100))"
      ],
      "execution_count": 35,
      "outputs": [
        {
          "output_type": "stream",
          "name": "stdout",
          "text": [
            "Epoch [30/3000] Step [5/5] Loss: [0.3488] Train ACC [82.88%]\n",
            "Epoch [60/3000] Step [5/5] Loss: [0.4861] Train ACC [81.08%]\n",
            "Epoch [90/3000] Step [5/5] Loss: [0.3954] Train ACC [82.88%]\n",
            "Epoch [120/3000] Step [5/5] Loss: [0.3164] Train ACC [84.68%]\n",
            "Epoch [150/3000] Step [5/5] Loss: [0.2928] Train ACC [85.59%]\n",
            "Epoch [180/3000] Step [5/5] Loss: [0.3827] Train ACC [82.88%]\n",
            "Epoch [210/3000] Step [5/5] Loss: [0.3005] Train ACC [88.29%]\n",
            "Epoch [240/3000] Step [5/5] Loss: [0.3636] Train ACC [83.78%]\n",
            "Epoch [270/3000] Step [5/5] Loss: [0.3283] Train ACC [83.78%]\n",
            "Epoch [300/3000] Step [5/5] Loss: [0.3879] Train ACC [83.78%]\n",
            "Epoch [330/3000] Step [5/5] Loss: [0.2874] Train ACC [91.89%]\n",
            "Epoch [360/3000] Step [5/5] Loss: [0.3836] Train ACC [84.68%]\n",
            "Epoch [390/3000] Step [5/5] Loss: [0.2535] Train ACC [90.99%]\n",
            "Epoch [420/3000] Step [5/5] Loss: [0.3260] Train ACC [85.59%]\n",
            "Epoch [450/3000] Step [5/5] Loss: [0.3553] Train ACC [82.88%]\n",
            "Epoch [480/3000] Step [5/5] Loss: [0.2621] Train ACC [91.89%]\n",
            "Epoch [510/3000] Step [5/5] Loss: [0.2810] Train ACC [88.29%]\n",
            "Epoch [540/3000] Step [5/5] Loss: [0.2869] Train ACC [87.39%]\n",
            "Epoch [570/3000] Step [5/5] Loss: [0.3013] Train ACC [86.49%]\n",
            "Epoch [600/3000] Step [5/5] Loss: [0.2695] Train ACC [85.59%]\n",
            "Epoch [630/3000] Step [5/5] Loss: [0.2952] Train ACC [87.39%]\n",
            "Epoch [660/3000] Step [5/5] Loss: [0.2794] Train ACC [90.09%]\n",
            "Epoch [690/3000] Step [5/5] Loss: [0.2969] Train ACC [88.29%]\n",
            "Epoch [720/3000] Step [5/5] Loss: [0.2883] Train ACC [88.29%]\n",
            "Epoch [750/3000] Step [5/5] Loss: [0.2611] Train ACC [90.09%]\n",
            "Epoch [780/3000] Step [5/5] Loss: [0.3052] Train ACC [89.19%]\n",
            "Epoch [810/3000] Step [5/5] Loss: [0.2952] Train ACC [88.29%]\n",
            "Epoch [840/3000] Step [5/5] Loss: [0.2304] Train ACC [90.09%]\n",
            "Epoch [870/3000] Step [5/5] Loss: [0.3400] Train ACC [84.68%]\n",
            "Epoch [900/3000] Step [5/5] Loss: [0.2705] Train ACC [85.59%]\n",
            "Epoch [930/3000] Step [5/5] Loss: [0.2666] Train ACC [87.39%]\n",
            "Epoch [960/3000] Step [5/5] Loss: [0.2053] Train ACC [92.79%]\n",
            "Epoch [990/3000] Step [5/5] Loss: [0.3010] Train ACC [82.88%]\n",
            "Epoch [1020/3000] Step [5/5] Loss: [0.2271] Train ACC [88.29%]\n",
            "Epoch [1050/3000] Step [5/5] Loss: [0.2260] Train ACC [92.79%]\n",
            "Epoch [1080/3000] Step [5/5] Loss: [0.2709] Train ACC [87.39%]\n",
            "Epoch [1110/3000] Step [5/5] Loss: [0.2076] Train ACC [92.79%]\n",
            "Epoch [1140/3000] Step [5/5] Loss: [0.2743] Train ACC [86.49%]\n",
            "Epoch [1170/3000] Step [5/5] Loss: [0.1893] Train ACC [93.69%]\n",
            "Epoch [1200/3000] Step [5/5] Loss: [0.2721] Train ACC [90.99%]\n",
            "Epoch [1230/3000] Step [5/5] Loss: [0.1878] Train ACC [93.69%]\n",
            "Epoch [1260/3000] Step [5/5] Loss: [0.2132] Train ACC [89.19%]\n",
            "Epoch [1290/3000] Step [5/5] Loss: [0.2002] Train ACC [90.09%]\n",
            "Epoch [1320/3000] Step [5/5] Loss: [0.2681] Train ACC [90.09%]\n",
            "Epoch [1350/3000] Step [5/5] Loss: [0.2681] Train ACC [86.49%]\n",
            "Epoch [1380/3000] Step [5/5] Loss: [0.3178] Train ACC [84.68%]\n",
            "Epoch [1410/3000] Step [5/5] Loss: [0.1863] Train ACC [91.89%]\n",
            "Epoch [1440/3000] Step [5/5] Loss: [0.2773] Train ACC [86.49%]\n",
            "Epoch [1470/3000] Step [5/5] Loss: [0.2165] Train ACC [90.99%]\n",
            "Epoch [1500/3000] Step [5/5] Loss: [0.2495] Train ACC [88.29%]\n",
            "Epoch [1530/3000] Step [5/5] Loss: [0.2402] Train ACC [90.09%]\n",
            "Epoch [1560/3000] Step [5/5] Loss: [0.1723] Train ACC [93.69%]\n",
            "Epoch [1590/3000] Step [5/5] Loss: [0.2481] Train ACC [90.09%]\n",
            "Epoch [1620/3000] Step [5/5] Loss: [0.2344] Train ACC [89.19%]\n",
            "Epoch [1650/3000] Step [5/5] Loss: [0.1899] Train ACC [93.69%]\n",
            "Epoch [1680/3000] Step [5/5] Loss: [0.1737] Train ACC [95.50%]\n",
            "Epoch [1710/3000] Step [5/5] Loss: [0.1890] Train ACC [92.79%]\n",
            "Epoch [1740/3000] Step [5/5] Loss: [0.1934] Train ACC [90.09%]\n",
            "Epoch [1770/3000] Step [5/5] Loss: [0.1885] Train ACC [90.99%]\n",
            "Epoch [1800/3000] Step [5/5] Loss: [0.2145] Train ACC [90.09%]\n",
            "Epoch [1830/3000] Step [5/5] Loss: [0.2483] Train ACC [87.39%]\n",
            "Epoch [1860/3000] Step [5/5] Loss: [0.1709] Train ACC [92.79%]\n",
            "Epoch [1890/3000] Step [5/5] Loss: [0.2455] Train ACC [87.39%]\n",
            "Epoch [1920/3000] Step [5/5] Loss: [0.1537] Train ACC [95.50%]\n",
            "Epoch [1950/3000] Step [5/5] Loss: [0.2706] Train ACC [86.49%]\n",
            "Epoch [1980/3000] Step [5/5] Loss: [0.1828] Train ACC [92.79%]\n",
            "Epoch [2010/3000] Step [5/5] Loss: [0.2435] Train ACC [89.19%]\n",
            "Epoch [2040/3000] Step [5/5] Loss: [0.1820] Train ACC [91.89%]\n",
            "Epoch [2070/3000] Step [5/5] Loss: [0.2300] Train ACC [90.99%]\n",
            "Epoch [2100/3000] Step [5/5] Loss: [0.1489] Train ACC [95.50%]\n",
            "Epoch [2130/3000] Step [5/5] Loss: [0.1715] Train ACC [94.59%]\n",
            "Epoch [2160/3000] Step [5/5] Loss: [0.2135] Train ACC [90.09%]\n",
            "Epoch [2190/3000] Step [5/5] Loss: [0.1933] Train ACC [92.79%]\n",
            "Epoch [2220/3000] Step [5/5] Loss: [0.2522] Train ACC [89.19%]\n",
            "Epoch [2250/3000] Step [5/5] Loss: [0.2901] Train ACC [88.29%]\n",
            "Epoch [2280/3000] Step [5/5] Loss: [0.1513] Train ACC [94.59%]\n",
            "Epoch [2310/3000] Step [5/5] Loss: [0.2545] Train ACC [87.39%]\n",
            "Epoch [2340/3000] Step [5/5] Loss: [0.2123] Train ACC [92.79%]\n",
            "Epoch [2370/3000] Step [5/5] Loss: [0.2460] Train ACC [89.19%]\n",
            "Epoch [2400/3000] Step [5/5] Loss: [0.2085] Train ACC [90.99%]\n",
            "Epoch [2430/3000] Step [5/5] Loss: [0.2674] Train ACC [90.09%]\n",
            "Epoch [2460/3000] Step [5/5] Loss: [0.1701] Train ACC [92.79%]\n",
            "Epoch [2490/3000] Step [5/5] Loss: [0.1696] Train ACC [91.89%]\n",
            "Epoch [2520/3000] Step [5/5] Loss: [0.2334] Train ACC [89.19%]\n",
            "Epoch [2550/3000] Step [5/5] Loss: [0.2201] Train ACC [90.99%]\n",
            "Epoch [2580/3000] Step [5/5] Loss: [0.2176] Train ACC [90.99%]\n",
            "Epoch [2610/3000] Step [5/5] Loss: [0.2068] Train ACC [90.99%]\n",
            "Epoch [2640/3000] Step [5/5] Loss: [0.1911] Train ACC [91.89%]\n",
            "Epoch [2670/3000] Step [5/5] Loss: [0.1701] Train ACC [94.59%]\n",
            "Epoch [2700/3000] Step [5/5] Loss: [0.1779] Train ACC [90.09%]\n",
            "Epoch [2730/3000] Step [5/5] Loss: [0.1267] Train ACC [96.40%]\n",
            "Epoch [2760/3000] Step [5/5] Loss: [0.1811] Train ACC [90.99%]\n",
            "Epoch [2790/3000] Step [5/5] Loss: [0.1620] Train ACC [92.79%]\n",
            "Epoch [2820/3000] Step [5/5] Loss: [0.3035] Train ACC [86.49%]\n",
            "Epoch [2850/3000] Step [5/5] Loss: [0.1929] Train ACC [94.59%]\n",
            "Epoch [2880/3000] Step [5/5] Loss: [0.1941] Train ACC [90.99%]\n",
            "Epoch [2910/3000] Step [5/5] Loss: [0.2062] Train ACC [90.09%]\n",
            "Epoch [2940/3000] Step [5/5] Loss: [0.1883] Train ACC [92.79%]\n",
            "Epoch [2970/3000] Step [5/5] Loss: [0.1487] Train ACC [95.50%]\n",
            "Epoch [3000/3000] Step [5/5] Loss: [0.2122] Train ACC [90.99%]\n"
          ]
        }
      ]
    },
    {
      "cell_type": "code",
      "metadata": {
        "id": "e3qILiMrbPec",
        "colab": {
          "base_uri": "https://localhost:8080/",
          "height": 285
        },
        "outputId": "9412907e-3934-4a56-942a-86fd468101d5"
      },
      "source": [
        "plt.plot(loss_list)"
      ],
      "execution_count": 30,
      "outputs": [
        {
          "output_type": "execute_result",
          "data": {
            "text/plain": [
              "[<matplotlib.lines.Line2D at 0x7f5dadfcda90>]"
            ]
          },
          "metadata": {},
          "execution_count": 30
        },
        {
          "output_type": "display_data",
          "data": {
            "image/png": "[encoded data removed]",
            "text/plain": [
              "<Figure size 432x288 with 1 Axes>"
            ]
          },
          "metadata": {
            "needs_background": "light"
          }
        }
      ]
    },
    {
      "cell_type": "code",
      "metadata": {
        "id": "Apu0vOPEbPec",
        "colab": {
          "base_uri": "https://localhost:8080/",
          "height": 283
        },
        "outputId": "8a00b7a4-5267-4d97-eeb7-8403371a77d6"
      },
      "source": [
        "plt.plot(acc_list)"
      ],
      "execution_count": 31,
      "outputs": [
        {
          "output_type": "execute_result",
          "data": {
            "text/plain": [
              "[<matplotlib.lines.Line2D at 0x7f5dadab8bd0>]"
            ]
          },
          "metadata": {},
          "execution_count": 31
        },
        {
          "output_type": "display_data",
          "data": {
            "image/png": "[encoded data removed]",
            "text/plain": [
              "<Figure size 432x288 with 1 Axes>"
            ]
          },
          "metadata": {
            "needs_background": "light"
          }
        }
      ]
    },
    {
      "cell_type": "code",
      "metadata": {
        "id": "XA4HBkCkbPec"
      },
      "source": [
        ""
      ],
      "execution_count": null,
      "outputs": []
    },
    {
      "cell_type": "markdown",
      "metadata": {
        "id": "Hrze5UzxbPec"
      },
      "source": [
        "## Test"
      ]
    },
    {
      "cell_type": "code",
      "metadata": {
        "ExecuteTime": {
          "end_time": "2018-10-28T08:26:31.968976Z",
          "start_time": "2018-10-28T08:26:31.839523Z"
        },
        "id": "6dSCL2O7bPec",
        "colab": {
          "base_uri": "https://localhost:8080/"
        },
        "outputId": "6828a48c-fa46-4bf2-c0a2-8bb31ea8a5b4"
      },
      "source": [
        "test_y_pred = []\n",
        "test_acc_list = []\n",
        "i =1 \n",
        "with torch.no_grad():\n",
        "    model.eval()\n",
        "    for X_batch, y_batch in test_loader:    \n",
        "        #Forward\n",
        "        y_output = model(X_batch)\n",
        "        \n",
        "        #misc (acc 계산, etc) \n",
        "        y_pred = torch.max(y_output, 1)[1]\n",
        "        test_y_pred.append(y_pred) ##\n",
        "        i +=1\n",
        "        acc = accuracy_score(y_pred.data.cpu(), y_batch.data.cpu())\n",
        "        test_acc_list.append(acc)\n",
        "    test_acc = np.mean(test_acc_list)\n",
        "print('Test ACC: [{:.2f}%]'.format(test_acc*100))"
      ],
      "execution_count": 36,
      "outputs": [
        {
          "output_type": "stream",
          "name": "stdout",
          "text": [
            "Test ACC: [79.10%]\n"
          ]
        }
      ]
    },
    {
      "cell_type": "code",
      "metadata": {
        "id": "ddAmd6SObPed",
        "colab": {
          "base_uri": "https://localhost:8080/"
        },
        "outputId": "5d317e74-ea5a-4649-f4ba-a1f2d1b24a9e"
      },
      "source": [
        "len(test_y_pred), test_y_pred[:10]"
      ],
      "execution_count": 37,
      "outputs": [
        {
          "output_type": "execute_result",
          "data": {
            "text/plain": [
              "(268,\n",
              " [tensor([0]),\n",
              "  tensor([1]),\n",
              "  tensor([0]),\n",
              "  tensor([0]),\n",
              "  tensor([1]),\n",
              "  tensor([0]),\n",
              "  tensor([1]),\n",
              "  tensor([1]),\n",
              "  tensor([0]),\n",
              "  tensor([0])])"
            ]
          },
          "metadata": {},
          "execution_count": 37
        }
      ]
    },
    {
      "cell_type": "code",
      "metadata": {
        "id": "dRNvhAl2cKq_",
        "outputId": "2a8fce6f-d21b-42d0-9871-5247ea7ca184",
        "colab": {
          "base_uri": "https://localhost:8080/"
        }
      },
      "source": [
        "y_output"
      ],
      "execution_count": 38,
      "outputs": [
        {
          "output_type": "execute_result",
          "data": {
            "text/plain": [
              "tensor([[-30.9378,  37.8130]])"
            ]
          },
          "metadata": {},
          "execution_count": 38
        }
      ]
    },
    {
      "cell_type": "code",
      "metadata": {
        "id": "AB9Qgbkpbz6c",
        "outputId": "d209028e-ee26-4f91-b0b5-0daeb76dbb09",
        "colab": {
          "base_uri": "https://localhost:8080/"
        }
      },
      "source": [
        "len(test_acc_list)"
      ],
      "execution_count": 39,
      "outputs": [
        {
          "output_type": "execute_result",
          "data": {
            "text/plain": [
              "268"
            ]
          },
          "metadata": {},
          "execution_count": 39
        }
      ]
    },
    {
      "cell_type": "code",
      "metadata": {
        "id": "5PjK4lCNceQd",
        "outputId": "cd4cb7a2-67b4-4e54-86d0-1568283af819",
        "colab": {
          "base_uri": "https://localhost:8080/"
        }
      },
      "source": [
        "torch.max(y_output, 1)"
      ],
      "execution_count": 40,
      "outputs": [
        {
          "output_type": "execute_result",
          "data": {
            "text/plain": [
              "torch.return_types.max(values=tensor([37.8130]), indices=tensor([1]))"
            ]
          },
          "metadata": {},
          "execution_count": 40
        }
      ]
    },
    {
      "cell_type": "markdown",
      "metadata": {
        "id": "HJlhsjj5bPed"
      },
      "source": [
        "# *Alternative code*"
      ]
    },
    {
      "cell_type": "code",
      "metadata": {
        "id": "vWk8fjEobPed"
      },
      "source": [
        "class Binary_Classification_layer(nn.Module):\n",
        "    \n",
        "    def __init__(self, num_features, num_classes):\n",
        "        super(Binary_Classification_layer, self).__init__()\n",
        "        \n",
        "        self.Layer_1 = nn.Linear(num_features, 32) # (mini batch에 들어있는 item 개수, 6(num_features) ) ->(mini batch에 들어있는 item 개수 , 30 )\n",
        "        self.Layer_2 = nn.Linear(32,64) \n",
        "        self.Layer_3 = nn.Linear(64,32)\n",
        "        self.Layer_4 = nn.Linear(32,4)\n",
        "        self.Layer_out = nn.Linear(4, num_classes)\n",
        "        ################################################\n",
        "        #  TODO    Layer 만들기                        #\n",
        "        ################################################\n",
        "        \n",
        "        ################################################\n",
        "        #  가능한 답은 하나가 아니므로 성능이 더 좋을  #\n",
        "        #  법할 모델을 다양하게 시도해보시길 바랍니다  #\n",
        "        ################################################\n",
        "\n",
        "        self.relu = nn.LeakyReLU()\n",
        "        \n",
        "    def forward(self, inputs):\n",
        "        \n",
        "        x = self.Layer_1(inputs)\n",
        "        x = self.relu(x)\n",
        "        x = self.Layer_2(x)\n",
        "        x = self.relu(x)\n",
        "        x = self.Layer_3(x)\n",
        "        x = self.relu(x)\n",
        "        x = self.Layer_4(x)\n",
        "        x = self.relu(x)\n",
        "        ################################################\n",
        "        #  TODO       feature를 layer를 통과시키기     #\n",
        "        ################################################\n",
        "\n",
        "        ################################################\n",
        "        #  가능한 답은 하나가 아니므로 성능이 더 좋을  #\n",
        "        #  법할 모델을 다양하게 시도해보시길 바랍니다  #\n",
        "        ################################################\n",
        "        \n",
        "        x = self.Layer_out(x)\n",
        "\n",
        "        return x"
      ],
      "execution_count": 61,
      "outputs": []
    },
    {
      "cell_type": "markdown",
      "metadata": {
        "id": "nnDnz7Uvd6LK"
      },
      "source": [
        "# *Assignment*\n",
        "\n",
        "- 본인만의 모델을 만들어 Test ACC 79%를 달성해보세요!"
      ]
    },
    {
      "cell_type": "code",
      "metadata": {
        "id": "NfJsasUdbPed"
      },
      "source": [
        "EPOCHS = 1000\n",
        "BATCH_SIZE = 512\n",
        "\n",
        "train_loader = DataLoader(dataset=train_data, batch_size=BATCH_SIZE, shuffle=True)\n",
        "test_loader = DataLoader(dataset=test_data, batch_size=1, shuffle=False)\n",
        "\n",
        "model = Binary_Classification_layer(num_features=6, num_classes=2)\n",
        "\n",
        "criterion = nn.CrossEntropyLoss() # https://pytorch.org/docs/stable/nn.html\n",
        "optimizer = optim.Adam(model.parameters(), lr=0.001)"
      ],
      "execution_count": 62,
      "outputs": []
    },
    {
      "cell_type": "code",
      "metadata": {
        "id": "iXcLRJG7fDpk",
        "outputId": "ec6518de-a471-4814-af1c-d80c2c87e6a4",
        "colab": {
          "base_uri": "https://localhost:8080/"
        }
      },
      "source": [
        "len(train_loader)"
      ],
      "execution_count": 63,
      "outputs": [
        {
          "output_type": "execute_result",
          "data": {
            "text/plain": [
              "2"
            ]
          },
          "metadata": {},
          "execution_count": 63
        }
      ]
    },
    {
      "cell_type": "code",
      "metadata": {
        "id": "W9_R_auBbPed",
        "colab": {
          "base_uri": "https://localhost:8080/"
        },
        "outputId": "cd430dfe-759b-4ebb-9e2d-3951fe218624"
      },
      "source": [
        "train_loss_list = []\n",
        "train_acc_list = []\n",
        "\n",
        "test_acc_list = []\n",
        "model.cuda()\n",
        "for epoch in range(EPOCHS):\n",
        "    # train\n",
        "    model.train() # 학습을 할 때 , test는 model.eval()\n",
        "    for i, (x,y) in enumerate(train_loader):\n",
        "        ################################################\n",
        "        #       TODO                                   #\n",
        "        ################################################ \n",
        "        X_batch = x.cuda()\n",
        "        y_batch = y.cuda()\n",
        "        \n",
        "        #Forward \n",
        "        y_output = model(X_batch) # gpu \n",
        "        loss = criterion(y_output, y_batch)  #CELoss: The input is expected to contain raw, unnormalized scores for each class.\n",
        "        \n",
        "        #Backward\n",
        "        optimizer.zero_grad()\n",
        "        loss.backward()\n",
        "        optimizer.step()\n",
        "        \n",
        "        #misc (acc 계산, etc) \n",
        "        y_pred = torch.max(y_output, 1)[1]\n",
        "        train_acc = accuracy_score(y_pred.data.cpu(), y_batch.data.cpu())\n",
        "        train_loss_list.append(loss.item())\n",
        "        train_acc_list.append(train_acc)\n",
        "\n",
        "        ################################################\n",
        "        #  가능한 답은 하나가 아니므로 성능이 더 좋을  #\n",
        "        #  법할 모델을 다양하게 시도해보시길 바랍니다  #\n",
        "        ################################################\n",
        "\n",
        "    \n",
        "    sub_list = [ ]\n",
        "    # test\n",
        "    with torch.no_grad():\n",
        "      model.eval()\n",
        "      for x,y in test_loader:\n",
        "        X_batch = x.cuda()\n",
        "        y_batch = y.cuda()\n",
        "        y_output = model(X_batch)\n",
        "        ################################################\n",
        "        #       TODO                                   #\n",
        "        ################################################ \n",
        "        #Forward\n",
        "\n",
        "        \n",
        "        #misc (acc 계산, etc) \n",
        "        y_pred = torch.max(y_output, 1)[1]\n",
        "        test_acc = accuracy_score(y_pred.data.cpu(), y_batch.data.cpu())\n",
        "        sub_list.append(test_acc)\n",
        "\n",
        "        ################################################\n",
        "        #  가능한 답은 하나가 아니므로 성능이 더 좋을  #\n",
        "        #  법할 모델을 다양하게 시도해보시길 바랍니다  #\n",
        "        ################################################\n",
        "    test_acc_list.append(np.mean(sub_list))\n",
        "    \n",
        "    if (epoch+1) % 30 == 0:\n",
        "\n",
        "        print('Epoch [{}/{}] Step [{}/{}] Loss: [{:.4f}] Train avg ACC [{:.2f}%] Test ACC [{:.2f}%]'.format(epoch+1, EPOCHS, \\\n",
        "                                                                                   i+1, len(train_loader), np.mean(train_loss_list), \\\n",
        "                                                                                                        np.mean(train_acc_list)*100, np.mean(sub_list)*100))"
      ],
      "execution_count": 64,
      "outputs": [
        {
          "output_type": "stream",
          "name": "stdout",
          "text": [
            "Epoch [30/1000] Step [2/2] Loss: [0.6416] Train avg ACC [62.43%] Test ACC [60.82%]\n",
            "Epoch [60/1000] Step [2/2] Loss: [0.5653] Train avg ACC [69.52%] Test ACC [83.21%]\n",
            "Epoch [90/1000] Step [2/2] Loss: [0.5127] Train avg ACC [73.70%] Test ACC [82.84%]\n",
            "Epoch [120/1000] Step [2/2] Loss: [0.4827] Train avg ACC [75.94%] Test ACC [82.46%]\n",
            "Epoch [150/1000] Step [2/2] Loss: [0.4618] Train avg ACC [77.42%] Test ACC [83.58%]\n",
            "Epoch [180/1000] Step [2/2] Loss: [0.4473] Train avg ACC [78.46%] Test ACC [84.70%]\n",
            "Epoch [210/1000] Step [2/2] Loss: [0.4367] Train avg ACC [79.21%] Test ACC [82.84%]\n",
            "Epoch [240/1000] Step [2/2] Loss: [0.4280] Train avg ACC [79.85%] Test ACC [83.96%]\n",
            "Epoch [270/1000] Step [2/2] Loss: [0.4200] Train avg ACC [80.43%] Test ACC [83.58%]\n",
            "Epoch [300/1000] Step [2/2] Loss: [0.4130] Train avg ACC [80.91%] Test ACC [83.58%]\n",
            "Epoch [330/1000] Step [2/2] Loss: [0.4073] Train avg ACC [81.30%] Test ACC [83.58%]\n",
            "Epoch [360/1000] Step [2/2] Loss: [0.4022] Train avg ACC [81.60%] Test ACC [83.58%]\n",
            "Epoch [390/1000] Step [2/2] Loss: [0.3969] Train avg ACC [81.94%] Test ACC [83.58%]\n",
            "Epoch [420/1000] Step [2/2] Loss: [0.3920] Train avg ACC [82.25%] Test ACC [83.96%]\n",
            "Epoch [450/1000] Step [2/2] Loss: [0.3873] Train avg ACC [82.56%] Test ACC [82.46%]\n",
            "Epoch [480/1000] Step [2/2] Loss: [0.3831] Train avg ACC [82.83%] Test ACC [84.33%]\n",
            "Epoch [510/1000] Step [2/2] Loss: [0.3788] Train avg ACC [83.08%] Test ACC [82.84%]\n",
            "Epoch [540/1000] Step [2/2] Loss: [0.3747] Train avg ACC [83.31%] Test ACC [83.96%]\n",
            "Epoch [570/1000] Step [2/2] Loss: [0.3711] Train avg ACC [83.50%] Test ACC [82.84%]\n",
            "Epoch [600/1000] Step [2/2] Loss: [0.3674] Train avg ACC [83.72%] Test ACC [82.84%]\n",
            "Epoch [630/1000] Step [2/2] Loss: [0.3640] Train avg ACC [83.91%] Test ACC [79.85%]\n",
            "Epoch [660/1000] Step [2/2] Loss: [0.3604] Train avg ACC [84.11%] Test ACC [81.34%]\n",
            "Epoch [690/1000] Step [2/2] Loss: [0.3572] Train avg ACC [84.27%] Test ACC [81.72%]\n",
            "Epoch [720/1000] Step [2/2] Loss: [0.3541] Train avg ACC [84.43%] Test ACC [80.60%]\n",
            "Epoch [750/1000] Step [2/2] Loss: [0.3510] Train avg ACC [84.59%] Test ACC [80.60%]\n",
            "Epoch [780/1000] Step [2/2] Loss: [0.3482] Train avg ACC [84.72%] Test ACC [81.34%]\n",
            "Epoch [810/1000] Step [2/2] Loss: [0.3454] Train avg ACC [84.86%] Test ACC [80.60%]\n",
            "Epoch [840/1000] Step [2/2] Loss: [0.3427] Train avg ACC [84.99%] Test ACC [81.72%]\n",
            "Epoch [870/1000] Step [2/2] Loss: [0.3401] Train avg ACC [85.12%] Test ACC [81.34%]\n",
            "Epoch [900/1000] Step [2/2] Loss: [0.3375] Train avg ACC [85.23%] Test ACC [79.48%]\n",
            "Epoch [930/1000] Step [2/2] Loss: [0.3352] Train avg ACC [85.34%] Test ACC [79.85%]\n",
            "Epoch [960/1000] Step [2/2] Loss: [0.3328] Train avg ACC [85.45%] Test ACC [81.72%]\n",
            "Epoch [990/1000] Step [2/2] Loss: [0.3306] Train avg ACC [85.56%] Test ACC [81.34%]\n"
          ]
        }
      ]
    },
    {
      "cell_type": "code",
      "metadata": {
        "id": "7xsNHdndbPee",
        "outputId": "25339344-ed57-40d4-ec96-957140411f05",
        "colab": {
          "base_uri": "https://localhost:8080/"
        }
      },
      "source": [
        "print(np.mean(test_acc_list))"
      ],
      "execution_count": 65,
      "outputs": [
        {
          "output_type": "stream",
          "name": "stdout",
          "text": [
            "0.815152985074627\n"
          ]
        }
      ]
    },
    {
      "cell_type": "code",
      "metadata": {
        "id": "tI6hoHQMqRXc"
      },
      "source": [
        ""
      ],
      "execution_count": null,
      "outputs": []
    }
  ]
}