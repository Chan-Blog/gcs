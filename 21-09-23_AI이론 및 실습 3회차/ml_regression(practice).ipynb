{
  "nbformat": 4,
  "nbformat_minor": 0,
  "metadata": {
    "colab": {
      "name": "ml_regression(practice).ipynb",
      "provenance": [],
      "collapsed_sections": []
    },
    "kernelspec": {
      "display_name": "Python 3",
      "language": "python",
      "name": "python3"
    },
    "language_info": {
      "codemirror_mode": {
        "name": "ipython",
        "version": 3
      },
      "file_extension": ".py",
      "mimetype": "text/x-python",
      "name": "python",
      "nbconvert_exporter": "python",
      "pygments_lexer": "ipython3",
      "version": "3.8.5"
    },
    "varInspector": {
      "cols": {
        "lenName": 16,
        "lenType": 16,
        "lenVar": 40
      },
      "kernels_config": {
        "python": {
          "delete_cmd_postfix": "",
          "delete_cmd_prefix": "del ",
          "library": "var_list.py",
          "varRefreshCmd": "print(var_dic_list())"
        },
        "r": {
          "delete_cmd_postfix": ") ",
          "delete_cmd_prefix": "rm(",
          "library": "var_list.r",
          "varRefreshCmd": "cat(var_dic_list()) "
        }
      },
      "types_to_exclude": [
        "module",
        "function",
        "builtin_function_or_method",
        "instance",
        "_Feature"
      ],
      "window_display": false
    }
  },
  "cells": [
    {
      "cell_type": "code",
      "metadata": {
        "colab": {
          "resources": {
            "http://localhost:8080/nbextensions/google.colab/files.js": {
              "data": "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",
              "ok": true,
              "headers": [
                [
                  "content-type",
                  "application/javascript"
                ]
              ],
              "status": 200,
              "status_text": ""
            }
          },
          "base_uri": "https://localhost:8080/",
          "height": 393
        },
        "id": "gLe-Ek3TkyoZ",
        "outputId": "944e9416-c586-4393-ed46-cced1f3a4fd8"
      },
      "source": [
        "from google.colab import files\n",
        "files.upload()"
      ],
      "execution_count": 2,
      "outputs": [
        {
          "output_type": "display_data",
          "data": {
            "text/html": [
              "\n",
              "     <input type=\"file\" id=\"files-28485be6-e75c-423e-8a7b-64660ee76986\" name=\"files[]\" multiple disabled\n",
              "        style=\"border:none\" />\n",
              "     <output id=\"result-28485be6-e75c-423e-8a7b-64660ee76986\">\n",
              "      Upload widget is only available when the cell has been executed in the\n",
              "      current browser session. Please rerun this cell to enable.\n",
              "      </output>\n",
              "      <script src=\"/nbextensions/google.colab/files.js\"></script> "
            ],
            "text/plain": [
              "<IPython.core.display.HTML object>"
            ]
          },
          "metadata": {}
        },
        {
          "output_type": "stream",
          "name": "stdout",
          "text": [
            "Saving data_dumped.pickle to data_dumped (1).pickle\n"
          ]
        },
        {
          "output_type": "error",
          "ename": "KeyboardInterrupt",
          "evalue": "ignored",
          "traceback": [
            "\u001b[0;31m---------------------------------------------------------------------------\u001b[0m",
            "\u001b[0;31mKeyboardInterrupt\u001b[0m                         Traceback (most recent call last)",
            "\u001b[0;32m<ipython-input-2-5c2e8a8d365b>\u001b[0m in \u001b[0;36m<module>\u001b[0;34m()\u001b[0m\n\u001b[1;32m      1\u001b[0m \u001b[0;32mfrom\u001b[0m \u001b[0mgoogle\u001b[0m\u001b[0;34m.\u001b[0m\u001b[0mcolab\u001b[0m \u001b[0;32mimport\u001b[0m \u001b[0mfiles\u001b[0m\u001b[0;34m\u001b[0m\u001b[0;34m\u001b[0m\u001b[0m\n\u001b[0;32m----> 2\u001b[0;31m \u001b[0mfiles\u001b[0m\u001b[0;34m.\u001b[0m\u001b[0mupload\u001b[0m\u001b[0;34m(\u001b[0m\u001b[0;34m)\u001b[0m\u001b[0;34m\u001b[0m\u001b[0;34m\u001b[0m\u001b[0m\n\u001b[0m",
            "\u001b[0;32m/usr/local/lib/python3.7/dist-packages/google/colab/files.py\u001b[0m in \u001b[0;36mupload\u001b[0;34m()\u001b[0m\n\u001b[1;32m     70\u001b[0m     result = _output.eval_js(\n\u001b[1;32m     71\u001b[0m         'google.colab._files._uploadFilesContinue(\"{output_id}\")'.format(\n\u001b[0;32m---> 72\u001b[0;31m             output_id=output_id))\n\u001b[0m\u001b[1;32m     73\u001b[0m     \u001b[0;32mif\u001b[0m \u001b[0mresult\u001b[0m\u001b[0;34m[\u001b[0m\u001b[0;34m'action'\u001b[0m\u001b[0;34m]\u001b[0m \u001b[0;34m!=\u001b[0m \u001b[0;34m'append'\u001b[0m\u001b[0;34m:\u001b[0m\u001b[0;34m\u001b[0m\u001b[0;34m\u001b[0m\u001b[0m\n\u001b[1;32m     74\u001b[0m       \u001b[0;31m# JS side uses a generator of promises to process all of the files- some\u001b[0m\u001b[0;34m\u001b[0m\u001b[0;34m\u001b[0m\u001b[0;34m\u001b[0m\u001b[0m\n",
            "\u001b[0;32m/usr/local/lib/python3.7/dist-packages/google/colab/output/_js.py\u001b[0m in \u001b[0;36meval_js\u001b[0;34m(script, ignore_result, timeout_sec)\u001b[0m\n\u001b[1;32m     38\u001b[0m   \u001b[0;32mif\u001b[0m \u001b[0mignore_result\u001b[0m\u001b[0;34m:\u001b[0m\u001b[0;34m\u001b[0m\u001b[0;34m\u001b[0m\u001b[0m\n\u001b[1;32m     39\u001b[0m     \u001b[0;32mreturn\u001b[0m\u001b[0;34m\u001b[0m\u001b[0;34m\u001b[0m\u001b[0m\n\u001b[0;32m---> 40\u001b[0;31m   \u001b[0;32mreturn\u001b[0m \u001b[0m_message\u001b[0m\u001b[0;34m.\u001b[0m\u001b[0mread_reply_from_input\u001b[0m\u001b[0;34m(\u001b[0m\u001b[0mrequest_id\u001b[0m\u001b[0;34m,\u001b[0m \u001b[0mtimeout_sec\u001b[0m\u001b[0;34m)\u001b[0m\u001b[0;34m\u001b[0m\u001b[0;34m\u001b[0m\u001b[0m\n\u001b[0m\u001b[1;32m     41\u001b[0m \u001b[0;34m\u001b[0m\u001b[0m\n\u001b[1;32m     42\u001b[0m \u001b[0;34m\u001b[0m\u001b[0m\n",
            "\u001b[0;32m/usr/local/lib/python3.7/dist-packages/google/colab/_message.py\u001b[0m in \u001b[0;36mread_reply_from_input\u001b[0;34m(message_id, timeout_sec)\u001b[0m\n\u001b[1;32m     99\u001b[0m     \u001b[0mreply\u001b[0m \u001b[0;34m=\u001b[0m \u001b[0m_read_next_input_message\u001b[0m\u001b[0;34m(\u001b[0m\u001b[0;34m)\u001b[0m\u001b[0;34m\u001b[0m\u001b[0;34m\u001b[0m\u001b[0m\n\u001b[1;32m    100\u001b[0m     \u001b[0;32mif\u001b[0m \u001b[0mreply\u001b[0m \u001b[0;34m==\u001b[0m \u001b[0m_NOT_READY\u001b[0m \u001b[0;32mor\u001b[0m \u001b[0;32mnot\u001b[0m \u001b[0misinstance\u001b[0m\u001b[0;34m(\u001b[0m\u001b[0mreply\u001b[0m\u001b[0;34m,\u001b[0m \u001b[0mdict\u001b[0m\u001b[0;34m)\u001b[0m\u001b[0;34m:\u001b[0m\u001b[0;34m\u001b[0m\u001b[0;34m\u001b[0m\u001b[0m\n\u001b[0;32m--> 101\u001b[0;31m       \u001b[0mtime\u001b[0m\u001b[0;34m.\u001b[0m\u001b[0msleep\u001b[0m\u001b[0;34m(\u001b[0m\u001b[0;36m0.025\u001b[0m\u001b[0;34m)\u001b[0m\u001b[0;34m\u001b[0m\u001b[0;34m\u001b[0m\u001b[0m\n\u001b[0m\u001b[1;32m    102\u001b[0m       \u001b[0;32mcontinue\u001b[0m\u001b[0;34m\u001b[0m\u001b[0;34m\u001b[0m\u001b[0m\n\u001b[1;32m    103\u001b[0m     if (reply.get('type') == 'colab_reply' and\n",
            "\u001b[0;31mKeyboardInterrupt\u001b[0m: "
          ]
        }
      ]
    },
    {
      "cell_type": "code",
      "metadata": {
        "id": "vOd3yNEsYxM-",
        "colab": {
          "base_uri": "https://localhost:8080/"
        },
        "outputId": "bb0f3ee2-7962-411c-9577-e7f84d9830a0"
      },
      "source": [
        "!pip install konlpy"
      ],
      "execution_count": 3,
      "outputs": [
        {
          "output_type": "stream",
          "name": "stdout",
          "text": [
            "Requirement already satisfied: konlpy in /usr/local/lib/python3.7/dist-packages (0.5.2)\n",
            "Requirement already satisfied: tweepy>=3.7.0 in /usr/local/lib/python3.7/dist-packages (from konlpy) (3.10.0)\n",
            "Requirement already satisfied: lxml>=4.1.0 in /usr/local/lib/python3.7/dist-packages (from konlpy) (4.2.6)\n",
            "Requirement already satisfied: numpy>=1.6 in /usr/local/lib/python3.7/dist-packages (from konlpy) (1.19.5)\n",
            "Requirement already satisfied: beautifulsoup4==4.6.0 in /usr/local/lib/python3.7/dist-packages (from konlpy) (4.6.0)\n",
            "Requirement already satisfied: JPype1>=0.7.0 in /usr/local/lib/python3.7/dist-packages (from konlpy) (1.3.0)\n",
            "Requirement already satisfied: colorama in /usr/local/lib/python3.7/dist-packages (from konlpy) (0.4.4)\n",
            "Requirement already satisfied: typing-extensions in /usr/local/lib/python3.7/dist-packages (from JPype1>=0.7.0->konlpy) (3.7.4.3)\n",
            "Requirement already satisfied: six>=1.10.0 in /usr/local/lib/python3.7/dist-packages (from tweepy>=3.7.0->konlpy) (1.15.0)\n",
            "Requirement already satisfied: requests[socks]>=2.11.1 in /usr/local/lib/python3.7/dist-packages (from tweepy>=3.7.0->konlpy) (2.23.0)\n",
            "Requirement already satisfied: requests-oauthlib>=0.7.0 in /usr/local/lib/python3.7/dist-packages (from tweepy>=3.7.0->konlpy) (1.3.0)\n",
            "Requirement already satisfied: oauthlib>=3.0.0 in /usr/local/lib/python3.7/dist-packages (from requests-oauthlib>=0.7.0->tweepy>=3.7.0->konlpy) (3.1.1)\n",
            "Requirement already satisfied: certifi>=2017.4.17 in /usr/local/lib/python3.7/dist-packages (from requests[socks]>=2.11.1->tweepy>=3.7.0->konlpy) (2021.5.30)\n",
            "Requirement already satisfied: urllib3!=1.25.0,!=1.25.1,<1.26,>=1.21.1 in /usr/local/lib/python3.7/dist-packages (from requests[socks]>=2.11.1->tweepy>=3.7.0->konlpy) (1.24.3)\n",
            "Requirement already satisfied: chardet<4,>=3.0.2 in /usr/local/lib/python3.7/dist-packages (from requests[socks]>=2.11.1->tweepy>=3.7.0->konlpy) (3.0.4)\n",
            "Requirement already satisfied: idna<3,>=2.5 in /usr/local/lib/python3.7/dist-packages (from requests[socks]>=2.11.1->tweepy>=3.7.0->konlpy) (2.10)\n",
            "Requirement already satisfied: PySocks!=1.5.7,>=1.5.6 in /usr/local/lib/python3.7/dist-packages (from requests[socks]>=2.11.1->tweepy>=3.7.0->konlpy) (1.7.1)\n"
          ]
        }
      ]
    },
    {
      "cell_type": "code",
      "metadata": {
        "id": "pi-9cB5BsCOb",
        "colab": {
          "base_uri": "https://localhost:8080/"
        },
        "outputId": "b488c525-5f44-4bd9-a610-9b3e6a3f228f"
      },
      "source": [
        "from konlpy.tag import Twitter\n",
        "from sklearn.preprocessing import normalize\n",
        "from sklearn.metrics import mean_absolute_error\n",
        "from sklearn.linear_model import LinearRegression\n",
        "from sklearn.linear_model import Ridge, Lasso, SGDRegressor\n",
        "from sklearn import svm\n",
        "from sklearn.naive_bayes import GaussianNB\n",
        "from sklearn.ensemble import GradientBoostingRegressor, RandomForestRegressor\n",
        "import numpy as np\n",
        "import pickle\n",
        "from google.colab import files\n",
        "\n",
        "twitter = Twitter()"
      ],
      "execution_count": 1,
      "outputs": [
        {
          "output_type": "stream",
          "name": "stderr",
          "text": [
            "/usr/local/lib/python3.7/dist-packages/konlpy/tag/_okt.py:16: UserWarning: \"Twitter\" has changed to \"Okt\" since KoNLPy v0.4.5.\n",
            "  warn('\"Twitter\" has changed to \"Okt\" since KoNLPy v0.4.5.')\n"
          ]
        }
      ]
    },
    {
      "cell_type": "code",
      "metadata": {
        "id": "Cgcmga7ssCOg"
      },
      "source": [
        "#myfile = files.upload()"
      ],
      "execution_count": 5,
      "outputs": []
    },
    {
      "cell_type": "code",
      "metadata": {
        "id": "CCT50bHddqP2"
      },
      "source": [
        "with open('data_dumped.pickle', 'rb') as f:\n",
        "  data = pickle.load(f)"
      ],
      "execution_count": 3,
      "outputs": []
    },
    {
      "cell_type": "code",
      "metadata": {
        "id": "TGA6nJU5ag8Y"
      },
      "source": [
        "index2voca, voca2index, train_X, train_y, test_X, test_y = data\n",
        "\n",
        "train_X = normalize(train_X)\n",
        "test_X = normalize(test_X)\n",
        "\n",
        "vocaNum = len(index2voca)\n",
        "trainNum = len(train_y)\n",
        "testNum = len(test_y)"
      ],
      "execution_count": 4,
      "outputs": []
    },
    {
      "cell_type": "code",
      "metadata": {
        "id": "fOOvC376sCOi",
        "colab": {
          "base_uri": "https://localhost:8080/"
        },
        "outputId": "f7bd833f-ed4f-49c6-fe11-93cb24efc34e"
      },
      "source": [
        "# TODO::: define linear regression and train it with our data\n",
        "linear_regression = LinearRegression()\n",
        "linear_regression.fit(train_X,train_y)"
      ],
      "execution_count": 8,
      "outputs": [
        {
          "output_type": "execute_result",
          "data": {
            "text/plain": [
              "LinearRegression(copy_X=True, fit_intercept=True, n_jobs=None, normalize=False)"
            ]
          },
          "metadata": {},
          "execution_count": 8
        }
      ]
    },
    {
      "cell_type": "code",
      "metadata": {
        "id": "TUZM1xMusCOm",
        "colab": {
          "base_uri": "https://localhost:8080/"
        },
        "outputId": "2934b224-ec7c-4a30-db80-1b3bcb14de1a"
      },
      "source": [
        "# TODO::: evaluate the trained model with our test data\n",
        "predicted = linear_regression.predict(test_X)\n",
        "print(\"mean absolute error: {}\".format(mean_absolute_error(test_y, predicted)))"
      ],
      "execution_count": 9,
      "outputs": [
        {
          "output_type": "stream",
          "name": "stdout",
          "text": [
            "mean absolute error: 0.18064327896428692\n"
          ]
        }
      ]
    },
    {
      "cell_type": "code",
      "metadata": {
        "id": "i_HsqrysgTpO",
        "colab": {
          "base_uri": "https://localhost:8080/"
        },
        "outputId": "fb792cc2-e9f6-48d8-9b52-678942d9f7a8"
      },
      "source": [
        "# TODO::: make new test example and evaluate the model with it \n",
        "test_seq = \"배우의 연기는 좋았지만 영화는 별로다.\" \n",
        "test_vec = np.zeros((1, vocaNum))\n",
        "for i, w in enumerate(twitter.morphs(test_seq)):\n",
        "    test_vec[0, voca2index.get(w, voca2index['<UNK>'])] += 1\n",
        "\n",
        "test_vec = normalize(test_vec)\n",
        "print(\"predict: {}\".format(linear_regression.predict(test_vec)[0]))"
      ],
      "execution_count": 10,
      "outputs": [
        {
          "output_type": "stream",
          "name": "stdout",
          "text": [
            "predict: 0.33490860146116186\n"
          ]
        }
      ]
    },
    {
      "cell_type": "code",
      "metadata": {
        "id": "48p4yn1IsCOp",
        "colab": {
          "base_uri": "https://localhost:8080/"
        },
        "outputId": "2c834662-711e-428c-d9dd-b3d5e5ba8420"
      },
      "source": [
        "# TODO::: make new test example and evaluate the model with it 학습이 잘 되었을까요? 같은 내용이지만 다른 뉘앙스의 문장을 모델이 어떻게 예측하는지 보세요! \n",
        "test_seq = \"영화는 별로지만 배우의 연기는 좋았다.\"\n",
        "test_vec = np.zeros((1, vocaNum))\n",
        "for i, w in enumerate(twitter.morphs(test_seq)):\n",
        "    test_vec[0, voca2index.get(w, voca2index['<UNK>'])] += 1\n",
        "\n",
        "test_vec = normalize(test_vec)\n",
        "print(\"predict: {}\".format(linear_regression.predict(test_vec)[0]))"
      ],
      "execution_count": 11,
      "outputs": [
        {
          "output_type": "stream",
          "name": "stdout",
          "text": [
            "predict: 0.3502969369932595\n"
          ]
        }
      ]
    },
    {
      "cell_type": "code",
      "metadata": {
        "id": "m8ZWdZw4fiYX",
        "colab": {
          "base_uri": "https://localhost:8080/"
        },
        "outputId": "cafda850-5e3e-4c44-9b84-c1596c6a9bb5"
      },
      "source": [
        "test_seq = \"재미있다.\"\n",
        "test_vec = np.zeros((1, vocaNum))\n",
        "for i, w in enumerate(twitter.morphs(test_seq)):\n",
        "    test_vec[0, voca2index.get(w, voca2index['<UNK>'])] += 1\n",
        "\n",
        "test_vec = normalize(test_vec)\n",
        "print(\"predict: {}\".format(linear_regression.predict(test_vec)[0]))"
      ],
      "execution_count": 12,
      "outputs": [
        {
          "output_type": "stream",
          "name": "stdout",
          "text": [
            "predict: 0.7061504594670208\n"
          ]
        }
      ]
    },
    {
      "cell_type": "code",
      "metadata": {
        "id": "vPp6j0ulfM7u",
        "colab": {
          "base_uri": "https://localhost:8080/"
        },
        "outputId": "fc21cf8b-cb0e-434b-c138-2ac7b6c24013"
      },
      "source": [
        "# TODO::: make your own new test example and evaluate the model with it \n",
        "test_seq = \"연출이 매우 참신했는데, 배우들의 연기도 참신했다.\"\n",
        "test_vec = np.zeros((1, vocaNum))\n",
        "for i, w in enumerate(twitter.morphs(test_seq)):\n",
        "    test_vec[0, voca2index.get(w, voca2index['<UNK>'])] += 1\n",
        "\n",
        "test_vec = normalize(test_vec)\n",
        "print(\"predict: {}\".format(linear_regression.predict(test_vec)[0]))"
      ],
      "execution_count": 13,
      "outputs": [
        {
          "output_type": "stream",
          "name": "stdout",
          "text": [
            "predict: 0.45771803627836266\n"
          ]
        }
      ]
    },
    {
      "cell_type": "code",
      "metadata": {
        "cellView": "form",
        "id": "dLY0dne8sCOr"
      },
      "source": [
        "#@title Let's use another regression model, Ridge"
      ],
      "execution_count": 14,
      "outputs": []
    },
    {
      "cell_type": "code",
      "metadata": {
        "id": "dEG_v6MoYdsI",
        "colab": {
          "base_uri": "https://localhost:8080/"
        },
        "outputId": "5ea8c0e0-cea3-4a30-b11b-0fe1dbaf3f74"
      },
      "source": [
        "#todo \n",
        "ridge = Ridge()\n",
        "ridge.fit(train_X, train_y)\n",
        "predicted = ridge.predict(test_X)\n",
        "error = mean_absolute_error(predicted, test_y)\n",
        "print(error)"
      ],
      "execution_count": 15,
      "outputs": [
        {
          "output_type": "stream",
          "name": "stdout",
          "text": [
            "0.17737291616167655\n"
          ]
        }
      ]
    },
    {
      "cell_type": "code",
      "metadata": {
        "id": "pBPAoGvgYdsK",
        "colab": {
          "base_uri": "https://localhost:8080/"
        },
        "outputId": "d1d64e33-0290-4d75-a183-49e1632fe102"
      },
      "source": [
        "test_seq = \"이 영화 꽤 재미있다.\"\n",
        "test_vec = np.zeros((1, vocaNum))\n",
        "for i, w in enumerate(twitter.morphs(test_seq)):\n",
        "    test_vec[0, voca2index.get(w, voca2index['<UNK>'])] += 1\n",
        "\n",
        "test_vec = normalize(test_vec)\n",
        "print(\"Ridge predict: {}\".format(ridge.predict(test_vec)[0]))\n",
        "print(\"Linear regression predict: {}\".format(linear_regression.predict(test_vec)[0]))"
      ],
      "execution_count": 16,
      "outputs": [
        {
          "output_type": "stream",
          "name": "stdout",
          "text": [
            "Ridge predict: 0.6894526789927311\n",
            "Linear regression predict: 0.6875718450672696\n"
          ]
        }
      ]
    },
    {
      "cell_type": "code",
      "metadata": {
        "id": "kRf3E_LDsCOw",
        "scrolled": true,
        "colab": {
          "base_uri": "https://localhost:8080/"
        },
        "outputId": "89a1ee19-0d1d-4be9-ba92-7fc0caa4ea8a"
      },
      "source": [
        "# 자유롭게 모델 사용해보기 \n",
        "gb = GradientBoostingRegressor()\n",
        "gb.fit(train_X, train_y)\n",
        "predicted = gb.predict(test_X)\n",
        "print(\"mean absolute error: {}\".format(mean_absolute_error(test_y, predicted)))"
      ],
      "execution_count": 17,
      "outputs": [
        {
          "output_type": "stream",
          "name": "stdout",
          "text": [
            "mean absolute error: 0.23622443901614631\n"
          ]
        }
      ]
    },
    {
      "cell_type": "code",
      "metadata": {
        "id": "lkn1cMRdsCOy",
        "cellView": "form"
      },
      "source": [
        "#@title 과제 1) Test mean absolute error 성능이 0.2 이하가 되게 학습시켜보세요. (Ridge 제외)"
      ],
      "execution_count": 18,
      "outputs": []
    },
    {
      "cell_type": "code",
      "metadata": {
        "id": "g6peFWpUb-yD"
      },
      "source": [
        "# 랜덤포레스트 예측 모델을 활용해보기 \n",
        "# rf =RandomForestRegressor()\n",
        "# rf.fit(train_X,train_y)\n",
        "# predicted = rf.predict(test_X)\n",
        "# print(\"mean absolute error: {}\".format(mean_absolute_error(test_y, predicted)))\n",
        "# 27분 실행하다 중단"
      ],
      "execution_count": null,
      "outputs": []
    },
    {
      "cell_type": "code",
      "metadata": {
        "colab": {
          "base_uri": "https://localhost:8080/"
        },
        "id": "J7vx_oMCc8ng",
        "outputId": "61948706-1097-4888-cb6c-674a75b0f987"
      },
      "source": [
        "# SGD 예측 모델을 활용해보기 \n",
        "sgd =SGDRegressor(max_iter= 10000, tol = 1e-6,epsilon=10)\n",
        "sgd.fit(train_X,train_y)\n",
        "predicted = sgd.predict(test_X)\n",
        "print(\"mean absolute error: {}\".format(mean_absolute_error(test_y, predicted)))"
      ],
      "execution_count": 15,
      "outputs": [
        {
          "output_type": "stream",
          "name": "stdout",
          "text": [
            "mean absolute error: 0.19065552175053174\n"
          ]
        }
      ]
    },
    {
      "cell_type": "code",
      "metadata": {
        "colab": {
          "base_uri": "https://localhost:8080/"
        },
        "id": "PkQ8f8Huc8R1",
        "outputId": "cdeade26-707a-44bb-f6b5-696ec2285899"
      },
      "source": [
        "# gb 예측 모델 러닝 레이트 낮춰보기\n",
        "gb = GradientBoostingRegressor(max_depth = 4, learning_rate=0.05, loss='ls',n_estimators=300)\n",
        "gb.fit(train_X, train_y)\n",
        "predicted = gb.predict(test_X)\n",
        "print(\"mean absolute error: {}\".format(mean_absolute_error(test_y, predicted)))"
      ],
      "execution_count": 22,
      "outputs": [
        {
          "output_type": "stream",
          "name": "stdout",
          "text": [
            "mean absolute error: 0.2232318660030127\n"
          ]
        }
      ]
    },
    {
      "cell_type": "code",
      "metadata": {
        "colab": {
          "base_uri": "https://localhost:8080/"
        },
        "id": "cj2YDmmet2_K",
        "outputId": "f44d1879-58fe-4cc5-fae4-26df3a8e5b49"
      },
      "source": [
        "svr = svm.LinearSVR(C = 0.5,max_iter = 7000, tol = 1e-6,loss='squared_epsilon_insensitive')\n",
        "svr.fit(train_X,train_y)\n",
        "predicted = svr.predict(test_X)\n",
        "print(\"mean absolute error: {}\".format(mean_absolute_error(test_y, predicted)))"
      ],
      "execution_count": 43,
      "outputs": [
        {
          "output_type": "stream",
          "name": "stdout",
          "text": [
            "mean absolute error: 0.17736950835730536\n"
          ]
        }
      ]
    },
    {
      "cell_type": "code",
      "metadata": {
        "colab": {
          "base_uri": "https://localhost:8080/"
        },
        "id": "toCPtODbc7tY",
        "outputId": "d6cc90d5-709f-4aaa-8bff-2688f2409959"
      },
      "source": [
        "# 라쏘 선형 회귀 예측 모델을 활용해보기 \n",
        "ls =Lasso()\n",
        "ls.fit(train_X,train_y)\n",
        "predicted = ls.predict(test_X)\n",
        "print(\"mean absolute error: {}\".format(mean_absolute_error(test_y, predicted)))"
      ],
      "execution_count": 33,
      "outputs": [
        {
          "output_type": "stream",
          "name": "stdout",
          "text": [
            "mean absolute error: 0.2779264578865956\n"
          ]
        }
      ]
    },
    {
      "cell_type": "code",
      "metadata": {
        "id": "B6pkBwO97Wd9",
        "cellView": "form"
      },
      "source": [
        "#@title 과제 2) 모델이 제대로 예측한 test sequence 예제 3개, 모델이 잘못 예측한 test sequence 예제 3개를 각각 만들어보세요 (예시: \"이 영화 재미있다\" 는 모델이 정확히 예측)."
      ],
      "execution_count": null,
      "outputs": []
    },
    {
      "cell_type": "code",
      "metadata": {
        "id": "YQiEtAxW7X7k",
        "colab": {
          "base_uri": "https://localhost:8080/"
        },
        "outputId": "856776e1-79c6-4ac4-989c-6c9e60f7672f"
      },
      "source": [
        "# 잘못 예측한 경우 3가지\n",
        "test_seq = \"이 영화는 좋은 각본이 좋은 배우를 만난 대표적이 사례다.\"\n",
        "\n",
        "test_vec = np.zeros((1, vocaNum))\n",
        "for i, w in enumerate(twitter.morphs(test_seq)):\n",
        "    test_vec[0, voca2index.get(w, voca2index['<UNK>'])] += 1\n",
        "\n",
        "test_vec = normalize(test_vec)\n",
        "print(\"predict: {}\".format(svr.predict(test_vec)[0]))"
      ],
      "execution_count": 44,
      "outputs": [
        {
          "output_type": "stream",
          "name": "stdout",
          "text": [
            "predict: 0.3755421225540063\n"
          ]
        }
      ]
    },
    {
      "cell_type": "code",
      "metadata": {
        "colab": {
          "base_uri": "https://localhost:8080/"
        },
        "id": "dpVrS6xhrJRP",
        "outputId": "e9c8c849-ed9c-47e8-a82c-93f834110c17"
      },
      "source": [
        "# 잘못 예측한 경우 3가지\n",
        "test_seq = \"봉준호 감독의 역대급 걸작\"\n",
        "\n",
        "test_vec = np.zeros((1, vocaNum))\n",
        "for i, w in enumerate(twitter.morphs(test_seq)):\n",
        "    test_vec[0, voca2index.get(w, voca2index['<UNK>'])] += 1\n",
        "\n",
        "test_vec = normalize(test_vec)\n",
        "print(\"predict: {}\".format(svr.predict(test_vec)[0]))"
      ],
      "execution_count": 69,
      "outputs": [
        {
          "output_type": "stream",
          "name": "stdout",
          "text": [
            "predict: 0.48339823978659247\n"
          ]
        }
      ]
    },
    {
      "cell_type": "code",
      "metadata": {
        "colab": {
          "base_uri": "https://localhost:8080/"
        },
        "id": "NMLe4fZ8xBV_",
        "outputId": "7bf18e12-41af-4323-eb99-3d833321b58b"
      },
      "source": [
        "# 잘못 예측한 경우 3가지\n",
        "test_seq = \"기차길 만드는 게 전부가 아닌 영화. 기적의 가족영화입니다\"\n",
        "\n",
        "test_vec = np.zeros((1, vocaNum))\n",
        "for i, w in enumerate(twitter.morphs(test_seq)):\n",
        "    test_vec[0, voca2index.get(w, voca2index['<UNK>'])] += 1\n",
        "\n",
        "test_vec = normalize(test_vec)\n",
        "print(\"predict: {}\".format(svr.predict(test_vec)[0]))"
      ],
      "execution_count": 65,
      "outputs": [
        {
          "output_type": "stream",
          "name": "stdout",
          "text": [
            "predict: 0.4247108633556474\n"
          ]
        }
      ]
    },
    {
      "cell_type": "code",
      "metadata": {
        "colab": {
          "base_uri": "https://localhost:8080/"
        },
        "id": "_sFVNd3Qxad1",
        "outputId": "ad6ccdb1-1022-4693-f3ee-a0bbe2354cd8"
      },
      "source": [
        "\n",
        "# 잘못 예측한 경우 3가지\n",
        "test_seq = \"실화를 바탕으로 전개된 스토리,배우들의 연기,연출 뭐 하나 빠지는 게 없다.\"\n",
        "\n",
        "test_vec = np.zeros((1, vocaNum))\n",
        "for i, w in enumerate(twitter.morphs(test_seq)):\n",
        "    test_vec[0, voca2index.get(w, voca2index['<UNK>'])] += 1\n",
        "\n",
        "test_vec = normalize(test_vec)\n",
        "print(\"predict: {}\".format(svr.predict(test_vec)[0]))"
      ],
      "execution_count": 78,
      "outputs": [
        {
          "output_type": "stream",
          "name": "stdout",
          "text": [
            "predict: 0.41800113937105704\n"
          ]
        }
      ]
    },
    {
      "cell_type": "code",
      "metadata": {
        "colab": {
          "base_uri": "https://localhost:8080/"
        },
        "id": "oGf_PNyMzNAk",
        "outputId": "eac9989f-0b97-45b6-e677-bcbaa8ab3349"
      },
      "source": [
        "\n",
        "# 잘못 예측한 경우 3가지\n",
        "test_seq = \"진짜 그냥 본 영화중에 최애영화.. 눈물 콧물 줄줄 \"\n",
        "\n",
        "test_vec = np.zeros((1, vocaNum))\n",
        "for i, w in enumerate(twitter.morphs(test_seq)):\n",
        "    test_vec[0, voca2index.get(w, voca2index['<UNK>'])] += 1\n",
        "\n",
        "test_vec = normalize(test_vec)\n",
        "print(\"predict: {}\".format(svr.predict(test_vec)[0]))"
      ],
      "execution_count": 79,
      "outputs": [
        {
          "output_type": "stream",
          "name": "stdout",
          "text": [
            "predict: 0.48013430845617655\n"
          ]
        }
      ]
    },
    {
      "cell_type": "code",
      "metadata": {
        "colab": {
          "base_uri": "https://localhost:8080/"
        },
        "id": "9ATKNb8tzrh0",
        "outputId": "10a996ed-7c12-4d22-a039-62066126fed7"
      },
      "source": [
        "# 정확히 예측한 경우 3가지\n",
        "test_seq = \"좋은 영화. 한국인 특유의 한 이라는 정서를 잘 녹여냈고, 이를 해소하고 갈등을 봉합하는 과정이 인간의 성장이라는 요소와 잘 어울어져 있다.\"\n",
        "\n",
        "test_vec = np.zeros((1, vocaNum))\n",
        "for i, w in enumerate(twitter.morphs(test_seq)):\n",
        "    test_vec[0, voca2index.get(w, voca2index['<UNK>'])] += 1\n",
        "\n",
        "test_vec = normalize(test_vec)\n",
        "print(\"predict: {}\".format(svr.predict(test_vec)[0]))"
      ],
      "execution_count": 80,
      "outputs": [
        {
          "output_type": "stream",
          "name": "stdout",
          "text": [
            "predict: 0.7052463093446022\n"
          ]
        }
      ]
    },
    {
      "cell_type": "code",
      "metadata": {
        "colab": {
          "base_uri": "https://localhost:8080/"
        },
        "id": "EMFknRWGzxoK",
        "outputId": "7c3f8841-c5ac-4314-fb7c-3b7cddd8b89f"
      },
      "source": [
        "# 정확히 예측한 경우 3가지\n",
        "test_seq = \"재미와 감동, 반전까지 모두 있는 영화였어요. 오랜만에 영화관에서 본건데 보길 잘 했다 라는 생각이 들어요! 너무 강추합니다!!\"\n",
        "\n",
        "test_vec = np.zeros((1, vocaNum))\n",
        "for i, w in enumerate(twitter.morphs(test_seq)):\n",
        "    test_vec[0, voca2index.get(w, voca2index['<UNK>'])] += 1\n",
        "\n",
        "test_vec = normalize(test_vec)\n",
        "print(\"predict: {}\".format(svr.predict(test_vec)[0]))"
      ],
      "execution_count": 82,
      "outputs": [
        {
          "output_type": "stream",
          "name": "stdout",
          "text": [
            "predict: 0.7323901671363623\n"
          ]
        }
      ]
    },
    {
      "cell_type": "code",
      "metadata": {
        "colab": {
          "base_uri": "https://localhost:8080/"
        },
        "id": "e6wy0pSLz3QT",
        "outputId": "04ae5fa7-b32d-4fb8-adb7-b1864556b779"
      },
      "source": [
        "\n",
        "# 정확히 예측한 경우 3가지\n",
        "test_seq = \"큰 감동과 소소한 재미가 있는 영화내요. 재밌게 보았습니다^^ \"\n",
        "\n",
        "test_vec = np.zeros((1, vocaNum))\n",
        "for i, w in enumerate(twitter.morphs(test_seq)):\n",
        "    test_vec[0, voca2index.get(w, voca2index['<UNK>'])] += 1\n",
        "\n",
        "test_vec = normalize(test_vec)\n",
        "print(\"predict: {}\".format(svr.predict(test_vec)[0]))"
      ],
      "execution_count": 85,
      "outputs": [
        {
          "output_type": "stream",
          "name": "stdout",
          "text": [
            "predict: 0.8660939773890428\n"
          ]
        }
      ]
    },
    {
      "cell_type": "code",
      "metadata": {
        "id": "j6HA431Sz-qu"
      },
      "source": [
        ""
      ],
      "execution_count": null,
      "outputs": []
    }
  ]
}