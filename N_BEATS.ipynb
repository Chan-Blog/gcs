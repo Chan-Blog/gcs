{
  "nbformat": 4,
  "nbformat_minor": 5,
  "metadata": {
    "kernelspec": {
      "display_name": "Python 3 (ipykernel)",
      "language": "python",
      "name": "python3"
    },
    "language_info": {
      "codemirror_mode": {
        "name": "ipython",
        "version": 3
      },
      "file_extension": ".py",
      "mimetype": "text/x-python",
      "name": "python",
      "nbconvert_exporter": "python",
      "pygments_lexer": "ipython3",
      "version": "3.8.12"
    },
    "colab": {
      "name": "N_BEATS.ipynb",
      "provenance": [],
      "collapsed_sections": [],
      "include_colab_link": true
    },
    "accelerator": "GPU"
  },
  "cells": [
    {
      "cell_type": "markdown",
      "metadata": {
        "id": "view-in-github",
        "colab_type": "text"
      },
      "source": [
        "<a href=\"https://colab.research.google.com/github/Chan-Sicpama/gcs/blob/main/N_BEATS.ipynb\" target=\"_parent\"><img src=\"https://colab.research.google.com/assets/colab-badge.svg\" alt=\"Open In Colab\"/></a>"
      ]
    },
    {
      "cell_type": "markdown",
      "metadata": {
        "id": "N4O7GOz2GQcP"
      },
      "source": [
        "# 실습 데이터셋 준비\n",
        "1. 런타임을 GPU로 변경해주세요.\n",
        "2. continuous dataset.csv 를 업로드해주세요."
      ],
      "id": "N4O7GOz2GQcP"
    },
    {
      "cell_type": "code",
      "metadata": {
        "id": "fjqX7v4vEPDm"
      },
      "source": [
        "from google.colab import files\n",
        "files.upload()"
      ],
      "id": "fjqX7v4vEPDm",
      "execution_count": null,
      "outputs": []
    },
    {
      "cell_type": "markdown",
      "metadata": {
        "id": "-TOa3Ei4EhsU"
      },
      "source": [
        "# N-BEATS\n",
        "N-BEATS: Neural basis expansion analysis for interpretable time series forecasting, Boris et al., ICLR 2020\n",
        "\n",
        "\n",
        "- N-BEATS는 M4 competition dataset 에 뛰어난 성능을 보였습니다.\n",
        "- 시계열 분해(time-series decomposition)의 개념과 비슷하게, 딥러닝 기반의 예측 결과값을 추세(trend), 계절성(seasonality), 잔차(residual) 로 나누어 예측합니다. 이를 통해 모델의 해석가능성을 끌어올릴 수 있습니다.\n",
        "- 추세와 계절성은 입력 데이터(backcast)에서 나타나는 정보를 이용하여 얻어내며, 얻어진 정보를 통해 미래 데이터(forecast)를 예측합니다. \n",
        "\n",
        "\n",
        "![n-beats.png](https://img1.daumcdn.net/thumb/R1280x0/?scode=mtistory2&fname=https%3A%2F%2Fblog.kakaocdn.net%2Fdn%2FbfQXYg%2FbtqH2y7ZIaw%2F5PURFStjssBABVi31dxzX0%2Fimg.png)"
      ],
      "id": "-TOa3Ei4EhsU"
    },
    {
      "cell_type": "code",
      "metadata": {
        "id": "630b3005"
      },
      "source": [
        "import time\n",
        "import numpy as np\n",
        "import pandas as pd\n",
        "\n",
        "import torch\n",
        "from torch import nn\n",
        "\n",
        "import matplotlib.pyplot as plt\n",
        "from matplotlib.lines import Line2D"
      ],
      "id": "630b3005",
      "execution_count": null,
      "outputs": []
    },
    {
      "cell_type": "code",
      "metadata": {
        "id": "5f82c741"
      },
      "source": [
        "class NBeatsNet(nn.Module):\n",
        "    def __init__(self,\n",
        "                 forecast_length=24,\n",
        "                 backcast_length=96,\n",
        "                 theta_dim=(2, 8, 3),\n",
        "                 n_trend=3,\n",
        "                 n_seasonality=3,\n",
        "                 n_residual=3,\n",
        "                 hidden_dim=512):\n",
        "        super(NBeatsNet, self).__init__()        \n",
        "            \n",
        "        self.trend_stack = []\n",
        "        self.seasonality_stack = []\n",
        "        self.residual_stack = []\n",
        "        \n",
        "        for i in range(n_trend):\n",
        "            self.trend_stack.append(Block(backcast_length, forecast_length, hidden_dim, theta_dim[0], mode='trend'))    \n",
        "\n",
        "        for i in range(n_seasonality):\n",
        "            self.seasonality_stack.append(Block(backcast_length, forecast_length, hidden_dim, theta_dim[1], mode='seasonality'))\n",
        "        \n",
        "        for i in range(n_residual):\n",
        "            self.residual_stack.append(Block(backcast_length, forecast_length, hidden_dim, theta_dim[2], mode='residual'))\n",
        "        \n",
        "        \n",
        "        self.trend_stack = nn.ModuleList(self.trend_stack)\n",
        "        self.seasonality_stack = nn.ModuleList(self.seasonality_stack)\n",
        "        self.residual_stack = nn.ModuleList(self.residual_stack)\n",
        "\n",
        "    def forward(self, backcast):\n",
        "        backcast_stack = []\n",
        "        forecast_stack = []\n",
        "\n",
        "        for layer in self.trend_stack:\n",
        "            b, f = layer(backcast)\n",
        "            backcast_stack.append(b)\n",
        "            forecast_stack.append(f)\n",
        "            backcast = backcast - b\n",
        "\n",
        "        for layer in self.seasonality_stack:\n",
        "            b, f = layer(backcast)\n",
        "            backcast_stack.append(b)\n",
        "            forecast_stack.append(f)\n",
        "            backcast = backcast - b\n",
        "\n",
        "\n",
        "        for layer in self.residual_stack:\n",
        "            b, f = layer(backcast)\n",
        "            backcast_stack.append(b)\n",
        "            forecast_stack.append(f)\n",
        "            backcast = backcast - b\n",
        "\n",
        "        backcast = torch.stack(backcast_stack, 0)\n",
        "        forecast = torch.stack(forecast_stack, 0)\n",
        "        return backcast, forecast\n",
        "\n",
        "\n",
        "# ours\n",
        "class Block(nn.Module):\n",
        "    def __init__(self, backcast_length, forecast_length, hidden_dim, theta_dim, mode):\n",
        "        super(Block, self).__init__()\n",
        "        self.backcast_length = backcast_length\n",
        "        self.forecast_length = forecast_length\n",
        "        self.theta_dim = theta_dim\n",
        "        self.mode = mode\n",
        "\n",
        "        self.MLP = nn.Sequential(\n",
        "                nn.Linear(backcast_length, hidden_dim),\n",
        "                nn.ReLU(),\n",
        "                nn.Linear(hidden_dim, hidden_dim),\n",
        "                nn.ReLU(),\n",
        "                nn.Linear(hidden_dim, hidden_dim),\n",
        "                nn.ReLU(),\n",
        "                nn.Linear(hidden_dim, hidden_dim),\n",
        "                nn.ReLU()\n",
        "            )\n",
        "\n",
        "        if mode == 'residual':\n",
        "            # residual\n",
        "            self.theta_b = nn.Linear(hidden_dim, theta_dim)\n",
        "            self.theta_f = nn.Linear(hidden_dim, theta_dim)\n",
        "            self.linear_b = nn.Linear(theta_dim, backcast_length)\n",
        "            self.linear_f = nn.Linear(theta_dim, forecast_length)\n",
        "        else:\n",
        "            # trend, seasonality\n",
        "            self.theta = nn.Linear(hidden_dim, theta_dim)\n",
        "\n",
        "\n",
        "    def forward(self, x):\n",
        "        # x: (batch size, backcast length)\n",
        "        t_b = ((torch.arange(start=0, end=self.backcast_length, device=x.device, dtype=torch.float) - self.backcast_length) / 24 ) # (backcast_len,)\n",
        "        t_f = ((torch.arange(start=0, end=self.forecast_length, device=x.device, dtype=torch.float)) / 24 ) # (forecast_len,)\n",
        "\n",
        "        # x -> h\n",
        "        x = self.MLP(x)\n",
        "\n",
        "        # h -> theta -> backcast, forecast\n",
        "        if self.mode == 'residual':\n",
        "            # residual block\n",
        "            theta_b = self.theta_b(x)\n",
        "            theta_f = self.theta_f(x)\n",
        "            b = self.linear_b(theta_b) # (batch, backcast length)\n",
        "            f = self.linear_f(theta_f) # (batch, forecast length)\n",
        "        else:\n",
        "            theta_b = self.theta(x)\n",
        "            theta_f = theta_b\n",
        "\n",
        "            if self.mode == 'trend':\n",
        "                b = self.get_trend(theta_b, t_b)\n",
        "                f = self.get_trend(theta_f, t_f)\n",
        "                \n",
        "            elif self.mode == 'seasonality':\n",
        "                b = self.get_seasonality(theta_b, t_b)\n",
        "                f = self.get_seasonality(theta_f, t_f)\n",
        "        return b, f\n",
        "\n",
        "    def get_trend(self, theta, t):\n",
        "        # theta dim = 0 -> 수평선 (y=a)\n",
        "        # theta dim = 1 -> 직선 (y=bx)\n",
        "        # theta dim = 2 -> 이차곡선 (y=cx^2)\n",
        "        # ...\n",
        "        T = torch.stack([t ** i for i in range(theta.shape[1])])  # (theta_dim ,sequence length)\n",
        "        out = torch.einsum('bt,ts->bs', theta, T)\n",
        "        return out\n",
        "\n",
        "\n",
        "    def get_seasonality(self, theta, t):\n",
        "        s1 = torch.stack([torch.cos(2 * np.pi * (i+1) * t) for i in range(self.theta_dim//2)]).float()  # H/2-1\n",
        "        s2 = torch.stack([torch.sin(2 * np.pi * (i+1) * t) for i in range(self.theta_dim//2)]).float()\n",
        "        S = torch.cat([s1, s2])\n",
        "        out = torch.einsum('bt,ts->bs', theta, S)\n",
        "        return out"
      ],
      "id": "5f82c741",
      "execution_count": null,
      "outputs": []
    },
    {
      "cell_type": "code",
      "metadata": {
        "id": "ddf8b2db"
      },
      "source": [
        "# model hyper parameters\n",
        "forecast_length=24\n",
        "backcast_length=96\n",
        "theta_dim=(2, 8, 3)\n",
        "n_trend=3\n",
        "n_seasonality=3\n",
        "n_residual=3\n",
        "hidden_dim=64"
      ],
      "id": "ddf8b2db",
      "execution_count": null,
      "outputs": []
    },
    {
      "cell_type": "code",
      "metadata": {
        "id": "8981a2b3"
      },
      "source": [
        "model = NBeatsNet(forecast_length, backcast_length, theta_dim, n_trend, n_seasonality, n_residual, hidden_dim)"
      ],
      "id": "8981a2b3",
      "execution_count": null,
      "outputs": []
    },
    {
      "cell_type": "code",
      "metadata": {
        "id": "5147b666"
      },
      "source": [
        "model"
      ],
      "id": "5147b666",
      "execution_count": null,
      "outputs": []
    },
    {
      "cell_type": "code",
      "metadata": {
        "id": "5b33e544"
      },
      "source": [
        "inputs = torch.randn(3,backcast_length)\n",
        "labels = torch.randn(3,forecast_length)"
      ],
      "id": "5b33e544",
      "execution_count": null,
      "outputs": []
    },
    {
      "cell_type": "code",
      "metadata": {
        "id": "67a2bec0"
      },
      "source": [
        "backcast, forecast = model(inputs)"
      ],
      "id": "67a2bec0",
      "execution_count": null,
      "outputs": []
    },
    {
      "cell_type": "code",
      "metadata": {
        "id": "73d8f9e0"
      },
      "source": [
        "backcast.shape, forecast.shape"
      ],
      "id": "73d8f9e0",
      "execution_count": null,
      "outputs": []
    },
    {
      "cell_type": "code",
      "metadata": {
        "id": "060c91e7"
      },
      "source": [
        ""
      ],
      "id": "060c91e7",
      "execution_count": null,
      "outputs": []
    },
    {
      "cell_type": "code",
      "metadata": {
        "id": "77db290e"
      },
      "source": [
        "def plot(inputs, labels, backcast, forecast, n_trend=3, n_seasonality=3, n_residual=3, batch_idx=0):\n",
        "    backcast_length = backcast.shape[-1]\n",
        "    forecast_length = forecast.shape[-1]\n",
        "    \n",
        "    x = inputs.data.cpu()[batch_idx]\n",
        "    y = labels.data.cpu()[batch_idx]\n",
        "    b = backcast.data.cpu()[:,batch_idx]\n",
        "    f = forecast.data.cpu()[:,batch_idx]\n",
        "\n",
        "    backcast_trend = b[:n_trend].sum(0)\n",
        "    forecast_trend = f[:n_trend].sum(0)\n",
        "    backcast_seasonality = b[n_trend:n_trend+n_seasonality].sum(0)\n",
        "    forecast_seasonality = f[n_trend:n_trend+n_seasonality].sum(0)\n",
        "    backcast_residual = b[n_trend+n_seasonality:].sum(0)\n",
        "    forecast_residual = f[n_trend+n_seasonality:].sum(0)\n",
        "    backcast_final = b.sum(0)\n",
        "    forecast_final = f.sum(0)\n",
        "\n",
        "    plt.figure(figsize=(20,8))\n",
        "    plt.gca().axvspan(0, backcast_length, alpha=0.3, color='gray')\n",
        "    forecast_range = range(backcast_length, backcast_length+forecast_length)\n",
        "\n",
        "    plt.plot(x, c='black')\n",
        "    plt.plot(forecast_range, y, c='black')\n",
        "    plt.plot(backcast_trend, c='tab:blue')\n",
        "    plt.plot(forecast_range, forecast_trend, c='tab:blue')\n",
        "\n",
        "    plt.plot(x+5, c='black')\n",
        "    plt.plot(forecast_range, y+5, c='black')\n",
        "    plt.plot(backcast_seasonality+5, c='tab:orange')\n",
        "    plt.plot(forecast_range, forecast_seasonality+5, c='tab:orange')\n",
        "\n",
        "    plt.plot(x+10, c='black')\n",
        "    plt.plot(forecast_range, y+10, c='black')\n",
        "    plt.plot(backcast_residual+10, c='tab:green')\n",
        "    plt.plot(forecast_range, forecast_residual+10, c='tab:green')\n",
        "    \n",
        "    plt.plot(x+15, c='black')\n",
        "    plt.plot(forecast_range, y+15, c='black')\n",
        "    plt.plot(backcast_final+15, c='tab:red')\n",
        "    plt.plot(forecast_range, forecast_final+15, c='tab:red')    \n",
        "    \n",
        "    \n",
        "    \n",
        "    legend_elements =[Line2D([0], [0], color='black', lw=4, label='Line'),\n",
        "                      Line2D([0], [0], color='tab:blue', lw=4, label='Line'),\n",
        "                      Line2D([0], [0], color='tab:orange', lw=4, label='Line'),\n",
        "                      Line2D([0], [0], color='tab:green', lw=4, label='Line'),\n",
        "                      Line2D([0], [0], color='tab:red', lw=4, label='Line')]\n",
        "    plt.gca().legend(legend_elements, ['Real values', 'Trend', 'Seasonality', 'Residual', 'Final prediction'], loc='lower left', fontsize=15)\n",
        "\n",
        "    plt.show()"
      ],
      "id": "77db290e",
      "execution_count": null,
      "outputs": []
    },
    {
      "cell_type": "code",
      "metadata": {
        "id": "edf43401"
      },
      "source": [
        "plot(inputs, labels, backcast, forecast, batch_idx=0)"
      ],
      "id": "edf43401",
      "execution_count": null,
      "outputs": []
    },
    {
      "cell_type": "markdown",
      "metadata": {
        "id": "dca26fe3"
      },
      "source": [
        "# Electricity Load Forecasting dataset\n",
        "\n",
        "https://www.kaggle.com/saurabhshahane/electricity-load-forecasting"
      ],
      "id": "dca26fe3"
    },
    {
      "cell_type": "code",
      "metadata": {
        "id": "04ac2012"
      },
      "source": [
        "df = pd.read_csv('continuous dataset.csv')"
      ],
      "id": "04ac2012",
      "execution_count": null,
      "outputs": []
    },
    {
      "cell_type": "code",
      "metadata": {
        "id": "6a0a140d"
      },
      "source": [
        "df = df[['datetime','nat_demand']]"
      ],
      "id": "6a0a140d",
      "execution_count": null,
      "outputs": []
    },
    {
      "cell_type": "code",
      "metadata": {
        "id": "204964c9"
      },
      "source": [
        "plt.figure(figsize=(20,5))\n",
        "plt.plot(df['nat_demand'][:300])\n",
        "plt.show()"
      ],
      "id": "204964c9",
      "execution_count": null,
      "outputs": []
    },
    {
      "cell_type": "code",
      "metadata": {
        "id": "705bc5a5"
      },
      "source": [
        "train_df = df[df['datetime'].map(lambda x:x.split('-')[0] in ['2015', '2016', '2017', '2018'])]\n",
        "val_df = df[df['datetime'].map(lambda x:x.split('-')[0] in ['2019'])]\n",
        "test_df = df[df['datetime'].map(lambda x:x.split('-')[0] in ['2020'])]"
      ],
      "id": "705bc5a5",
      "execution_count": null,
      "outputs": []
    },
    {
      "cell_type": "code",
      "metadata": {
        "id": "ef11acf3"
      },
      "source": [
        "train_df.shape, val_df.shape, test_df.shape"
      ],
      "id": "ef11acf3",
      "execution_count": null,
      "outputs": []
    },
    {
      "cell_type": "code",
      "metadata": {
        "id": "617d3ffd"
      },
      "source": [
        "train_df.head()"
      ],
      "id": "617d3ffd",
      "execution_count": null,
      "outputs": []
    },
    {
      "cell_type": "code",
      "metadata": {
        "id": "b04ad998"
      },
      "source": [
        "val_df.head()"
      ],
      "id": "b04ad998",
      "execution_count": null,
      "outputs": []
    },
    {
      "cell_type": "code",
      "metadata": {
        "id": "323de42d"
      },
      "source": [
        "test_df.head()"
      ],
      "id": "323de42d",
      "execution_count": null,
      "outputs": []
    },
    {
      "cell_type": "code",
      "metadata": {
        "id": "8ba1f756"
      },
      "source": [
        "class StandardScaler():\n",
        "    def __init__(self):\n",
        "        self.mean = None\n",
        "        self.stdev = None\n",
        "        \n",
        "    def fit(self, x):\n",
        "        if not torch.is_tensor(x):\n",
        "            x = torch.tensor(x)\n",
        "        self.mean = x.mean()\n",
        "        self.stdev = x.std()\n",
        "        \n",
        "    def scale(self, x):\n",
        "        if not torch.is_tensor(x):\n",
        "            x = torch.tensor(x)\n",
        "        return (x - self.mean.to(x.device)) / self.stdev.to(x.device)\n",
        "    \n",
        "    def unscale(self, x):\n",
        "        if not torch.is_tensor(x):\n",
        "            x = torch.tensor(x)\n",
        "        return x * self.stdev.to(x.device) + self.mean.to(x.device)\n",
        "        \n",
        "class TimeseriesDataset(torch.utils.data.Dataset):   \n",
        "    def __init__(self, data, backcast_length, forecast_length, scaler=None):\n",
        "        self.data_datetime = data['datetime'].values\n",
        "        self.data = data['nat_demand'].values\n",
        "        self.backcast_length = backcast_length\n",
        "        self.forecast_length = forecast_length\n",
        "        \n",
        "        if scaler is None:\n",
        "            # train\n",
        "            self.scaler = StandardScaler()\n",
        "            self.scaler.fit(self.data)\n",
        "        else:\n",
        "            self.scaler = scaler\n",
        "        self.data = self.scaler.scale(self.data)\n",
        "        \n",
        "\n",
        "    def __len__(self):\n",
        "        return len(self.data) - self.backcast_length - self.forecast_length + 1\n",
        "\n",
        "    def __getitem__(self, idx):\n",
        "        x_end = idx + self.backcast_length\n",
        "        y_end = x_end + self.forecast_length\n",
        "\n",
        "        x = self.data[idx:x_end]\n",
        "        y = self.data[x_end:y_end]\n",
        "        \n",
        "        x = x.float()\n",
        "        y = y.float()\n",
        "        \n",
        "        return x, y \n",
        "    \n",
        "    def unscale(self, x):\n",
        "        return self.scaler.unscale(x)"
      ],
      "id": "8ba1f756",
      "execution_count": null,
      "outputs": []
    },
    {
      "cell_type": "code",
      "metadata": {
        "id": "773bf637"
      },
      "source": [
        "batch_size = 128\n",
        "num_workers = 2\n",
        "pin_memory = True\n",
        "learning_rate = 1e-3"
      ],
      "id": "773bf637",
      "execution_count": null,
      "outputs": []
    },
    {
      "cell_type": "code",
      "metadata": {
        "id": "68d605f6"
      },
      "source": [
        "train_dataset = TimeseriesDataset(train_df, backcast_length, forecast_length)\n",
        "val_dataset = TimeseriesDataset(val_df, backcast_length, forecast_length, scaler=train_dataset.scaler)\n",
        "test_dataset = TimeseriesDataset(test_df, backcast_length, forecast_length, scaler=train_dataset.scaler)"
      ],
      "id": "68d605f6",
      "execution_count": null,
      "outputs": []
    },
    {
      "cell_type": "code",
      "metadata": {
        "id": "09da4255"
      },
      "source": [
        "train_dataloader = torch.utils.data.DataLoader(train_dataset, batch_size=batch_size, shuffle=True, \n",
        "                                               num_workers=num_workers, pin_memory=pin_memory)\n",
        "val_dataloader = torch.utils.data.DataLoader(val_dataset, batch_size=batch_size, shuffle=False, \n",
        "                                               num_workers=num_workers, pin_memory=pin_memory)\n",
        "test_dataloader = torch.utils.data.DataLoader(test_dataset, batch_size=batch_size, shuffle=False, \n",
        "                                               num_workers=num_workers, pin_memory=pin_memory)"
      ],
      "id": "09da4255",
      "execution_count": null,
      "outputs": []
    },
    {
      "cell_type": "code",
      "metadata": {
        "id": "978b2df1"
      },
      "source": [
        "model = NBeatsNet()\n",
        "model = model.cuda()\n",
        "\n",
        "criterion = nn.L1Loss()\n",
        "optimizer = torch.optim.Adam(model.parameters(), lr=learning_rate)"
      ],
      "id": "978b2df1",
      "execution_count": null,
      "outputs": []
    },
    {
      "cell_type": "code",
      "metadata": {
        "id": "841fac0b"
      },
      "source": [
        "num_epoch = 10"
      ],
      "id": "841fac0b",
      "execution_count": null,
      "outputs": []
    },
    {
      "cell_type": "code",
      "metadata": {
        "scrolled": false,
        "id": "4adc26cb"
      },
      "source": [
        "start_time = time.time()\n",
        "best_model_state_dict = None\n",
        "best_val_loss = 10000\n",
        "for epoch in range(num_epoch):\n",
        "    train_loss_mean = 0\n",
        "    val_loss_mean = 0\n",
        "    \n",
        "    # train\n",
        "    model.train()\n",
        "    for i, (inputs, labels) in enumerate(train_dataloader):\n",
        "        inputs = inputs.cuda()\n",
        "        labels = labels.cuda()\n",
        "        \n",
        "        backcast, forecast = model(inputs)\n",
        "        loss = criterion(backcast.sum(0), inputs) + criterion(forecast.sum(0), labels)\n",
        "        \n",
        "        optimizer.zero_grad()\n",
        "        loss.backward()\n",
        "        optimizer.step()\n",
        "        \n",
        "        train_loss_mean += loss.item()\n",
        "        \n",
        "        if i % 100 == 0:\n",
        "            print('epoch [{}/{}] iter [{:03d}/{:03d}] loss [{:.4f}] elapsed time [{:.2f}min]'.format(epoch, num_epoch, i, len(train_dataloader), loss.item(), (time.time()-start_time)/60))\n",
        "    \n",
        "    train_loss_mean = train_loss_mean/len(train_dataloader)\n",
        "    \n",
        "    # validation\n",
        "    model.eval()\n",
        "    with torch.no_grad():\n",
        "        for i, (inputs, labels) in enumerate(val_dataloader):\n",
        "            inputs = inputs.cuda()\n",
        "            labels = labels.cuda()\n",
        "\n",
        "            backcast, forecast = model(inputs)\n",
        "            loss = criterion(backcast.sum(0), inputs) + criterion(forecast.sum(0), labels)\n",
        "            val_loss_mean += loss.item()\n",
        "\n",
        "        val_loss_mean = val_loss_mean/len(val_dataloader)\n",
        "\n",
        "        print('epoch [{}/{}] train loss [{:.4f}] validation loss [{:.4f}] elapsed time [{:.2f} min]\\n'.format(epoch, num_epoch, train_loss_mean, val_loss_mean, (time.time()-start_time)/60))\n",
        "\n",
        "        if val_loss_mean < best_val_loss:\n",
        "            best_val_loss = val_loss_mean\n",
        "            best_model_state_dict = model.state_dict()\n"
      ],
      "id": "4adc26cb",
      "execution_count": null,
      "outputs": []
    },
    {
      "cell_type": "code",
      "metadata": {
        "id": "ae3e31f5"
      },
      "source": [
        "# load best model\n",
        "model.load_state_dict(best_model_state_dict)\n",
        "model.eval()"
      ],
      "id": "ae3e31f5",
      "execution_count": null,
      "outputs": []
    },
    {
      "cell_type": "code",
      "metadata": {
        "id": "df78d028"
      },
      "source": [
        "def MAE(x, y):\n",
        "    return nn.L1Loss()(x,y)\n",
        "\n",
        "def RMSE(x,y):\n",
        "    return (nn.MSELoss()(x,y)).sqrt()\n",
        "\n",
        "def MAPE(x,y):\n",
        "    eps = 1e-8\n",
        "    return ((x-y).abs() / (y+eps)).mean()\n",
        "\n",
        "def sMAPE(x,y):\n",
        "    eps = 1e-8\n",
        "    return ((x-y).abs()*2 / (x+y+eps)).mean()\n",
        "    \n",
        "def metric(x,y):\n",
        "    return [MAE(x,y), RMSE(x,y), MAPE(x,y), sMAPE(x,y)]"
      ],
      "id": "df78d028",
      "execution_count": null,
      "outputs": []
    },
    {
      "cell_type": "code",
      "metadata": {
        "id": "a85d4962"
      },
      "source": [
        "\n",
        "\n",
        "inputs_list = []\n",
        "labels_list = []\n",
        "backcast_list = []\n",
        "forecast_list = []\n",
        "\n",
        "with torch.no_grad():\n",
        "    for i, (inputs, labels) in enumerate(val_dataloader):\n",
        "        inputs = inputs.cuda()\n",
        "        labels = labels.cuda()\n",
        "\n",
        "        backcast, forecast = model(inputs)\n",
        "\n",
        "        inputs_list.append(inputs.data.cpu())\n",
        "        labels_list.append(labels.data.cpu())\n",
        "        backcast_list.append(backcast.data.cpu())\n",
        "        forecast_list.append(forecast.data.cpu())\n",
        "\n",
        "        \n",
        "    inputs = torch.cat(inputs_list)\n",
        "    labels = torch.cat(labels_list)\n",
        "    backcast = torch.cat(backcast_list,1)\n",
        "    forecast = torch.cat(forecast_list,1)\n",
        "    \n",
        "    \n",
        "    inputs_unscaled = train_dataset.unscale(inputs)\n",
        "    labels_unscaled = train_dataset.unscale(labels)\n",
        "    backcast_unscaled = train_dataset.unscale(backcast.sum(0))\n",
        "    forecast_unscaled = train_dataset.unscale(forecast.sum(0))\n",
        "    \n",
        "    mae, rmse, mape, smape = metric(labels_unscaled, forecast_unscaled)\n",
        "    \n",
        "    print('MAE [{:.4f}] RMSE [{:.4f}] MAPE [{:.4f}] sMAPE [{:.4f}]'.format(mae, rmse, mape, smape))"
      ],
      "id": "a85d4962",
      "execution_count": null,
      "outputs": []
    },
    {
      "cell_type": "code",
      "metadata": {
        "id": "e73cac91"
      },
      "source": [
        "from IPython.display import clear_output \n",
        "for i in range(0, len(inputs), 3):\n",
        "    clear_output(wait=True)\n",
        "    plot(inputs, labels, backcast, forecast, batch_idx=i)"
      ],
      "id": "e73cac91",
      "execution_count": null,
      "outputs": []
    },
    {
      "cell_type": "code",
      "metadata": {
        "id": "2abf30e5"
      },
      "source": [
        ""
      ],
      "id": "2abf30e5",
      "execution_count": null,
      "outputs": []
    }
  ]
}