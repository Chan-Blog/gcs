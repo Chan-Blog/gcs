{
  "nbformat": 4,
  "nbformat_minor": 0,
  "metadata": {
    "colab": {
      "name": "2021_10_14_NLP.ipynb",
      "provenance": [],
      "collapsed_sections": []
    },
    "kernelspec": {
      "name": "python3",
      "display_name": "Python 3"
    },
    "language_info": {
      "name": "python"
    },
    "accelerator": "GPU",
    "widgets": {
      "application/vnd.jupyter.widget-state+json": {
        "11bbc5856de84cd9b3486f65b688ee57": {
          "model_module": "@jupyter-widgets/controls",
          "model_name": "HBoxModel",
          "model_module_version": "1.5.0",
          "state": {
            "_view_name": "HBoxView",
            "_dom_classes": [],
            "_model_name": "HBoxModel",
            "_view_module": "@jupyter-widgets/controls",
            "_model_module_version": "1.5.0",
            "_view_count": null,
            "_view_module_version": "1.5.0",
            "box_style": "",
            "layout": "IPY_MODEL_2df87cb27efd4183819049febe5971f5",
            "_model_module": "@jupyter-widgets/controls",
            "children": [
              "IPY_MODEL_b96a44303b814a6685fab002c75fa810",
              "IPY_MODEL_3c579b258c4242cd9d0f65ce6c0261a3",
              "IPY_MODEL_fe800f2f7f3346e6b47a185b50ebe18c"
            ]
          }
        },
        "2df87cb27efd4183819049febe5971f5": {
          "model_module": "@jupyter-widgets/base",
          "model_name": "LayoutModel",
          "model_module_version": "1.2.0",
          "state": {
            "_view_name": "LayoutView",
            "grid_template_rows": null,
            "right": null,
            "justify_content": null,
            "_view_module": "@jupyter-widgets/base",
            "overflow": null,
            "_model_module_version": "1.2.0",
            "_view_count": null,
            "flex_flow": null,
            "width": null,
            "min_width": null,
            "border": null,
            "align_items": null,
            "bottom": null,
            "_model_module": "@jupyter-widgets/base",
            "top": null,
            "grid_column": null,
            "overflow_y": null,
            "overflow_x": null,
            "grid_auto_flow": null,
            "grid_area": null,
            "grid_template_columns": null,
            "flex": null,
            "_model_name": "LayoutModel",
            "justify_items": null,
            "grid_row": null,
            "max_height": null,
            "align_content": null,
            "visibility": null,
            "align_self": null,
            "height": null,
            "min_height": null,
            "padding": null,
            "grid_auto_rows": null,
            "grid_gap": null,
            "max_width": null,
            "order": null,
            "_view_module_version": "1.2.0",
            "grid_template_areas": null,
            "object_position": null,
            "object_fit": null,
            "grid_auto_columns": null,
            "margin": null,
            "display": null,
            "left": null
          }
        },
        "b96a44303b814a6685fab002c75fa810": {
          "model_module": "@jupyter-widgets/controls",
          "model_name": "HTMLModel",
          "model_module_version": "1.5.0",
          "state": {
            "_view_name": "HTMLView",
            "style": "IPY_MODEL_97172363742d46b4a88eaf21e3fb1284",
            "_dom_classes": [],
            "description": "",
            "_model_name": "HTMLModel",
            "placeholder": "​",
            "_view_module": "@jupyter-widgets/controls",
            "_model_module_version": "1.5.0",
            "value": "Downloading: 100%",
            "_view_count": null,
            "_view_module_version": "1.5.0",
            "description_tooltip": null,
            "_model_module": "@jupyter-widgets/controls",
            "layout": "IPY_MODEL_7c61496deed94f10b4956397184f3a60"
          }
        },
        "3c579b258c4242cd9d0f65ce6c0261a3": {
          "model_module": "@jupyter-widgets/controls",
          "model_name": "FloatProgressModel",
          "model_module_version": "1.5.0",
          "state": {
            "_view_name": "ProgressView",
            "style": "IPY_MODEL_60243285d32343cf8ad11f4702841706",
            "_dom_classes": [],
            "description": "",
            "_model_name": "FloatProgressModel",
            "bar_style": "success",
            "max": 231508,
            "_view_module": "@jupyter-widgets/controls",
            "_model_module_version": "1.5.0",
            "value": 231508,
            "_view_count": null,
            "_view_module_version": "1.5.0",
            "orientation": "horizontal",
            "min": 0,
            "description_tooltip": null,
            "_model_module": "@jupyter-widgets/controls",
            "layout": "IPY_MODEL_fd37febefbd34f0188f730d71880f6cd"
          }
        },
        "fe800f2f7f3346e6b47a185b50ebe18c": {
          "model_module": "@jupyter-widgets/controls",
          "model_name": "HTMLModel",
          "model_module_version": "1.5.0",
          "state": {
            "_view_name": "HTMLView",
            "style": "IPY_MODEL_6947f000532744eab1bb83c6fe2539f6",
            "_dom_classes": [],
            "description": "",
            "_model_name": "HTMLModel",
            "placeholder": "​",
            "_view_module": "@jupyter-widgets/controls",
            "_model_module_version": "1.5.0",
            "value": " 226k/226k [00:00&lt;00:00, 714kB/s]",
            "_view_count": null,
            "_view_module_version": "1.5.0",
            "description_tooltip": null,
            "_model_module": "@jupyter-widgets/controls",
            "layout": "IPY_MODEL_c49effa2ab2144c8ae60ec422a943ad1"
          }
        },
        "97172363742d46b4a88eaf21e3fb1284": {
          "model_module": "@jupyter-widgets/controls",
          "model_name": "DescriptionStyleModel",
          "model_module_version": "1.5.0",
          "state": {
            "_view_name": "StyleView",
            "_model_name": "DescriptionStyleModel",
            "description_width": "",
            "_view_module": "@jupyter-widgets/base",
            "_model_module_version": "1.5.0",
            "_view_count": null,
            "_view_module_version": "1.2.0",
            "_model_module": "@jupyter-widgets/controls"
          }
        },
        "7c61496deed94f10b4956397184f3a60": {
          "model_module": "@jupyter-widgets/base",
          "model_name": "LayoutModel",
          "model_module_version": "1.2.0",
          "state": {
            "_view_name": "LayoutView",
            "grid_template_rows": null,
            "right": null,
            "justify_content": null,
            "_view_module": "@jupyter-widgets/base",
            "overflow": null,
            "_model_module_version": "1.2.0",
            "_view_count": null,
            "flex_flow": null,
            "width": null,
            "min_width": null,
            "border": null,
            "align_items": null,
            "bottom": null,
            "_model_module": "@jupyter-widgets/base",
            "top": null,
            "grid_column": null,
            "overflow_y": null,
            "overflow_x": null,
            "grid_auto_flow": null,
            "grid_area": null,
            "grid_template_columns": null,
            "flex": null,
            "_model_name": "LayoutModel",
            "justify_items": null,
            "grid_row": null,
            "max_height": null,
            "align_content": null,
            "visibility": null,
            "align_self": null,
            "height": null,
            "min_height": null,
            "padding": null,
            "grid_auto_rows": null,
            "grid_gap": null,
            "max_width": null,
            "order": null,
            "_view_module_version": "1.2.0",
            "grid_template_areas": null,
            "object_position": null,
            "object_fit": null,
            "grid_auto_columns": null,
            "margin": null,
            "display": null,
            "left": null
          }
        },
        "60243285d32343cf8ad11f4702841706": {
          "model_module": "@jupyter-widgets/controls",
          "model_name": "ProgressStyleModel",
          "model_module_version": "1.5.0",
          "state": {
            "_view_name": "StyleView",
            "_model_name": "ProgressStyleModel",
            "description_width": "",
            "_view_module": "@jupyter-widgets/base",
            "_model_module_version": "1.5.0",
            "_view_count": null,
            "_view_module_version": "1.2.0",
            "bar_color": null,
            "_model_module": "@jupyter-widgets/controls"
          }
        },
        "fd37febefbd34f0188f730d71880f6cd": {
          "model_module": "@jupyter-widgets/base",
          "model_name": "LayoutModel",
          "model_module_version": "1.2.0",
          "state": {
            "_view_name": "LayoutView",
            "grid_template_rows": null,
            "right": null,
            "justify_content": null,
            "_view_module": "@jupyter-widgets/base",
            "overflow": null,
            "_model_module_version": "1.2.0",
            "_view_count": null,
            "flex_flow": null,
            "width": null,
            "min_width": null,
            "border": null,
            "align_items": null,
            "bottom": null,
            "_model_module": "@jupyter-widgets/base",
            "top": null,
            "grid_column": null,
            "overflow_y": null,
            "overflow_x": null,
            "grid_auto_flow": null,
            "grid_area": null,
            "grid_template_columns": null,
            "flex": null,
            "_model_name": "LayoutModel",
            "justify_items": null,
            "grid_row": null,
            "max_height": null,
            "align_content": null,
            "visibility": null,
            "align_self": null,
            "height": null,
            "min_height": null,
            "padding": null,
            "grid_auto_rows": null,
            "grid_gap": null,
            "max_width": null,
            "order": null,
            "_view_module_version": "1.2.0",
            "grid_template_areas": null,
            "object_position": null,
            "object_fit": null,
            "grid_auto_columns": null,
            "margin": null,
            "display": null,
            "left": null
          }
        },
        "6947f000532744eab1bb83c6fe2539f6": {
          "model_module": "@jupyter-widgets/controls",
          "model_name": "DescriptionStyleModel",
          "model_module_version": "1.5.0",
          "state": {
            "_view_name": "StyleView",
            "_model_name": "DescriptionStyleModel",
            "description_width": "",
            "_view_module": "@jupyter-widgets/base",
            "_model_module_version": "1.5.0",
            "_view_count": null,
            "_view_module_version": "1.2.0",
            "_model_module": "@jupyter-widgets/controls"
          }
        },
        "c49effa2ab2144c8ae60ec422a943ad1": {
          "model_module": "@jupyter-widgets/base",
          "model_name": "LayoutModel",
          "model_module_version": "1.2.0",
          "state": {
            "_view_name": "LayoutView",
            "grid_template_rows": null,
            "right": null,
            "justify_content": null,
            "_view_module": "@jupyter-widgets/base",
            "overflow": null,
            "_model_module_version": "1.2.0",
            "_view_count": null,
            "flex_flow": null,
            "width": null,
            "min_width": null,
            "border": null,
            "align_items": null,
            "bottom": null,
            "_model_module": "@jupyter-widgets/base",
            "top": null,
            "grid_column": null,
            "overflow_y": null,
            "overflow_x": null,
            "grid_auto_flow": null,
            "grid_area": null,
            "grid_template_columns": null,
            "flex": null,
            "_model_name": "LayoutModel",
            "justify_items": null,
            "grid_row": null,
            "max_height": null,
            "align_content": null,
            "visibility": null,
            "align_self": null,
            "height": null,
            "min_height": null,
            "padding": null,
            "grid_auto_rows": null,
            "grid_gap": null,
            "max_width": null,
            "order": null,
            "_view_module_version": "1.2.0",
            "grid_template_areas": null,
            "object_position": null,
            "object_fit": null,
            "grid_auto_columns": null,
            "margin": null,
            "display": null,
            "left": null
          }
        }
      }
    }
  },
  "cells": [
    {
      "cell_type": "markdown",
      "metadata": {
        "id": "MrVrkzEKgNpF"
      },
      "source": [
        "1. 상단 메뉴 -> 런타임-> 런타임 유형 변경 -> GPU\n",
        "2.  transformers 설치\n",
        "3. Reviews.csv 업로드"
      ]
    },
    {
      "cell_type": "code",
      "metadata": {
        "id": "6l_4MLdlSr7S",
        "outputId": "95384cad-3a2c-4d60-d603-fd199a19d29c",
        "colab": {
          "base_uri": "https://localhost:8080/"
        }
      },
      "source": [
        "!pip install transformers"
      ],
      "execution_count": 1,
      "outputs": [
        {
          "output_type": "stream",
          "name": "stdout",
          "text": [
            "Collecting transformers\n",
            "  Downloading transformers-4.11.3-py3-none-any.whl (2.9 MB)\n",
            "\u001b[K     |████████████████████████████████| 2.9 MB 5.2 MB/s \n",
            "\u001b[?25hCollecting pyyaml>=5.1\n",
            "  Downloading PyYAML-6.0-cp37-cp37m-manylinux_2_5_x86_64.manylinux1_x86_64.manylinux_2_12_x86_64.manylinux2010_x86_64.whl (596 kB)\n",
            "\u001b[K     |████████████████████████████████| 596 kB 38.0 MB/s \n",
            "\u001b[?25hRequirement already satisfied: numpy>=1.17 in /usr/local/lib/python3.7/dist-packages (from transformers) (1.19.5)\n",
            "Collecting tokenizers<0.11,>=0.10.1\n",
            "  Downloading tokenizers-0.10.3-cp37-cp37m-manylinux_2_5_x86_64.manylinux1_x86_64.manylinux_2_12_x86_64.manylinux2010_x86_64.whl (3.3 MB)\n",
            "\u001b[K     |████████████████████████████████| 3.3 MB 36.9 MB/s \n",
            "\u001b[?25hCollecting sacremoses\n",
            "  Downloading sacremoses-0.0.46-py3-none-any.whl (895 kB)\n",
            "\u001b[K     |████████████████████████████████| 895 kB 43.2 MB/s \n",
            "\u001b[?25hCollecting huggingface-hub>=0.0.17\n",
            "  Downloading huggingface_hub-0.0.19-py3-none-any.whl (56 kB)\n",
            "\u001b[K     |████████████████████████████████| 56 kB 3.9 MB/s \n",
            "\u001b[?25hRequirement already satisfied: regex!=2019.12.17 in /usr/local/lib/python3.7/dist-packages (from transformers) (2019.12.20)\n",
            "Requirement already satisfied: tqdm>=4.27 in /usr/local/lib/python3.7/dist-packages (from transformers) (4.62.3)\n",
            "Requirement already satisfied: requests in /usr/local/lib/python3.7/dist-packages (from transformers) (2.23.0)\n",
            "Requirement already satisfied: filelock in /usr/local/lib/python3.7/dist-packages (from transformers) (3.3.0)\n",
            "Requirement already satisfied: packaging>=20.0 in /usr/local/lib/python3.7/dist-packages (from transformers) (21.0)\n",
            "Requirement already satisfied: importlib-metadata in /usr/local/lib/python3.7/dist-packages (from transformers) (4.8.1)\n",
            "Requirement already satisfied: typing-extensions in /usr/local/lib/python3.7/dist-packages (from huggingface-hub>=0.0.17->transformers) (3.7.4.3)\n",
            "Requirement already satisfied: pyparsing>=2.0.2 in /usr/local/lib/python3.7/dist-packages (from packaging>=20.0->transformers) (2.4.7)\n",
            "Requirement already satisfied: zipp>=0.5 in /usr/local/lib/python3.7/dist-packages (from importlib-metadata->transformers) (3.6.0)\n",
            "Requirement already satisfied: certifi>=2017.4.17 in /usr/local/lib/python3.7/dist-packages (from requests->transformers) (2021.5.30)\n",
            "Requirement already satisfied: idna<3,>=2.5 in /usr/local/lib/python3.7/dist-packages (from requests->transformers) (2.10)\n",
            "Requirement already satisfied: urllib3!=1.25.0,!=1.25.1,<1.26,>=1.21.1 in /usr/local/lib/python3.7/dist-packages (from requests->transformers) (1.24.3)\n",
            "Requirement already satisfied: chardet<4,>=3.0.2 in /usr/local/lib/python3.7/dist-packages (from requests->transformers) (3.0.4)\n",
            "Requirement already satisfied: click in /usr/local/lib/python3.7/dist-packages (from sacremoses->transformers) (7.1.2)\n",
            "Requirement already satisfied: joblib in /usr/local/lib/python3.7/dist-packages (from sacremoses->transformers) (1.0.1)\n",
            "Requirement already satisfied: six in /usr/local/lib/python3.7/dist-packages (from sacremoses->transformers) (1.15.0)\n",
            "Installing collected packages: pyyaml, tokenizers, sacremoses, huggingface-hub, transformers\n",
            "  Attempting uninstall: pyyaml\n",
            "    Found existing installation: PyYAML 3.13\n",
            "    Uninstalling PyYAML-3.13:\n",
            "      Successfully uninstalled PyYAML-3.13\n",
            "Successfully installed huggingface-hub-0.0.19 pyyaml-6.0 sacremoses-0.0.46 tokenizers-0.10.3 transformers-4.11.3\n"
          ]
        }
      ]
    },
    {
      "cell_type": "code",
      "metadata": {
        "id": "_fE9MWMm8-yU",
        "outputId": "0399ca02-beb5-4968-c355-f9e852789554",
        "colab": {
          "base_uri": "https://localhost:8080/"
        }
      },
      "source": [
        "!wget -O Reviews.csv https://www.dropbox.com/s/igsnbo24jifkdjr/Reviews_mini.csv?dl=0\n"
      ],
      "execution_count": 2,
      "outputs": [
        {
          "output_type": "stream",
          "name": "stdout",
          "text": [
            "--2021-10-14 06:37:54--  https://www.dropbox.com/s/igsnbo24jifkdjr/Reviews_mini.csv?dl=0\n",
            "Resolving www.dropbox.com (www.dropbox.com)... 162.125.3.18, 2620:100:601b:18::a27d:812\n",
            "Connecting to www.dropbox.com (www.dropbox.com)|162.125.3.18|:443... connected.\n",
            "HTTP request sent, awaiting response... 301 Moved Permanently\n",
            "Location: /s/raw/igsnbo24jifkdjr/Reviews_mini.csv [following]\n",
            "--2021-10-14 06:37:54--  https://www.dropbox.com/s/raw/igsnbo24jifkdjr/Reviews_mini.csv\n",
            "Reusing existing connection to www.dropbox.com:443.\n",
            "HTTP request sent, awaiting response... 302 Found\n",
            "Location: https://ucbac30d9c706aac25b548b27c59.dl.dropboxusercontent.com/cd/0/inline/BYBBKW_qaKSW7mO1MGLerEAbwH9yO4lUWoxQG2prGvZ9UqRE0UUNuUZdhS-cUhBY1N-PyQQ0M8sbitGjPT_DcFCCWF8C44S7cYftvUpdtqn19xmusvnK0BeWKKqboIJxL7XBIJt7hNH64hKq33G_jAoh/file# [following]\n",
            "--2021-10-14 06:37:54--  https://ucbac30d9c706aac25b548b27c59.dl.dropboxusercontent.com/cd/0/inline/BYBBKW_qaKSW7mO1MGLerEAbwH9yO4lUWoxQG2prGvZ9UqRE0UUNuUZdhS-cUhBY1N-PyQQ0M8sbitGjPT_DcFCCWF8C44S7cYftvUpdtqn19xmusvnK0BeWKKqboIJxL7XBIJt7hNH64hKq33G_jAoh/file\n",
            "Resolving ucbac30d9c706aac25b548b27c59.dl.dropboxusercontent.com (ucbac30d9c706aac25b548b27c59.dl.dropboxusercontent.com)... 162.125.3.15, 2620:100:6018:15::a27d:30f\n",
            "Connecting to ucbac30d9c706aac25b548b27c59.dl.dropboxusercontent.com (ucbac30d9c706aac25b548b27c59.dl.dropboxusercontent.com)|162.125.3.15|:443... connected.\n",
            "HTTP request sent, awaiting response... 200 OK\n",
            "Length: 2550523 (2.4M) [text/plain]\n",
            "Saving to: ‘Reviews.csv’\n",
            "\n",
            "Reviews.csv         100%[===================>]   2.43M  --.-KB/s    in 0.1s    \n",
            "\n",
            "2021-10-14 06:37:54 (17.7 MB/s) - ‘Reviews.csv’ saved [2550523/2550523]\n",
            "\n"
          ]
        }
      ]
    },
    {
      "cell_type": "code",
      "metadata": {
        "id": "2QUlrHgSTa4E"
      },
      "source": [
        "import matplotlib.pyplot as plt\n",
        "import pandas as pd\n",
        "import torch\n",
        "import csv\n",
        "import torchtext\n",
        "import torch.nn as nn\n",
        "from transformers import BertTokenizer, BertForSequenceClassification\n",
        "import torch.optim as optim\n",
        "from sklearn.metrics import accuracy_score as ACC\n",
        "from torch.nn.utils.rnn import pad_sequence\n",
        "import numpy as np"
      ],
      "execution_count": 3,
      "outputs": []
    },
    {
      "cell_type": "code",
      "metadata": {
        "id": "ohmUe7AYg4zK"
      },
      "source": [
        "df=pd.read_csv('Reviews.csv',error_bad_lines=False, engine=\"python\")"
      ],
      "execution_count": 4,
      "outputs": []
    },
    {
      "cell_type": "code",
      "metadata": {
        "id": "mSKCTiBcg_85"
      },
      "source": [
        "df = df[['Score','Text']]"
      ],
      "execution_count": 5,
      "outputs": []
    },
    {
      "cell_type": "code",
      "metadata": {
        "id": "mykld5I9hExt",
        "outputId": "842e1fa6-d1f3-4a07-b02d-9730f7adc476",
        "colab": {
          "base_uri": "https://localhost:8080/",
          "height": 417
        }
      },
      "source": [
        "df"
      ],
      "execution_count": 6,
      "outputs": [
        {
          "output_type": "execute_result",
          "data": {
            "text/html": [
              "<div>\n",
              "<style scoped>\n",
              "    .dataframe tbody tr th:only-of-type {\n",
              "        vertical-align: middle;\n",
              "    }\n",
              "\n",
              "    .dataframe tbody tr th {\n",
              "        vertical-align: top;\n",
              "    }\n",
              "\n",
              "    .dataframe thead th {\n",
              "        text-align: right;\n",
              "    }\n",
              "</style>\n",
              "<table border=\"1\" class=\"dataframe\">\n",
              "  <thead>\n",
              "    <tr style=\"text-align: right;\">\n",
              "      <th></th>\n",
              "      <th>Score</th>\n",
              "      <th>Text</th>\n",
              "    </tr>\n",
              "  </thead>\n",
              "  <tbody>\n",
              "    <tr>\n",
              "      <th>0</th>\n",
              "      <td>5</td>\n",
              "      <td>I have bought several of the Vitality canned d...</td>\n",
              "    </tr>\n",
              "    <tr>\n",
              "      <th>1</th>\n",
              "      <td>1</td>\n",
              "      <td>Product arrived labeled as Jumbo Salted Peanut...</td>\n",
              "    </tr>\n",
              "    <tr>\n",
              "      <th>2</th>\n",
              "      <td>4</td>\n",
              "      <td>This is a confection that has been around a fe...</td>\n",
              "    </tr>\n",
              "    <tr>\n",
              "      <th>3</th>\n",
              "      <td>2</td>\n",
              "      <td>If you are looking for the secret ingredient i...</td>\n",
              "    </tr>\n",
              "    <tr>\n",
              "      <th>4</th>\n",
              "      <td>5</td>\n",
              "      <td>Great taffy at a great price.  There was a wid...</td>\n",
              "    </tr>\n",
              "    <tr>\n",
              "      <th>...</th>\n",
              "      <td>...</td>\n",
              "      <td>...</td>\n",
              "    </tr>\n",
              "    <tr>\n",
              "      <th>4995</th>\n",
              "      <td>2</td>\n",
              "      <td>I really wanted to like these.&lt;br /&gt;&lt;br /&gt;Firs...</td>\n",
              "    </tr>\n",
              "    <tr>\n",
              "      <th>4996</th>\n",
              "      <td>1</td>\n",
              "      <td>I was not impressed with these cookies when I ...</td>\n",
              "    </tr>\n",
              "    <tr>\n",
              "      <th>4997</th>\n",
              "      <td>3</td>\n",
              "      <td>The cookies came sealed and seem to be high qu...</td>\n",
              "    </tr>\n",
              "    <tr>\n",
              "      <th>4998</th>\n",
              "      <td>4</td>\n",
              "      <td>These taste very good, but aren't like the BES...</td>\n",
              "    </tr>\n",
              "    <tr>\n",
              "      <th>4999</th>\n",
              "      <td>5</td>\n",
              "      <td>I love these cookies. I am on the paleo diet r...</td>\n",
              "    </tr>\n",
              "  </tbody>\n",
              "</table>\n",
              "<p>5000 rows × 2 columns</p>\n",
              "</div>"
            ],
            "text/plain": [
              "      Score                                               Text\n",
              "0         5  I have bought several of the Vitality canned d...\n",
              "1         1  Product arrived labeled as Jumbo Salted Peanut...\n",
              "2         4  This is a confection that has been around a fe...\n",
              "3         2  If you are looking for the secret ingredient i...\n",
              "4         5  Great taffy at a great price.  There was a wid...\n",
              "...     ...                                                ...\n",
              "4995      2  I really wanted to like these.<br /><br />Firs...\n",
              "4996      1  I was not impressed with these cookies when I ...\n",
              "4997      3  The cookies came sealed and seem to be high qu...\n",
              "4998      4  These taste very good, but aren't like the BES...\n",
              "4999      5  I love these cookies. I am on the paleo diet r...\n",
              "\n",
              "[5000 rows x 2 columns]"
            ]
          },
          "metadata": {},
          "execution_count": 6
        }
      ]
    },
    {
      "cell_type": "code",
      "metadata": {
        "id": "ke8ZwbydOIib",
        "outputId": "2a199c09-f967-4a3b-f90e-f3821856f7ea",
        "colab": {
          "base_uri": "https://localhost:8080/",
          "height": 282
        }
      },
      "source": [
        "df['Score'].hist()"
      ],
      "execution_count": 7,
      "outputs": [
        {
          "output_type": "execute_result",
          "data": {
            "text/plain": [
              "<matplotlib.axes._subplots.AxesSubplot at 0x7f0bf84de7d0>"
            ]
          },
          "metadata": {},
          "execution_count": 7
        },
        {
          "output_type": "display_data",
          "data": {
            "image/png": "[encoded data removed]",
            "text/plain": [
              "<Figure size 432x288 with 1 Axes>"
            ]
          },
          "metadata": {
            "needs_background": "light"
          }
        }
      ]
    },
    {
      "cell_type": "code",
      "metadata": {
        "id": "-bxbvTsSTfET",
        "outputId": "e7707295-2ff3-4553-de8a-e7f339a1c5c3",
        "colab": {
          "base_uri": "https://localhost:8080/",
          "height": 145,
          "referenced_widgets": [
            "11bbc5856de84cd9b3486f65b688ee57",
            "2df87cb27efd4183819049febe5971f5",
            "b96a44303b814a6685fab002c75fa810",
            "3c579b258c4242cd9d0f65ce6c0261a3",
            "fe800f2f7f3346e6b47a185b50ebe18c",
            "97172363742d46b4a88eaf21e3fb1284",
            "7c61496deed94f10b4956397184f3a60",
            "60243285d32343cf8ad11f4702841706",
            "fd37febefbd34f0188f730d71880f6cd",
            "6947f000532744eab1bb83c6fe2539f6",
            "c49effa2ab2144c8ae60ec422a943ad1"
          ]
        }
      },
      "source": [
        "tokenizer = BertTokenizer.from_pretrained('bert-base-uncased')"
      ],
      "execution_count": 8,
      "outputs": [
        {
          "output_type": "display_data",
          "data": {
            "application/vnd.jupyter.widget-view+json": {
              "model_id": "11bbc5856de84cd9b3486f65b688ee57",
              "version_minor": 0,
              "version_major": 2
            },
            "text/plain": [
              "Downloading:   0%|          | 0.00/226k [00:00<?, ?B/s]"
            ]
          },
          "metadata": {}
        },
        {
          "output_type": "display_data",
          "data": {
            "application/vnd.jupyter.widget-view+json": {
              "model_id": "231b89d47b7746b1903eb9fada7bd272",
              "version_minor": 0,
              "version_major": 2
            },
            "text/plain": [
              "Downloading:   0%|          | 0.00/28.0 [00:00<?, ?B/s]"
            ]
          },
          "metadata": {}
        },
        {
          "output_type": "display_data",
          "data": {
            "application/vnd.jupyter.widget-view+json": {
              "model_id": "69e7c683915149c693ddab54e4e135b6",
              "version_minor": 0,
              "version_major": 2
            },
            "text/plain": [
              "Downloading:   0%|          | 0.00/455k [00:00<?, ?B/s]"
            ]
          },
          "metadata": {}
        },
        {
          "output_type": "display_data",
          "data": {
            "application/vnd.jupyter.widget-view+json": {
              "model_id": "cec8337c73574f5f92c2ab24e0855f16",
              "version_minor": 0,
              "version_major": 2
            },
            "text/plain": [
              "Downloading:   0%|          | 0.00/570 [00:00<?, ?B/s]"
            ]
          },
          "metadata": {}
        }
      ]
    },
    {
      "cell_type": "code",
      "metadata": {
        "id": "RUe27N1lgR5R",
        "outputId": "4f66e4d9-8b13-4695-8210-fc1091c63bd5",
        "colab": {
          "base_uri": "https://localhost:8080/"
        }
      },
      "source": [
        "tokenizer"
      ],
      "execution_count": 9,
      "outputs": [
        {
          "output_type": "execute_result",
          "data": {
            "text/plain": [
              "PreTrainedTokenizer(name_or_path='bert-base-uncased', vocab_size=30522, model_max_len=512, is_fast=False, padding_side='right', special_tokens={'unk_token': '[UNK]', 'sep_token': '[SEP]', 'pad_token': '[PAD]', 'cls_token': '[CLS]', 'mask_token': '[MASK]'})"
            ]
          },
          "metadata": {},
          "execution_count": 9
        }
      ]
    },
    {
      "cell_type": "code",
      "metadata": {
        "id": "xQqHOavggzaR",
        "outputId": "ba01e57a-7068-4a53-c775-556c35f22f62",
        "colab": {
          "base_uri": "https://localhost:8080/",
          "height": 53
        }
      },
      "source": [
        "example_sentence = df['Text'].iloc[0]\n",
        "example_sentence"
      ],
      "execution_count": 10,
      "outputs": [
        {
          "output_type": "execute_result",
          "data": {
            "application/vnd.google.colaboratory.intrinsic+json": {
              "type": "string"
            },
            "text/plain": [
              "'I have bought several of the Vitality canned dog food products and have found them all to be of good quality. The product looks more like a stew than a processed meat and it smells better. My Labrador is finicky and she appreciates this product better than  most.'"
            ]
          },
          "metadata": {},
          "execution_count": 10
        }
      ]
    },
    {
      "cell_type": "code",
      "metadata": {
        "id": "dfado3NugX1l",
        "outputId": "cfb1c91f-4ce9-4bb7-af73-7753227e98be",
        "colab": {
          "base_uri": "https://localhost:8080/"
        }
      },
      "source": [
        "tokenizer.encode(example_sentence)"
      ],
      "execution_count": 11,
      "outputs": [
        {
          "output_type": "execute_result",
          "data": {
            "text/plain": [
              "[101,\n",
              " 1045,\n",
              " 2031,\n",
              " 4149,\n",
              " 2195,\n",
              " 1997,\n",
              " 1996,\n",
              " 8995,\n",
              " 3012,\n",
              " 27141,\n",
              " 3899,\n",
              " 2833,\n",
              " 3688,\n",
              " 1998,\n",
              " 2031,\n",
              " 2179,\n",
              " 2068,\n",
              " 2035,\n",
              " 2000,\n",
              " 2022,\n",
              " 1997,\n",
              " 2204,\n",
              " 3737,\n",
              " 1012,\n",
              " 1996,\n",
              " 4031,\n",
              " 3504,\n",
              " 2062,\n",
              " 2066,\n",
              " 1037,\n",
              " 20717,\n",
              " 2084,\n",
              " 1037,\n",
              " 13995,\n",
              " 6240,\n",
              " 1998,\n",
              " 2009,\n",
              " 14747,\n",
              " 2488,\n",
              " 1012,\n",
              " 2026,\n",
              " 18604,\n",
              " 2003,\n",
              " 10346,\n",
              " 6799,\n",
              " 2100,\n",
              " 1998,\n",
              " 2016,\n",
              " 9120,\n",
              " 2015,\n",
              " 2023,\n",
              " 4031,\n",
              " 2488,\n",
              " 2084,\n",
              " 2087,\n",
              " 1012,\n",
              " 102]"
            ]
          },
          "metadata": {},
          "execution_count": 11
        }
      ]
    },
    {
      "cell_type": "code",
      "metadata": {
        "id": "iijPw9qpi4c8"
      },
      "source": [
        "class textDataset(torch.utils.data.Dataset):\n",
        "    def __init__(self, data, tokenizer):\n",
        "        self.data = data\n",
        "        self.tokenizer = tokenizer\n",
        "        \n",
        "    def __len__(self):\n",
        "        return len(self.data)\n",
        "\n",
        "    def __getitem__(self, idx):\n",
        "        text = self.data['Text'].iloc[idx]\n",
        "        score = self.data['Score'].iloc[idx]\n",
        "\n",
        "        encoded_text = self.tokenizer.encode(text)\n",
        "\n",
        "        encoded_text = torch.tensor(encoded_text).long()\n",
        "        score = torch.tensor(score).long()\n",
        "        score = score-1 # 1~5->0~4\n",
        "        return encoded_text, score"
      ],
      "execution_count": 12,
      "outputs": []
    },
    {
      "cell_type": "code",
      "metadata": {
        "id": "1wDJshv-jWiE"
      },
      "source": [
        "split_idx = int(len(df)*0.9)\n",
        "train_data = df.iloc[:split_idx]\n",
        "test_data = df.iloc[split_idx:]"
      ],
      "execution_count": 13,
      "outputs": []
    },
    {
      "cell_type": "code",
      "metadata": {
        "id": "VEr3fVbTe3Lf"
      },
      "source": [
        "batch_size = 4\n",
        "device = torch.device('cuda')\n",
        "\n",
        "# Data set\n",
        "train_dataset = textDataset(train_data, tokenizer)\n",
        "test_dataset = textDataset(test_data, tokenizer)\n",
        "\n",
        "def collate_fn(batch):\n",
        "  texts, scores = zip(*batch)\n",
        "  texts_pad = pad_sequence(texts, batch_first=True, padding_value=0)\n",
        "  texts_pad = texts_pad[:,:512]\n",
        "  return texts_pad, torch.stack(scores)\n",
        "\n",
        "# Data loader\n",
        "train_loader = torch.utils.data.DataLoader(train_dataset, batch_size=batch_size, shuffle=True, collate_fn=collate_fn, num_workers=2)\n",
        "test_loader =  torch.utils.data.DataLoader(test_dataset, batch_size=batch_size, shuffle=False, collate_fn=collate_fn, num_workers=2)\n"
      ],
      "execution_count": 14,
      "outputs": []
    },
    {
      "cell_type": "code",
      "metadata": {
        "id": "DVLMNB_cjw_H"
      },
      "source": [
        "class simpleRNN(nn.Module):\n",
        "  def __init__(self):\n",
        "        super(simpleRNN, self).__init__()\n",
        "\n",
        "        self.embedding_layer = nn.Embedding(30522, embedding_dim=256)\n",
        "        \n",
        "        self.num_layers = 2\n",
        "        self.RNN = nn.LSTM(256, 256, num_layers=self.num_layers, dropout=0.1, batch_first=True)\n",
        "        \n",
        "        self.out = nn.Linear(256, 5)\n",
        "\n",
        "      \n",
        "  def forward(self, text):\n",
        "    # 1. 입력 text\n",
        "    # - [[1,2,403,...,0,0,0]] 이렇게 생긴게 여러 개 / 단어의 인덱스들 집합\n",
        "    # -word index가 입력되면 해당 word의 vector를 내뱉음\n",
        "        x=self.embedding_layer(text)\n",
        "        c0 = torch.zeros(self.num_layers,x.shape[0],256)\n",
        "        h0 = torch.zeros(self.num_layers,x.shape[0],256)\n",
        "        if torch.cuda.is_available():\n",
        "            h0 = h0.cuda()\n",
        "            c0 = c0.cuda()\n",
        "        x, h = self.RNN(x, (h0,c0))\n",
        "        x = self.out(x[:,-1,:])\n",
        "\n",
        "\n",
        "        return x"
      ],
      "execution_count": 24,
      "outputs": []
    },
    {
      "cell_type": "code",
      "metadata": {
        "id": "SbBcAs6Ff4vd"
      },
      "source": [
        "class BERT(nn.Module):\n",
        "\n",
        "    def __init__(self):\n",
        "        super(BERT, self).__init__()\n",
        "\n",
        "        options_name = \"bert-base-uncased\"\n",
        "        self.bert = BertForSequenceClassification.from_pretrained(options_name, num_labels=5)\n",
        "\n",
        "    def forward(self, text):\n",
        "        x = self.bert(text)[0]\n",
        "\n",
        "        return x"
      ],
      "execution_count": 30,
      "outputs": []
    },
    {
      "cell_type": "code",
      "metadata": {
        "id": "2XK-_2XzfWv3",
        "outputId": "4eb624a3-3ecd-4271-95a1-9b6ebe3c8147",
        "colab": {
          "base_uri": "https://localhost:8080/"
        }
      },
      "source": [
        "learning_rate = 1e-5\n",
        "model = BERT()\n",
        "# model = simpleRNN()\n",
        "if torch.cuda.is_available():\n",
        "  model = model.cuda()\n",
        "criterion = nn.CrossEntropyLoss()\n",
        "# optimizer = torch.optim.Adam(model.bert.classifier.parameters(), lr=learning_rate)\n",
        "optimizer = torch.optim.Adam(model.parameters(), lr=learning_rate)\n"
      ],
      "execution_count": 31,
      "outputs": [
        {
          "output_type": "stream",
          "name": "stderr",
          "text": [
            "Some weights of the model checkpoint at bert-base-uncased were not used when initializing BertForSequenceClassification: ['cls.predictions.transform.LayerNorm.bias', 'cls.predictions.decoder.weight', 'cls.predictions.transform.LayerNorm.weight', 'cls.seq_relationship.bias', 'cls.predictions.transform.dense.bias', 'cls.seq_relationship.weight', 'cls.predictions.transform.dense.weight', 'cls.predictions.bias']\n",
            "- This IS expected if you are initializing BertForSequenceClassification from the checkpoint of a model trained on another task or with another architecture (e.g. initializing a BertForSequenceClassification model from a BertForPreTraining model).\n",
            "- This IS NOT expected if you are initializing BertForSequenceClassification from the checkpoint of a model that you expect to be exactly identical (initializing a BertForSequenceClassification model from a BertForSequenceClassification model).\n",
            "Some weights of BertForSequenceClassification were not initialized from the model checkpoint at bert-base-uncased and are newly initialized: ['classifier.weight', 'classifier.bias']\n",
            "You should probably TRAIN this model on a down-stream task to be able to use it for predictions and inference.\n"
          ]
        }
      ]
    },
    {
      "cell_type": "code",
      "metadata": {
        "id": "_18TT7IZk873",
        "outputId": "eb4ea17a-ed5e-4c7c-a2ef-672be56f5bff",
        "colab": {
          "base_uri": "https://localhost:8080/"
        }
      },
      "source": [
        "EPOCHS=2\n",
        "\n",
        "losses = []\n",
        "for epoch in range(EPOCHS):\n",
        "    loss_list = []\n",
        "    acc_list = []\n",
        "\n",
        "    loss_list2 = []\n",
        "    acc_list2 = []\n",
        "    for i, (X_batch, y_batch) in enumerate(train_loader):\n",
        "        if torch.cuda.is_available():\n",
        "            X_batch = X_batch.cuda()\n",
        "            y_batch = y_batch.cuda()\n",
        "        #Forward \n",
        "        y_output = model(X_batch)\n",
        "        loss = criterion(y_output, y_batch) #CELoss: The input is expected to contain raw, unnormalized scores for each class.\n",
        "        \n",
        "        #Backward\n",
        "        optimizer.zero_grad()\n",
        "        loss.backward()\n",
        "        optimizer.step()\n",
        "        \n",
        "        #misc (acc 계산, etc) \n",
        "        y_pred = torch.max(y_output, 1)[1]\n",
        "        acc = ACC(y_batch.data.cpu(), y_pred.data.cpu())\n",
        "        loss_list.append(loss.item())\n",
        "        acc_list.append(acc)\n",
        "        loss_list2.append(loss.item())\n",
        "        acc_list2.append(acc)\n",
        "        losses.append(loss.item())\n",
        "        if (i+1) % 20 == 0:\n",
        "            print('Epoch [{}/{}] Step [{}/{}] Loss: [{:.4f}] Train ACC [{:.2f}%]'.format(epoch+1, EPOCHS, \\\n",
        "                                                                                       i+1, len(train_loader), np.mean(loss_list2), np.mean(acc_list2)*100))\n",
        "            loss_list2 = []\n",
        "            acc_list2 = [] \n",
        "    print('Epoch [{}/{}] Loss: [{:.4f}] Train ACC [{:.2f}%]'.format(epoch+1, EPOCHS, np.mean(loss_list), np.mean(acc_list)*100))"
      ],
      "execution_count": 32,
      "outputs": [
        {
          "output_type": "stream",
          "name": "stdout",
          "text": [
            "Epoch [1/2] Step [20/1125] Loss: [1.3338] Train ACC [53.75%]\n"
          ]
        },
        {
          "output_type": "stream",
          "name": "stderr",
          "text": [
            "Token indices sequence length is longer than the specified maximum sequence length for this model (1123 > 512). Running this sequence through the model will result in indexing errors\n"
          ]
        },
        {
          "output_type": "stream",
          "name": "stdout",
          "text": [
            "Epoch [1/2] Step [40/1125] Loss: [1.2309] Train ACC [57.50%]\n"
          ]
        },
        {
          "output_type": "stream",
          "name": "stderr",
          "text": [
            "Token indices sequence length is longer than the specified maximum sequence length for this model (527 > 512). Running this sequence through the model will result in indexing errors\n"
          ]
        },
        {
          "output_type": "stream",
          "name": "stdout",
          "text": [
            "Epoch [1/2] Step [60/1125] Loss: [1.0053] Train ACC [71.25%]\n",
            "Epoch [1/2] Step [80/1125] Loss: [1.1401] Train ACC [65.00%]\n",
            "Epoch [1/2] Step [100/1125] Loss: [1.2174] Train ACC [60.00%]\n",
            "Epoch [1/2] Step [120/1125] Loss: [1.2866] Train ACC [57.50%]\n",
            "Epoch [1/2] Step [140/1125] Loss: [1.1961] Train ACC [60.00%]\n",
            "Epoch [1/2] Step [160/1125] Loss: [0.9515] Train ACC [73.75%]\n",
            "Epoch [1/2] Step [180/1125] Loss: [1.2224] Train ACC [60.00%]\n",
            "Epoch [1/2] Step [200/1125] Loss: [1.0479] Train ACC [66.25%]\n",
            "Epoch [1/2] Step [220/1125] Loss: [1.0212] Train ACC [70.00%]\n",
            "Epoch [1/2] Step [240/1125] Loss: [1.1049] Train ACC [65.00%]\n",
            "Epoch [1/2] Step [260/1125] Loss: [1.0333] Train ACC [68.75%]\n",
            "Epoch [1/2] Step [280/1125] Loss: [1.2492] Train ACC [53.75%]\n",
            "Epoch [1/2] Step [300/1125] Loss: [1.1303] Train ACC [63.75%]\n",
            "Epoch [1/2] Step [320/1125] Loss: [0.9929] Train ACC [68.75%]\n",
            "Epoch [1/2] Step [340/1125] Loss: [0.9643] Train ACC [73.75%]\n",
            "Epoch [1/2] Step [360/1125] Loss: [1.1684] Train ACC [61.25%]\n",
            "Epoch [1/2] Step [380/1125] Loss: [1.1181] Train ACC [66.25%]\n",
            "Epoch [1/2] Step [400/1125] Loss: [1.2663] Train ACC [51.25%]\n",
            "Epoch [1/2] Step [420/1125] Loss: [1.2246] Train ACC [57.50%]\n",
            "Epoch [1/2] Step [440/1125] Loss: [1.1574] Train ACC [61.25%]\n",
            "Epoch [1/2] Step [460/1125] Loss: [1.1883] Train ACC [61.25%]\n",
            "Epoch [1/2] Step [480/1125] Loss: [1.2175] Train ACC [57.50%]\n",
            "Epoch [1/2] Step [500/1125] Loss: [0.9308] Train ACC [71.25%]\n",
            "Epoch [1/2] Step [520/1125] Loss: [0.9235] Train ACC [68.75%]\n",
            "Epoch [1/2] Step [540/1125] Loss: [1.0701] Train ACC [62.50%]\n",
            "Epoch [1/2] Step [560/1125] Loss: [0.9578] Train ACC [66.25%]\n",
            "Epoch [1/2] Step [580/1125] Loss: [1.0806] Train ACC [57.50%]\n",
            "Epoch [1/2] Step [600/1125] Loss: [0.8321] Train ACC [72.50%]\n",
            "Epoch [1/2] Step [620/1125] Loss: [0.9558] Train ACC [63.75%]\n",
            "Epoch [1/2] Step [640/1125] Loss: [0.8745] Train ACC [68.75%]\n",
            "Epoch [1/2] Step [660/1125] Loss: [0.8858] Train ACC [63.75%]\n",
            "Epoch [1/2] Step [680/1125] Loss: [0.9964] Train ACC [62.50%]\n",
            "Epoch [1/2] Step [700/1125] Loss: [0.9951] Train ACC [62.50%]\n",
            "Epoch [1/2] Step [720/1125] Loss: [0.7637] Train ACC [77.50%]\n",
            "Epoch [1/2] Step [740/1125] Loss: [0.9427] Train ACC [66.25%]\n",
            "Epoch [1/2] Step [760/1125] Loss: [0.7784] Train ACC [71.25%]\n",
            "Epoch [1/2] Step [780/1125] Loss: [0.6751] Train ACC [76.25%]\n",
            "Epoch [1/2] Step [800/1125] Loss: [0.8102] Train ACC [71.25%]\n",
            "Epoch [1/2] Step [820/1125] Loss: [0.5514] Train ACC [81.25%]\n",
            "Epoch [1/2] Step [840/1125] Loss: [0.8147] Train ACC [63.75%]\n",
            "Epoch [1/2] Step [860/1125] Loss: [0.9639] Train ACC [63.75%]\n",
            "Epoch [1/2] Step [880/1125] Loss: [0.9205] Train ACC [68.75%]\n",
            "Epoch [1/2] Step [900/1125] Loss: [0.8796] Train ACC [67.50%]\n",
            "Epoch [1/2] Step [920/1125] Loss: [0.7472] Train ACC [66.25%]\n",
            "Epoch [1/2] Step [940/1125] Loss: [0.6680] Train ACC [75.00%]\n",
            "Epoch [1/2] Step [960/1125] Loss: [0.8463] Train ACC [67.50%]\n",
            "Epoch [1/2] Step [980/1125] Loss: [0.7512] Train ACC [71.25%]\n",
            "Epoch [1/2] Step [1000/1125] Loss: [0.8224] Train ACC [68.75%]\n",
            "Epoch [1/2] Step [1020/1125] Loss: [0.7740] Train ACC [73.75%]\n",
            "Epoch [1/2] Step [1040/1125] Loss: [0.7798] Train ACC [70.00%]\n",
            "Epoch [1/2] Step [1060/1125] Loss: [0.8761] Train ACC [67.50%]\n",
            "Epoch [1/2] Step [1080/1125] Loss: [0.8072] Train ACC [71.25%]\n",
            "Epoch [1/2] Step [1100/1125] Loss: [0.7704] Train ACC [72.50%]\n",
            "Epoch [1/2] Step [1120/1125] Loss: [0.8134] Train ACC [63.75%]\n",
            "Epoch [1/2] Loss: [0.9752] Train ACC [66.16%]\n"
          ]
        },
        {
          "output_type": "stream",
          "name": "stderr",
          "text": [
            "Token indices sequence length is longer than the specified maximum sequence length for this model (590 > 512). Running this sequence through the model will result in indexing errors\n"
          ]
        },
        {
          "output_type": "stream",
          "name": "stdout",
          "text": [
            "Epoch [2/2] Step [20/1125] Loss: [0.7059] Train ACC [75.00%]\n",
            "Epoch [2/2] Step [40/1125] Loss: [0.7739] Train ACC [71.25%]\n",
            "Epoch [2/2] Step [60/1125] Loss: [0.7444] Train ACC [71.25%]\n",
            "Epoch [2/2] Step [80/1125] Loss: [0.6805] Train ACC [73.75%]\n",
            "Epoch [2/2] Step [100/1125] Loss: [0.6070] Train ACC [81.25%]\n",
            "Epoch [2/2] Step [120/1125] Loss: [0.7206] Train ACC [72.50%]\n",
            "Epoch [2/2] Step [140/1125] Loss: [0.5814] Train ACC [81.25%]\n",
            "Epoch [2/2] Step [160/1125] Loss: [0.6691] Train ACC [80.00%]\n"
          ]
        },
        {
          "output_type": "stream",
          "name": "stderr",
          "text": [
            "Token indices sequence length is longer than the specified maximum sequence length for this model (631 > 512). Running this sequence through the model will result in indexing errors\n"
          ]
        },
        {
          "output_type": "stream",
          "name": "stdout",
          "text": [
            "Epoch [2/2] Step [180/1125] Loss: [0.7000] Train ACC [73.75%]\n",
            "Epoch [2/2] Step [200/1125] Loss: [0.6961] Train ACC [71.25%]\n",
            "Epoch [2/2] Step [220/1125] Loss: [0.6159] Train ACC [77.50%]\n",
            "Epoch [2/2] Step [240/1125] Loss: [0.5906] Train ACC [72.50%]\n",
            "Epoch [2/2] Step [260/1125] Loss: [0.5833] Train ACC [73.75%]\n",
            "Epoch [2/2] Step [280/1125] Loss: [0.6204] Train ACC [71.25%]\n",
            "Epoch [2/2] Step [300/1125] Loss: [0.6482] Train ACC [77.50%]\n",
            "Epoch [2/2] Step [320/1125] Loss: [0.5517] Train ACC [77.50%]\n",
            "Epoch [2/2] Step [340/1125] Loss: [0.5994] Train ACC [73.75%]\n",
            "Epoch [2/2] Step [360/1125] Loss: [0.8209] Train ACC [67.50%]\n",
            "Epoch [2/2] Step [380/1125] Loss: [0.6558] Train ACC [75.00%]\n",
            "Epoch [2/2] Step [400/1125] Loss: [0.7132] Train ACC [76.25%]\n",
            "Epoch [2/2] Step [420/1125] Loss: [0.7095] Train ACC [70.00%]\n",
            "Epoch [2/2] Step [440/1125] Loss: [0.6398] Train ACC [76.25%]\n",
            "Epoch [2/2] Step [460/1125] Loss: [0.6937] Train ACC [76.25%]\n",
            "Epoch [2/2] Step [480/1125] Loss: [0.6905] Train ACC [71.25%]\n",
            "Epoch [2/2] Step [500/1125] Loss: [0.6062] Train ACC [82.50%]\n",
            "Epoch [2/2] Step [520/1125] Loss: [0.7345] Train ACC [76.25%]\n",
            "Epoch [2/2] Step [540/1125] Loss: [0.6461] Train ACC [76.25%]\n",
            "Epoch [2/2] Step [560/1125] Loss: [0.5926] Train ACC [78.75%]\n",
            "Epoch [2/2] Step [580/1125] Loss: [0.6777] Train ACC [76.25%]\n",
            "Epoch [2/2] Step [600/1125] Loss: [0.6475] Train ACC [78.75%]\n",
            "Epoch [2/2] Step [620/1125] Loss: [0.7287] Train ACC [73.75%]\n",
            "Epoch [2/2] Step [640/1125] Loss: [0.6683] Train ACC [73.75%]\n",
            "Epoch [2/2] Step [660/1125] Loss: [0.5466] Train ACC [78.75%]\n",
            "Epoch [2/2] Step [680/1125] Loss: [0.7598] Train ACC [71.25%]\n",
            "Epoch [2/2] Step [700/1125] Loss: [0.4725] Train ACC [83.75%]\n",
            "Epoch [2/2] Step [720/1125] Loss: [0.6972] Train ACC [72.50%]\n",
            "Epoch [2/2] Step [740/1125] Loss: [0.6146] Train ACC [75.00%]\n",
            "Epoch [2/2] Step [760/1125] Loss: [0.6866] Train ACC [76.25%]\n",
            "Epoch [2/2] Step [780/1125] Loss: [0.6384] Train ACC [80.00%]\n",
            "Epoch [2/2] Step [800/1125] Loss: [0.5331] Train ACC [78.75%]\n",
            "Epoch [2/2] Step [820/1125] Loss: [0.7216] Train ACC [72.50%]\n",
            "Epoch [2/2] Step [840/1125] Loss: [0.8939] Train ACC [70.00%]\n",
            "Epoch [2/2] Step [860/1125] Loss: [0.6101] Train ACC [76.25%]\n",
            "Epoch [2/2] Step [880/1125] Loss: [0.5630] Train ACC [77.50%]\n",
            "Epoch [2/2] Step [900/1125] Loss: [0.5348] Train ACC [80.00%]\n",
            "Epoch [2/2] Step [920/1125] Loss: [0.5935] Train ACC [77.50%]\n",
            "Epoch [2/2] Step [940/1125] Loss: [0.5566] Train ACC [82.50%]\n",
            "Epoch [2/2] Step [960/1125] Loss: [0.5585] Train ACC [80.00%]\n",
            "Epoch [2/2] Step [980/1125] Loss: [0.4569] Train ACC [85.00%]\n",
            "Epoch [2/2] Step [1000/1125] Loss: [0.4760] Train ACC [85.00%]\n",
            "Epoch [2/2] Step [1020/1125] Loss: [0.7152] Train ACC [72.50%]\n",
            "Epoch [2/2] Step [1040/1125] Loss: [0.5218] Train ACC [82.50%]\n",
            "Epoch [2/2] Step [1060/1125] Loss: [0.7402] Train ACC [70.00%]\n",
            "Epoch [2/2] Step [1080/1125] Loss: [0.5614] Train ACC [85.00%]\n",
            "Epoch [2/2] Step [1100/1125] Loss: [0.4744] Train ACC [82.50%]\n",
            "Epoch [2/2] Step [1120/1125] Loss: [0.6206] Train ACC [77.50%]\n",
            "Epoch [2/2] Loss: [0.6407] Train ACC [76.29%]\n"
          ]
        }
      ]
    },
    {
      "cell_type": "code",
      "metadata": {
        "id": "UBQ3Zksh95q2",
        "outputId": "8c472d90-278a-4195-a865-1c6cfe28045d",
        "colab": {
          "base_uri": "https://localhost:8080/",
          "height": 281
        }
      },
      "source": [
        "plt.figure(figsize=(8,4))\n",
        "plt.plot(losses)\n",
        "plt.title('Loss graph')\n",
        "plt.show()"
      ],
      "execution_count": 33,
      "outputs": [
        {
          "output_type": "display_data",
          "data": {
            "image/png": "[encoded data removed]",
            "text/plain": [
              "<Figure size 576x288 with 1 Axes>"
            ]
          },
          "metadata": {
            "needs_background": "light"
          }
        }
      ]
    },
    {
      "cell_type": "code",
      "metadata": {
        "id": "J2xMV8PYlDsX",
        "outputId": "460859ca-287c-4da9-8ef5-fc694480ad91",
        "colab": {
          "base_uri": "https://localhost:8080/"
        }
      },
      "source": [
        "test_acc_list = []\n",
        "with torch.no_grad():\n",
        "    model.eval()\n",
        "    for X_batch, y_batch in test_loader:    \n",
        "        if torch.cuda.is_available():\n",
        "            X_batch = X_batch.cuda()\n",
        "            y_batch = y_batch.cuda()\n",
        "        \n",
        "        y_output = model(X_batch)\n",
        "        y_pred = torch.max(y_output, 1)[1]\n",
        "        \n",
        "        acc = ACC(y_batch.data.cpu(), y_pred.data.cpu())\n",
        "        test_acc_list.append(acc)\n",
        "    test_acc = np.mean(test_acc_list)\n",
        "print('Test ACC: [{:.2f}%]'.format(test_acc*100))"
      ],
      "execution_count": 34,
      "outputs": [
        {
          "output_type": "stream",
          "name": "stderr",
          "text": [
            "Token indices sequence length is longer than the specified maximum sequence length for this model (576 > 512). Running this sequence through the model will result in indexing errors\n",
            "Token indices sequence length is longer than the specified maximum sequence length for this model (572 > 512). Running this sequence through the model will result in indexing errors\n"
          ]
        },
        {
          "output_type": "stream",
          "name": "stdout",
          "text": [
            "Test ACC: [67.00%]\n"
          ]
        }
      ]
    },
    {
      "cell_type": "markdown",
      "metadata": {
        "id": "i2BbVC0Oaj9m"
      },
      "source": [
        "# 과제\n",
        "\n",
        "63% accuracy를 달성해보세요! (Hint: BERT를 낮은 learning rate로 학습해보세요.)"
      ]
    },
    {
      "cell_type": "code",
      "metadata": {
        "id": "Xia316RAaran"
      },
      "source": [
        ""
      ],
      "execution_count": null,
      "outputs": []
    }
  ]
}